{
  "nbformat": 4,
  "nbformat_minor": 0,
  "metadata": {
    "kernelspec": {
      "display_name": "Python 3",
      "language": "python",
      "name": "python3"
    },
    "language_info": {
      "codemirror_mode": {
        "name": "ipython",
        "version": 3
      },
      "file_extension": ".py",
      "mimetype": "text/x-python",
      "name": "python",
      "nbconvert_exporter": "python",
      "pygments_lexer": "ipython3",
      "version": "3.7.1"
    },
    "colab": {
      "name": "Assignment Spark Funds.ipynb",
      "provenance": []
    }
  },
  "cells": [
    {
      "cell_type": "code",
      "metadata": {
        "id": "Ja5LpES2O9PW"
      },
      "source": [
        "# Import pandas and numpy libraries\n",
        "import numpy as np\n",
        "import pandas as pd\n",
        "\n",
        "# Using encoding = \"ISO-8859-1\"\n",
        "# Load the companies and rounds data into two data frames and name them companies and rounds2 respectively.\n",
        "rounds2 = pd.read_csv(\"G:\\MLandAI\\Assignment_1/rounds2.csv\", encoding = \"ISO-8859-1\")\n",
        "companies = pd.read_csv(\"G:\\MLandAI\\Assignment_1/companies.txt\", sep=\"\\t\", encoding = \"ISO-8859-1\")"
      ],
      "execution_count": null,
      "outputs": []
    },
    {
      "cell_type": "code",
      "metadata": {
        "id": "CNHEvT0gO9Pe"
      },
      "source": [
        "# Convert unique column values to lowercase and rename company_permalink column in rounds2 to permalink to ease merging\n",
        "rounds2['permalink'] = rounds2['company_permalink'].str.lower()\n",
        "companies['permalink'] = companies['permalink'].str.lower()"
      ],
      "execution_count": null,
      "outputs": []
    },
    {
      "cell_type": "code",
      "metadata": {
        "id": "X1tgyhD0O9Pi",
        "outputId": "26d30378-0f5a-44f6-cfa6-b4bf18815b77"
      },
      "source": [
        "#How many unique companies are present in rounds2?\n",
        "len(rounds2['permalink'].unique())"
      ],
      "execution_count": null,
      "outputs": [
        {
          "output_type": "execute_result",
          "data": {
            "text/plain": [
              "66370"
            ]
          },
          "metadata": {
            "tags": []
          },
          "execution_count": 113
        }
      ]
    },
    {
      "cell_type": "code",
      "metadata": {
        "id": "eh2J9h3BO9Pp",
        "outputId": "1d797c7b-31da-44c1-8045-862d395fd9dd"
      },
      "source": [
        "#How many unique companies are present in companies?\n",
        "len(companies['permalink'].unique())"
      ],
      "execution_count": null,
      "outputs": [
        {
          "output_type": "execute_result",
          "data": {
            "text/plain": [
              "66368"
            ]
          },
          "metadata": {
            "tags": []
          },
          "execution_count": 114
        }
      ]
    },
    {
      "cell_type": "code",
      "metadata": {
        "id": "gVoYQFJsO9Pu",
        "outputId": "8d4ba26f-8ce2-4b98-8fa7-dcb9bab08891"
      },
      "source": [
        "# In the companies data frame, which column can be used as the unique key for each company? Write the name of the column.\n",
        "print(\"unique key for each company in companies data frame = permalink\")"
      ],
      "execution_count": null,
      "outputs": [
        {
          "output_type": "stream",
          "text": [
            "unique key for each company in companies data frame = permalink\n"
          ],
          "name": "stdout"
        }
      ]
    },
    {
      "cell_type": "code",
      "metadata": {
        "id": "vGXDKNowO9Py",
        "outputId": "24c3afed-92dc-411f-e4b7-990c9b85677a"
      },
      "source": [
        "#Are there any companies in the rounds2 file which are not present in companies\n",
        "rounds2_cp_lower_set = set(rounds2['permalink'])\n",
        "companies_p_lower_set = set(companies['permalink'])\n",
        "length = len(rounds2_cp_lower_set.difference(companies_p_lower_set )) # returns 7\n",
        "if length >=0:\n",
        "    print('Y')\n",
        "else:\n",
        "    print('N')"
      ],
      "execution_count": null,
      "outputs": [
        {
          "output_type": "stream",
          "text": [
            "Y\n"
          ],
          "name": "stdout"
        }
      ]
    },
    {
      "cell_type": "code",
      "metadata": {
        "id": "cwqpcbz1O9P3",
        "outputId": "364700ae-1b4c-47e9-c0d8-ba30f717802b"
      },
      "source": [
        "# Merge the two data frames so that all variables (columns) in the companies frame are added to the rounds2 data frame. \n",
        "# Name the merged frame master_frame. \n",
        "# How many observations are present in master_frame?Though a col is added to rounds2 while merging we are merging on 'permalink'. \n",
        "# So this coloumn in companies will not be printed again in master frame\n",
        "master_frame = pd.merge(rounds2, companies, how='inner', on = 'permalink')\n",
        "master_frame.head()"
      ],
      "execution_count": null,
      "outputs": [
        {
          "output_type": "execute_result",
          "data": {
            "text/html": [
              "<div>\n",
              "<style scoped>\n",
              "    .dataframe tbody tr th:only-of-type {\n",
              "        vertical-align: middle;\n",
              "    }\n",
              "\n",
              "    .dataframe tbody tr th {\n",
              "        vertical-align: top;\n",
              "    }\n",
              "\n",
              "    .dataframe thead th {\n",
              "        text-align: right;\n",
              "    }\n",
              "</style>\n",
              "<table border=\"1\" class=\"dataframe\">\n",
              "  <thead>\n",
              "    <tr style=\"text-align: right;\">\n",
              "      <th></th>\n",
              "      <th>company_permalink</th>\n",
              "      <th>funding_round_permalink</th>\n",
              "      <th>funding_round_type</th>\n",
              "      <th>funding_round_code</th>\n",
              "      <th>funded_at</th>\n",
              "      <th>raised_amount_usd</th>\n",
              "      <th>permalink</th>\n",
              "      <th>name</th>\n",
              "      <th>homepage_url</th>\n",
              "      <th>category_list</th>\n",
              "      <th>status</th>\n",
              "      <th>country_code</th>\n",
              "      <th>state_code</th>\n",
              "      <th>region</th>\n",
              "      <th>city</th>\n",
              "      <th>founded_at</th>\n",
              "    </tr>\n",
              "  </thead>\n",
              "  <tbody>\n",
              "    <tr>\n",
              "      <th>0</th>\n",
              "      <td>/organization/-fame</td>\n",
              "      <td>/funding-round/9a01d05418af9f794eebff7ace91f638</td>\n",
              "      <td>venture</td>\n",
              "      <td>B</td>\n",
              "      <td>05-01-2015</td>\n",
              "      <td>10,000,000.00</td>\n",
              "      <td>/organization/-fame</td>\n",
              "      <td>#fame</td>\n",
              "      <td>http://livfame.com</td>\n",
              "      <td>Media</td>\n",
              "      <td>operating</td>\n",
              "      <td>IND</td>\n",
              "      <td>16</td>\n",
              "      <td>Mumbai</td>\n",
              "      <td>Mumbai</td>\n",
              "      <td>NaN</td>\n",
              "    </tr>\n",
              "    <tr>\n",
              "      <th>1</th>\n",
              "      <td>/ORGANIZATION/-QOUNTER</td>\n",
              "      <td>/funding-round/22dacff496eb7acb2b901dec1dfe5633</td>\n",
              "      <td>venture</td>\n",
              "      <td>A</td>\n",
              "      <td>14-10-2014</td>\n",
              "      <td>nan</td>\n",
              "      <td>/organization/-qounter</td>\n",
              "      <td>:Qounter</td>\n",
              "      <td>http://www.qounter.com</td>\n",
              "      <td>Application Platforms|Real Time|Social Network...</td>\n",
              "      <td>operating</td>\n",
              "      <td>USA</td>\n",
              "      <td>DE</td>\n",
              "      <td>DE - Other</td>\n",
              "      <td>Delaware City</td>\n",
              "      <td>04-09-2014</td>\n",
              "    </tr>\n",
              "    <tr>\n",
              "      <th>2</th>\n",
              "      <td>/organization/-qounter</td>\n",
              "      <td>/funding-round/b44fbb94153f6cdef13083530bb48030</td>\n",
              "      <td>seed</td>\n",
              "      <td>NaN</td>\n",
              "      <td>01-03-2014</td>\n",
              "      <td>700,000.00</td>\n",
              "      <td>/organization/-qounter</td>\n",
              "      <td>:Qounter</td>\n",
              "      <td>http://www.qounter.com</td>\n",
              "      <td>Application Platforms|Real Time|Social Network...</td>\n",
              "      <td>operating</td>\n",
              "      <td>USA</td>\n",
              "      <td>DE</td>\n",
              "      <td>DE - Other</td>\n",
              "      <td>Delaware City</td>\n",
              "      <td>04-09-2014</td>\n",
              "    </tr>\n",
              "    <tr>\n",
              "      <th>3</th>\n",
              "      <td>/ORGANIZATION/-THE-ONE-OF-THEM-INC-</td>\n",
              "      <td>/funding-round/650b8f704416801069bb178a1418776b</td>\n",
              "      <td>venture</td>\n",
              "      <td>B</td>\n",
              "      <td>30-01-2014</td>\n",
              "      <td>3,406,878.00</td>\n",
              "      <td>/organization/-the-one-of-them-inc-</td>\n",
              "      <td>(THE) ONE of THEM,Inc.</td>\n",
              "      <td>http://oneofthem.jp</td>\n",
              "      <td>Apps|Games|Mobile</td>\n",
              "      <td>operating</td>\n",
              "      <td>NaN</td>\n",
              "      <td>NaN</td>\n",
              "      <td>NaN</td>\n",
              "      <td>NaN</td>\n",
              "      <td>NaN</td>\n",
              "    </tr>\n",
              "    <tr>\n",
              "      <th>4</th>\n",
              "      <td>/organization/0-6-com</td>\n",
              "      <td>/funding-round/5727accaeaa57461bd22a9bdd945382d</td>\n",
              "      <td>venture</td>\n",
              "      <td>A</td>\n",
              "      <td>19-03-2008</td>\n",
              "      <td>2,000,000.00</td>\n",
              "      <td>/organization/0-6-com</td>\n",
              "      <td>0-6.com</td>\n",
              "      <td>http://www.0-6.com</td>\n",
              "      <td>Curated Web</td>\n",
              "      <td>operating</td>\n",
              "      <td>CHN</td>\n",
              "      <td>22</td>\n",
              "      <td>Beijing</td>\n",
              "      <td>Beijing</td>\n",
              "      <td>01-01-2007</td>\n",
              "    </tr>\n",
              "  </tbody>\n",
              "</table>\n",
              "</div>"
            ],
            "text/plain": [
              "                     company_permalink  \\\n",
              "0                  /organization/-fame   \n",
              "1               /ORGANIZATION/-QOUNTER   \n",
              "2               /organization/-qounter   \n",
              "3  /ORGANIZATION/-THE-ONE-OF-THEM-INC-   \n",
              "4                /organization/0-6-com   \n",
              "\n",
              "                           funding_round_permalink funding_round_type  \\\n",
              "0  /funding-round/9a01d05418af9f794eebff7ace91f638            venture   \n",
              "1  /funding-round/22dacff496eb7acb2b901dec1dfe5633            venture   \n",
              "2  /funding-round/b44fbb94153f6cdef13083530bb48030               seed   \n",
              "3  /funding-round/650b8f704416801069bb178a1418776b            venture   \n",
              "4  /funding-round/5727accaeaa57461bd22a9bdd945382d            venture   \n",
              "\n",
              "  funding_round_code   funded_at  raised_amount_usd  \\\n",
              "0                  B  05-01-2015      10,000,000.00   \n",
              "1                  A  14-10-2014                nan   \n",
              "2                NaN  01-03-2014         700,000.00   \n",
              "3                  B  30-01-2014       3,406,878.00   \n",
              "4                  A  19-03-2008       2,000,000.00   \n",
              "\n",
              "                             permalink                    name  \\\n",
              "0                  /organization/-fame                   #fame   \n",
              "1               /organization/-qounter                :Qounter   \n",
              "2               /organization/-qounter                :Qounter   \n",
              "3  /organization/-the-one-of-them-inc-  (THE) ONE of THEM,Inc.   \n",
              "4                /organization/0-6-com                 0-6.com   \n",
              "\n",
              "             homepage_url                                      category_list  \\\n",
              "0      http://livfame.com                                              Media   \n",
              "1  http://www.qounter.com  Application Platforms|Real Time|Social Network...   \n",
              "2  http://www.qounter.com  Application Platforms|Real Time|Social Network...   \n",
              "3     http://oneofthem.jp                                  Apps|Games|Mobile   \n",
              "4      http://www.0-6.com                                        Curated Web   \n",
              "\n",
              "      status country_code state_code      region           city  founded_at  \n",
              "0  operating          IND         16      Mumbai         Mumbai         NaN  \n",
              "1  operating          USA         DE  DE - Other  Delaware City  04-09-2014  \n",
              "2  operating          USA         DE  DE - Other  Delaware City  04-09-2014  \n",
              "3  operating          NaN        NaN         NaN            NaN         NaN  \n",
              "4  operating          CHN         22     Beijing        Beijing  01-01-2007  "
            ]
          },
          "metadata": {
            "tags": []
          },
          "execution_count": 117
        }
      ]
    },
    {
      "cell_type": "code",
      "metadata": {
        "id": "7NwLzKF6O9P-",
        "outputId": "67791cac-a875-46e3-c575-c805bcbf83ff"
      },
      "source": [
        "master_frame.shape"
      ],
      "execution_count": null,
      "outputs": [
        {
          "output_type": "execute_result",
          "data": {
            "text/plain": [
              "(114942, 16)"
            ]
          },
          "metadata": {
            "tags": []
          },
          "execution_count": 118
        }
      ]
    },
    {
      "cell_type": "code",
      "metadata": {
        "id": "6nUlVe-mO9QC",
        "outputId": "593e80d5-e865-4bec-cf53-26f1da053d6c"
      },
      "source": [
        "print('Observations in master frame = 114942 entries')"
      ],
      "execution_count": null,
      "outputs": [
        {
          "output_type": "stream",
          "text": [
            "Observations in master frame = 114942 entries\n"
          ],
          "name": "stdout"
        }
      ]
    },
    {
      "cell_type": "code",
      "metadata": {
        "id": "lpIZgOwJO9QG",
        "outputId": "24e23cb7-c500-458f-ced3-a48ec45569bd"
      },
      "source": [
        "# Added\n",
        "print('Total investment across all funding types = ', master_frame.raised_amount_usd.sum())"
      ],
      "execution_count": null,
      "outputs": [
        {
          "output_type": "stream",
          "text": [
            "Total investment across all funding types =  990123459550.0\n"
          ],
          "name": "stdout"
        }
      ]
    },
    {
      "cell_type": "code",
      "metadata": {
        "id": "Yz30583lO9QK",
        "outputId": "15c8b111-681d-4775-a609-a3255ea01ff1"
      },
      "source": [
        "# Most representative value of the investment amount for each of the four funding types (venture, angel, seed, and private equity)\n",
        "# Set precision\n",
        "pd.set_option('display.precision',38)\n",
        "\n",
        "# Extract columns of interest from master_frame\n",
        "funding_type = master_frame.loc[:,['funding_round_type','raised_amount_usd']]\n",
        "\n",
        "# Extract rows with type seed, angel, venture and private_equity only and perform grouping\n",
        "funding_type_segment = funding_type.loc[funding_type['funding_round_type'].isin(['seed','venture','angel','private_equity'])]\n",
        "group_by_type = funding_type_segment.groupby('funding_round_type')\n",
        "\n",
        "# Find most representative value for each investment type\n",
        "pd.DataFrame(group_by_type.raised_amount_usd.mean().sort_values(ascending = False))"
      ],
      "execution_count": null,
      "outputs": [
        {
          "output_type": "execute_result",
          "data": {
            "text/html": [
              "<div>\n",
              "<style scoped>\n",
              "    .dataframe tbody tr th:only-of-type {\n",
              "        vertical-align: middle;\n",
              "    }\n",
              "\n",
              "    .dataframe tbody tr th {\n",
              "        vertical-align: top;\n",
              "    }\n",
              "\n",
              "    .dataframe thead th {\n",
              "        text-align: right;\n",
              "    }\n",
              "</style>\n",
              "<table border=\"1\" class=\"dataframe\">\n",
              "  <thead>\n",
              "    <tr style=\"text-align: right;\">\n",
              "      <th></th>\n",
              "      <th>raised_amount_usd</th>\n",
              "    </tr>\n",
              "    <tr>\n",
              "      <th>funding_round_type</th>\n",
              "      <th></th>\n",
              "    </tr>\n",
              "  </thead>\n",
              "  <tbody>\n",
              "    <tr>\n",
              "      <th>private_equity</th>\n",
              "      <td>73,308,593.03</td>\n",
              "    </tr>\n",
              "    <tr>\n",
              "      <th>venture</th>\n",
              "      <td>11,748,949.13</td>\n",
              "    </tr>\n",
              "    <tr>\n",
              "      <th>angel</th>\n",
              "      <td>958,694.47</td>\n",
              "    </tr>\n",
              "    <tr>\n",
              "      <th>seed</th>\n",
              "      <td>719,779.62</td>\n",
              "    </tr>\n",
              "  </tbody>\n",
              "</table>\n",
              "</div>"
            ],
            "text/plain": [
              "                    raised_amount_usd\n",
              "funding_round_type                   \n",
              "private_equity          73,308,593.03\n",
              "venture                 11,748,949.13\n",
              "angel                      958,694.47\n",
              "seed                       719,779.62"
            ]
          },
          "metadata": {
            "tags": []
          },
          "execution_count": 121
        }
      ]
    },
    {
      "cell_type": "code",
      "metadata": {
        "id": "XEqGID6OO9QO",
        "outputId": "d49b2539-b8c3-48f3-f0b8-193c4fb6f3af"
      },
      "source": [
        "print('private_equity = ', round(73308593.029442146420478820800781250000000,2))\n",
        "print('venture = ', round(11748949.129489528015255928039550781250000,2))\n",
        "print('angel = ', round(958694.469753086450509727001190185546875,2))\n",
        "print('seed = ', round(719779.620201677782461047172546386718750,2))"
      ],
      "execution_count": null,
      "outputs": [
        {
          "output_type": "stream",
          "text": [
            "private_equity =  73308593.03\n",
            "venture =  11748949.13\n",
            "angel =  958694.47\n",
            "seed =  719779.62\n"
          ],
          "name": "stdout"
        }
      ]
    },
    {
      "cell_type": "code",
      "metadata": {
        "id": "SksfY6mjO9QR",
        "outputId": "8977e2e7-e77b-4272-9a88-312d39daa4c8"
      },
      "source": [
        "# Added\n",
        "pd.DataFrame(group_by_type.raised_amount_usd.sum().sort_values(ascending = False))"
      ],
      "execution_count": null,
      "outputs": [
        {
          "output_type": "execute_result",
          "data": {
            "text/html": [
              "<div>\n",
              "<style scoped>\n",
              "    .dataframe tbody tr th:only-of-type {\n",
              "        vertical-align: middle;\n",
              "    }\n",
              "\n",
              "    .dataframe tbody tr th {\n",
              "        vertical-align: top;\n",
              "    }\n",
              "\n",
              "    .dataframe thead th {\n",
              "        text-align: right;\n",
              "    }\n",
              "</style>\n",
              "<table border=\"1\" class=\"dataframe\">\n",
              "  <thead>\n",
              "    <tr style=\"text-align: right;\">\n",
              "      <th></th>\n",
              "      <th>raised_amount_usd</th>\n",
              "    </tr>\n",
              "    <tr>\n",
              "      <th>funding_round_type</th>\n",
              "      <th></th>\n",
              "    </tr>\n",
              "  </thead>\n",
              "  <tbody>\n",
              "    <tr>\n",
              "      <th>venture</th>\n",
              "      <td>590,126,216,876.00</td>\n",
              "    </tr>\n",
              "    <tr>\n",
              "      <th>private_equity</th>\n",
              "      <td>141,925,436,105.00</td>\n",
              "    </tr>\n",
              "    <tr>\n",
              "      <th>seed</th>\n",
              "      <td>16,988,238,596.00</td>\n",
              "    </tr>\n",
              "    <tr>\n",
              "      <th>angel</th>\n",
              "      <td>4,659,255,123.00</td>\n",
              "    </tr>\n",
              "  </tbody>\n",
              "</table>\n",
              "</div>"
            ],
            "text/plain": [
              "                    raised_amount_usd\n",
              "funding_round_type                   \n",
              "venture            590,126,216,876.00\n",
              "private_equity     141,925,436,105.00\n",
              "seed                16,988,238,596.00\n",
              "angel                4,659,255,123.00"
            ]
          },
          "metadata": {
            "tags": []
          },
          "execution_count": 123
        }
      ]
    },
    {
      "cell_type": "code",
      "metadata": {
        "id": "JxX4L13vO9QU",
        "outputId": "54952db1-68a3-4edd-bb86-1792b2f9e539"
      },
      "source": [
        "print('Total funding in 4 investement types = ', funding_type_segment.raised_amount_usd.sum())"
      ],
      "execution_count": null,
      "outputs": [
        {
          "output_type": "stream",
          "text": [
            "Total funding in 4 investement types =  753699146700.0\n"
          ],
          "name": "stdout"
        }
      ]
    },
    {
      "cell_type": "code",
      "metadata": {
        "id": "THR3eJUgO9QZ",
        "outputId": "a1e66879-8137-4ea3-e0c3-519455112ea3"
      },
      "source": [
        "pd.DataFrame(group_by_type.raised_amount_usd.median().sort_values(ascending = False))"
      ],
      "execution_count": null,
      "outputs": [
        {
          "output_type": "execute_result",
          "data": {
            "text/html": [
              "<div>\n",
              "<style scoped>\n",
              "    .dataframe tbody tr th:only-of-type {\n",
              "        vertical-align: middle;\n",
              "    }\n",
              "\n",
              "    .dataframe tbody tr th {\n",
              "        vertical-align: top;\n",
              "    }\n",
              "\n",
              "    .dataframe thead th {\n",
              "        text-align: right;\n",
              "    }\n",
              "</style>\n",
              "<table border=\"1\" class=\"dataframe\">\n",
              "  <thead>\n",
              "    <tr style=\"text-align: right;\">\n",
              "      <th></th>\n",
              "      <th>raised_amount_usd</th>\n",
              "    </tr>\n",
              "    <tr>\n",
              "      <th>funding_round_type</th>\n",
              "      <th></th>\n",
              "    </tr>\n",
              "  </thead>\n",
              "  <tbody>\n",
              "    <tr>\n",
              "      <th>private_equity</th>\n",
              "      <td>20,000,000.00</td>\n",
              "    </tr>\n",
              "    <tr>\n",
              "      <th>venture</th>\n",
              "      <td>5,000,000.00</td>\n",
              "    </tr>\n",
              "    <tr>\n",
              "      <th>angel</th>\n",
              "      <td>400,000.00</td>\n",
              "    </tr>\n",
              "    <tr>\n",
              "      <th>seed</th>\n",
              "      <td>275,000.00</td>\n",
              "    </tr>\n",
              "  </tbody>\n",
              "</table>\n",
              "</div>"
            ],
            "text/plain": [
              "                    raised_amount_usd\n",
              "funding_round_type                   \n",
              "private_equity          20,000,000.00\n",
              "venture                  5,000,000.00\n",
              "angel                      400,000.00\n",
              "seed                       275,000.00"
            ]
          },
          "metadata": {
            "tags": []
          },
          "execution_count": 125
        }
      ]
    },
    {
      "cell_type": "code",
      "metadata": {
        "id": "Vxfvd2w0O9Qe"
      },
      "source": [
        "import matplotlib.pyplot as plt\n",
        "import seaborn as sns\n",
        "sns.set_style(\"whitegrid\")"
      ],
      "execution_count": null,
      "outputs": []
    },
    {
      "cell_type": "code",
      "metadata": {
        "id": "AG8TqMVZO9Qh",
        "outputId": "24146768-b9b1-4110-a34c-2bbd152bd84c"
      },
      "source": [
        "plt.figure(figsize=(10, 8))\n",
        "sns.barplot(x=master_frame['raised_amount_usd'], y= \"funding_round_type\", data= master_frame)\n",
        "plt.title(\"Total investment all funding types \")\n",
        "plt.show()"
      ],
      "execution_count": null,
      "outputs": [
        {
          "output_type": "display_data",
          "data": {
            "image/png": "[encoded data removed]",
            "text/plain": [
              "<Figure size 720x576 with 1 Axes>"
            ]
          },
          "metadata": {
            "tags": []
          }
        }
      ]
    },
    {
      "cell_type": "code",
      "metadata": {
        "id": "O36HN6LOO9Ql",
        "outputId": "2c0d79ce-d446-4da3-c099-05f03324481a"
      },
      "source": [
        "plt.figure(figsize=(5, 6))\n",
        "sns.barplot(y=master_frame['raised_amount_usd'], x= \"funding_round_type\", data= funding_type_segment)\n",
        "plt.title(\"Fraction of total investment in interested funding types\")\n",
        "plt.show()"
      ],
      "execution_count": null,
      "outputs": [
        {
          "output_type": "display_data",
          "data": {
            "image/png": "[encoded data removed]",
            "text/plain": [
              "<Figure size 360x432 with 1 Axes>"
            ]
          },
          "metadata": {
            "tags": []
          }
        }
      ]
    },
    {
      "cell_type": "code",
      "metadata": {
        "id": "scD4lEwhO9Qr",
        "outputId": "18c15c2b-633e-45ee-e49b-66cc29d59ed1"
      },
      "source": [
        "# Chart 1: funding type (FT) is best suited for Spark Funds\n",
        "plt.figure(figsize=(10, 6))\n",
        "plt.subplot(1, 2, 1)\n",
        "sns.countplot(x = \"funding_round_type\", data = funding_type_segment)\n",
        "plt.title(\"Number of Investments in each Funding Type\")\n",
        "plt.subplot(1, 2, 2)\n",
        "sns.barplot(y='raised_amount_usd', x=\"funding_round_type\", data=funding_type_segment, estimator=np.mean)\n",
        "plt.title(\"Mean/Average\")\n",
        "plt.show()"
      ],
      "execution_count": null,
      "outputs": [
        {
          "output_type": "display_data",
          "data": {
            "image/png": "[encoded data removed]",
            "text/plain": [
              "<Figure size 720x432 with 2 Axes>"
            ]
          },
          "metadata": {
            "tags": []
          }
        }
      ]
    },
    {
      "cell_type": "code",
      "metadata": {
        "id": "S5wZQBuwO9Qw",
        "outputId": "b7828148-7adf-41e3-d094-86e3ac7390d9"
      },
      "source": [
        "#Detailed information on master frame\n",
        "master_frame.info()"
      ],
      "execution_count": null,
      "outputs": [
        {
          "output_type": "stream",
          "text": [
            "<class 'pandas.core.frame.DataFrame'>\n",
            "Int64Index: 114942 entries, 0 to 114941\n",
            "Data columns (total 16 columns):\n",
            "company_permalink          114942 non-null object\n",
            "funding_round_permalink    114942 non-null object\n",
            "funding_round_type         114942 non-null object\n",
            "funding_round_code         31139 non-null object\n",
            "funded_at                  114942 non-null object\n",
            "raised_amount_usd          94958 non-null float64\n",
            "permalink                  114942 non-null object\n",
            "name                       114941 non-null object\n",
            "homepage_url               108810 non-null object\n",
            "category_list              111535 non-null object\n",
            "status                     114942 non-null object\n",
            "country_code               106271 non-null object\n",
            "state_code                 104003 non-null object\n",
            "region                     104782 non-null object\n",
            "city                       104785 non-null object\n",
            "founded_at                 94422 non-null object\n",
            "dtypes: float64(1), object(15)\n",
            "memory usage: 19.9+ MB\n"
          ],
          "name": "stdout"
        }
      ]
    },
    {
      "cell_type": "code",
      "metadata": {
        "id": "o-CSAhZZO9Qz",
        "outputId": "f22ba7e2-9656-4705-b01b-6e09eb8ee82f"
      },
      "source": [
        "#Check the number of null entries in each column\n",
        "master_frame.isnull().sum()"
      ],
      "execution_count": null,
      "outputs": [
        {
          "output_type": "execute_result",
          "data": {
            "text/plain": [
              "company_permalink              0\n",
              "funding_round_permalink        0\n",
              "funding_round_type             0\n",
              "funding_round_code         83803\n",
              "funded_at                      0\n",
              "raised_amount_usd          19984\n",
              "permalink                      0\n",
              "name                           1\n",
              "homepage_url                6132\n",
              "category_list               3407\n",
              "status                         0\n",
              "country_code                8671\n",
              "state_code                 10939\n",
              "region                     10160\n",
              "city                       10157\n",
              "founded_at                 20520\n",
              "dtype: int64"
            ]
          },
          "metadata": {
            "tags": []
          },
          "execution_count": 131
        }
      ]
    },
    {
      "cell_type": "code",
      "metadata": {
        "id": "nugEeTihO9Q3",
        "outputId": "bcbb31d0-fe55-4d42-eba1-6d7ef4fceb94"
      },
      "source": [
        "# Percentage wise missing data\n",
        "pd.set_option('display.precision',5)\n",
        "round(100*(master_frame.isnull().sum()/len(master_frame.index)), 2)"
      ],
      "execution_count": null,
      "outputs": [
        {
          "output_type": "execute_result",
          "data": {
            "text/plain": [
              "company_permalink          0.00\n",
              "funding_round_permalink    0.00\n",
              "funding_round_type         0.00\n",
              "funding_round_code        72.91\n",
              "funded_at                  0.00\n",
              "raised_amount_usd         17.39\n",
              "permalink                  0.00\n",
              "name                       0.00\n",
              "homepage_url               5.33\n",
              "category_list              2.96\n",
              "status                     0.00\n",
              "country_code               7.54\n",
              "state_code                 9.52\n",
              "region                     8.84\n",
              "city                       8.84\n",
              "founded_at                17.85\n",
              "dtype: float64"
            ]
          },
          "metadata": {
            "tags": []
          },
          "execution_count": 132
        }
      ]
    },
    {
      "cell_type": "code",
      "metadata": {
        "id": "SipOAYPVO9Q6",
        "outputId": "07e0bf30-a258-4aae-82c8-aaa5bfbb75db"
      },
      "source": [
        "#Removing the unwanted columns. These do not contribute much to analysis asked for, 73%, 18%\n",
        "master_frame = master_frame.drop('funding_round_code', axis=1)\n",
        "master_frame = master_frame.drop('founded_at', axis=1)\n",
        "master_frame = master_frame.drop('company_permalink', axis=1)\n",
        "master_frame = master_frame.drop('homepage_url', axis=1)\n",
        "master_frame = master_frame.drop('state_code', axis=1)\n",
        "master_frame = master_frame.drop('region', axis=1)\n",
        "master_frame = master_frame.drop('city', axis=1)\n",
        "# percentage wise missing values once we drop unwanted columns \n",
        "round(100*(master_frame.isnull().sum()/len(master_frame.index)), 2)"
      ],
      "execution_count": null,
      "outputs": [
        {
          "output_type": "execute_result",
          "data": {
            "text/plain": [
              "funding_round_permalink    0.00\n",
              "funding_round_type         0.00\n",
              "funded_at                  0.00\n",
              "raised_amount_usd         17.39\n",
              "permalink                  0.00\n",
              "name                       0.00\n",
              "category_list              2.96\n",
              "status                     0.00\n",
              "country_code               7.54\n",
              "dtype: float64"
            ]
          },
          "metadata": {
            "tags": []
          },
          "execution_count": 133
        }
      ]
    },
    {
      "cell_type": "code",
      "metadata": {
        "id": "OzaYyklEO9Q-"
      },
      "source": [
        "# Brounght up\n",
        "# Rows with NaN values in raised amount usd coloumn do not contribute to analysis. So we delete them\n",
        "master_frame = master_frame[~np.isnan(master_frame['raised_amount_usd'])]"
      ],
      "execution_count": null,
      "outputs": []
    },
    {
      "cell_type": "code",
      "metadata": {
        "id": "UXqbaKauO9RD",
        "outputId": "91e424c4-ae2a-4111-914e-f4f1541e4fe5"
      },
      "source": [
        "#Changed name here\n",
        "# To see the top nine countries which have received the highest total funding (across ALL sectors for the chosen investment type\n",
        "#To find countries with highest USD raised in venture type investment. Only top 9 are displayed\n",
        "# These countries are choosen to construct dataframe top9\n",
        "pd.set_option('display.precision',40)\n",
        "master_frame= master_frame.loc[master_frame['funding_round_type'].isin(['venture'])]\n",
        "master_frame_bycode = master_frame.groupby('country_code')\n",
        "top9_investment_based = pd.DataFrame(master_frame_bycode['raised_amount_usd'].sum().sort_values(ascending = False).head(9))\n",
        "top9_investment_based"
      ],
      "execution_count": null,
      "outputs": [
        {
          "output_type": "execute_result",
          "data": {
            "text/html": [
              "<div>\n",
              "<style scoped>\n",
              "    .dataframe tbody tr th:only-of-type {\n",
              "        vertical-align: middle;\n",
              "    }\n",
              "\n",
              "    .dataframe tbody tr th {\n",
              "        vertical-align: top;\n",
              "    }\n",
              "\n",
              "    .dataframe thead th {\n",
              "        text-align: right;\n",
              "    }\n",
              "</style>\n",
              "<table border=\"1\" class=\"dataframe\">\n",
              "  <thead>\n",
              "    <tr style=\"text-align: right;\">\n",
              "      <th></th>\n",
              "      <th>raised_amount_usd</th>\n",
              "    </tr>\n",
              "    <tr>\n",
              "      <th>country_code</th>\n",
              "      <th></th>\n",
              "    </tr>\n",
              "  </thead>\n",
              "  <tbody>\n",
              "    <tr>\n",
              "      <th>USA</th>\n",
              "      <td>422,510,842,796.00</td>\n",
              "    </tr>\n",
              "    <tr>\n",
              "      <th>CHN</th>\n",
              "      <td>39,835,418,773.00</td>\n",
              "    </tr>\n",
              "    <tr>\n",
              "      <th>GBR</th>\n",
              "      <td>20,245,627,416.00</td>\n",
              "    </tr>\n",
              "    <tr>\n",
              "      <th>IND</th>\n",
              "      <td>14,391,858,718.00</td>\n",
              "    </tr>\n",
              "    <tr>\n",
              "      <th>CAN</th>\n",
              "      <td>9,583,332,317.00</td>\n",
              "    </tr>\n",
              "    <tr>\n",
              "      <th>FRA</th>\n",
              "      <td>7,259,536,732.00</td>\n",
              "    </tr>\n",
              "    <tr>\n",
              "      <th>ISR</th>\n",
              "      <td>6,907,514,579.00</td>\n",
              "    </tr>\n",
              "    <tr>\n",
              "      <th>DEU</th>\n",
              "      <td>6,346,959,822.00</td>\n",
              "    </tr>\n",
              "    <tr>\n",
              "      <th>JPN</th>\n",
              "      <td>3,363,676,611.00</td>\n",
              "    </tr>\n",
              "  </tbody>\n",
              "</table>\n",
              "</div>"
            ],
            "text/plain": [
              "              raised_amount_usd\n",
              "country_code                   \n",
              "USA          422,510,842,796.00\n",
              "CHN           39,835,418,773.00\n",
              "GBR           20,245,627,416.00\n",
              "IND           14,391,858,718.00\n",
              "CAN            9,583,332,317.00\n",
              "FRA            7,259,536,732.00\n",
              "ISR            6,907,514,579.00\n",
              "DEU            6,346,959,822.00\n",
              "JPN            3,363,676,611.00"
            ]
          },
          "metadata": {
            "tags": []
          },
          "execution_count": 135
        }
      ]
    },
    {
      "cell_type": "code",
      "metadata": {
        "id": "JT84AbSdO9RH",
        "outputId": "eed29eeb-f103-440c-e80c-ab0ccde0259e"
      },
      "source": [
        "#Brought up\n",
        "# Extract primary sector from category list. New column primary_sector is added at the end\n",
        "master_frame['primary_sector'] = master_frame['category_list'].str.split(\"|\", n=1,expand= True)[0]\n",
        "#  For computation ease convert all primary_sector names to lower\n",
        "master_frame['primary_sector'] = master_frame['primary_sector'].str.lower()\n",
        "master_frame.head()"
      ],
      "execution_count": null,
      "outputs": [
        {
          "output_type": "execute_result",
          "data": {
            "text/html": [
              "<div>\n",
              "<style scoped>\n",
              "    .dataframe tbody tr th:only-of-type {\n",
              "        vertical-align: middle;\n",
              "    }\n",
              "\n",
              "    .dataframe tbody tr th {\n",
              "        vertical-align: top;\n",
              "    }\n",
              "\n",
              "    .dataframe thead th {\n",
              "        text-align: right;\n",
              "    }\n",
              "</style>\n",
              "<table border=\"1\" class=\"dataframe\">\n",
              "  <thead>\n",
              "    <tr style=\"text-align: right;\">\n",
              "      <th></th>\n",
              "      <th>funding_round_permalink</th>\n",
              "      <th>funding_round_type</th>\n",
              "      <th>funded_at</th>\n",
              "      <th>raised_amount_usd</th>\n",
              "      <th>permalink</th>\n",
              "      <th>name</th>\n",
              "      <th>category_list</th>\n",
              "      <th>status</th>\n",
              "      <th>country_code</th>\n",
              "      <th>primary_sector</th>\n",
              "    </tr>\n",
              "  </thead>\n",
              "  <tbody>\n",
              "    <tr>\n",
              "      <th>0</th>\n",
              "      <td>/funding-round/9a01d05418af9f794eebff7ace91f638</td>\n",
              "      <td>venture</td>\n",
              "      <td>05-01-2015</td>\n",
              "      <td>10,000,000.00</td>\n",
              "      <td>/organization/-fame</td>\n",
              "      <td>#fame</td>\n",
              "      <td>Media</td>\n",
              "      <td>operating</td>\n",
              "      <td>IND</td>\n",
              "      <td>media</td>\n",
              "    </tr>\n",
              "    <tr>\n",
              "      <th>3</th>\n",
              "      <td>/funding-round/650b8f704416801069bb178a1418776b</td>\n",
              "      <td>venture</td>\n",
              "      <td>30-01-2014</td>\n",
              "      <td>3,406,878.00</td>\n",
              "      <td>/organization/-the-one-of-them-inc-</td>\n",
              "      <td>(THE) ONE of THEM,Inc.</td>\n",
              "      <td>Apps|Games|Mobile</td>\n",
              "      <td>operating</td>\n",
              "      <td>NaN</td>\n",
              "      <td>apps</td>\n",
              "    </tr>\n",
              "    <tr>\n",
              "      <th>4</th>\n",
              "      <td>/funding-round/5727accaeaa57461bd22a9bdd945382d</td>\n",
              "      <td>venture</td>\n",
              "      <td>19-03-2008</td>\n",
              "      <td>2,000,000.00</td>\n",
              "      <td>/organization/0-6-com</td>\n",
              "      <td>0-6.com</td>\n",
              "      <td>Curated Web</td>\n",
              "      <td>operating</td>\n",
              "      <td>CHN</td>\n",
              "      <td>curated web</td>\n",
              "    </tr>\n",
              "    <tr>\n",
              "      <th>8</th>\n",
              "      <td>/funding-round/954b9499724b946ad8c396a57a5f3b72</td>\n",
              "      <td>venture</td>\n",
              "      <td>21-12-2009</td>\n",
              "      <td>719,491.00</td>\n",
              "      <td>/organization/0ndine-biomedical-inc</td>\n",
              "      <td>Ondine Biomedical Inc.</td>\n",
              "      <td>Biotechnology</td>\n",
              "      <td>operating</td>\n",
              "      <td>CAN</td>\n",
              "      <td>biotechnology</td>\n",
              "    </tr>\n",
              "    <tr>\n",
              "      <th>10</th>\n",
              "      <td>/funding-round/3bb2ee4a2d89251a10aaa735b1180e44</td>\n",
              "      <td>venture</td>\n",
              "      <td>09-11-2015</td>\n",
              "      <td>20,000,000.00</td>\n",
              "      <td>/organization/0xdata</td>\n",
              "      <td>H2O.ai</td>\n",
              "      <td>Analytics</td>\n",
              "      <td>operating</td>\n",
              "      <td>USA</td>\n",
              "      <td>analytics</td>\n",
              "    </tr>\n",
              "  </tbody>\n",
              "</table>\n",
              "</div>"
            ],
            "text/plain": [
              "                            funding_round_permalink funding_round_type  \\\n",
              "0   /funding-round/9a01d05418af9f794eebff7ace91f638            venture   \n",
              "3   /funding-round/650b8f704416801069bb178a1418776b            venture   \n",
              "4   /funding-round/5727accaeaa57461bd22a9bdd945382d            venture   \n",
              "8   /funding-round/954b9499724b946ad8c396a57a5f3b72            venture   \n",
              "10  /funding-round/3bb2ee4a2d89251a10aaa735b1180e44            venture   \n",
              "\n",
              "     funded_at  raised_amount_usd                            permalink  \\\n",
              "0   05-01-2015      10,000,000.00                  /organization/-fame   \n",
              "3   30-01-2014       3,406,878.00  /organization/-the-one-of-them-inc-   \n",
              "4   19-03-2008       2,000,000.00                /organization/0-6-com   \n",
              "8   21-12-2009         719,491.00  /organization/0ndine-biomedical-inc   \n",
              "10  09-11-2015      20,000,000.00                 /organization/0xdata   \n",
              "\n",
              "                      name      category_list     status country_code  \\\n",
              "0                    #fame              Media  operating          IND   \n",
              "3   (THE) ONE of THEM,Inc.  Apps|Games|Mobile  operating          NaN   \n",
              "4                  0-6.com        Curated Web  operating          CHN   \n",
              "8   Ondine Biomedical Inc.      Biotechnology  operating          CAN   \n",
              "10                  H2O.ai          Analytics  operating          USA   \n",
              "\n",
              "   primary_sector  \n",
              "0           media  \n",
              "3            apps  \n",
              "4     curated web  \n",
              "8   biotechnology  \n",
              "10      analytics  "
            ]
          },
          "metadata": {
            "tags": []
          },
          "execution_count": 136
        }
      ]
    },
    {
      "cell_type": "code",
      "metadata": {
        "id": "4a9y_RpqO9RK",
        "outputId": "de627404-6a06-42f0-cb4e-cd41fe37d8b6"
      },
      "source": [
        "#Changed name here\n",
        "#For the chosen investment type, make a data frame named top9 with the top nine countries \n",
        "#(based on the total investment amount each country has received)\n",
        "top9= master_frame[master_frame['country_code'].isin(['USA','CHN','GBR','IND','CAN','FRA','ISR','DEU','JPN'])]\n",
        "top9"
      ],
      "execution_count": null,
      "outputs": [
        {
          "output_type": "execute_result",
          "data": {
            "text/html": [
              "<div>\n",
              "<style scoped>\n",
              "    .dataframe tbody tr th:only-of-type {\n",
              "        vertical-align: middle;\n",
              "    }\n",
              "\n",
              "    .dataframe tbody tr th {\n",
              "        vertical-align: top;\n",
              "    }\n",
              "\n",
              "    .dataframe thead th {\n",
              "        text-align: right;\n",
              "    }\n",
              "</style>\n",
              "<table border=\"1\" class=\"dataframe\">\n",
              "  <thead>\n",
              "    <tr style=\"text-align: right;\">\n",
              "      <th></th>\n",
              "      <th>funding_round_permalink</th>\n",
              "      <th>funding_round_type</th>\n",
              "      <th>funded_at</th>\n",
              "      <th>raised_amount_usd</th>\n",
              "      <th>permalink</th>\n",
              "      <th>name</th>\n",
              "      <th>category_list</th>\n",
              "      <th>status</th>\n",
              "      <th>country_code</th>\n",
              "      <th>primary_sector</th>\n",
              "    </tr>\n",
              "  </thead>\n",
              "  <tbody>\n",
              "    <tr>\n",
              "      <th>0</th>\n",
              "      <td>/funding-round/9a01d05418af9f794eebff7ace91f638</td>\n",
              "      <td>venture</td>\n",
              "      <td>05-01-2015</td>\n",
              "      <td>10,000,000.00</td>\n",
              "      <td>/organization/-fame</td>\n",
              "      <td>#fame</td>\n",
              "      <td>Media</td>\n",
              "      <td>operating</td>\n",
              "      <td>IND</td>\n",
              "      <td>media</td>\n",
              "    </tr>\n",
              "    <tr>\n",
              "      <th>4</th>\n",
              "      <td>/funding-round/5727accaeaa57461bd22a9bdd945382d</td>\n",
              "      <td>venture</td>\n",
              "      <td>19-03-2008</td>\n",
              "      <td>2,000,000.00</td>\n",
              "      <td>/organization/0-6-com</td>\n",
              "      <td>0-6.com</td>\n",
              "      <td>Curated Web</td>\n",
              "      <td>operating</td>\n",
              "      <td>CHN</td>\n",
              "      <td>curated web</td>\n",
              "    </tr>\n",
              "    <tr>\n",
              "      <th>8</th>\n",
              "      <td>/funding-round/954b9499724b946ad8c396a57a5f3b72</td>\n",
              "      <td>venture</td>\n",
              "      <td>21-12-2009</td>\n",
              "      <td>719,491.00</td>\n",
              "      <td>/organization/0ndine-biomedical-inc</td>\n",
              "      <td>Ondine Biomedical Inc.</td>\n",
              "      <td>Biotechnology</td>\n",
              "      <td>operating</td>\n",
              "      <td>CAN</td>\n",
              "      <td>biotechnology</td>\n",
              "    </tr>\n",
              "    <tr>\n",
              "      <th>10</th>\n",
              "      <td>/funding-round/3bb2ee4a2d89251a10aaa735b1180e44</td>\n",
              "      <td>venture</td>\n",
              "      <td>09-11-2015</td>\n",
              "      <td>20,000,000.00</td>\n",
              "      <td>/organization/0xdata</td>\n",
              "      <td>H2O.ai</td>\n",
              "      <td>Analytics</td>\n",
              "      <td>operating</td>\n",
              "      <td>USA</td>\n",
              "      <td>analytics</td>\n",
              "    </tr>\n",
              "    <tr>\n",
              "      <th>11</th>\n",
              "      <td>/funding-round/ae2a174c06517c2394aed45006322a7e</td>\n",
              "      <td>venture</td>\n",
              "      <td>03-01-2013</td>\n",
              "      <td>1,700,000.00</td>\n",
              "      <td>/organization/0xdata</td>\n",
              "      <td>H2O.ai</td>\n",
              "      <td>Analytics</td>\n",
              "      <td>operating</td>\n",
              "      <td>USA</td>\n",
              "      <td>analytics</td>\n",
              "    </tr>\n",
              "    <tr>\n",
              "      <th>12</th>\n",
              "      <td>/funding-round/e1cfcbe1bdf4c70277c5f29a3482f24e</td>\n",
              "      <td>venture</td>\n",
              "      <td>19-07-2014</td>\n",
              "      <td>8,900,000.00</td>\n",
              "      <td>/organization/0xdata</td>\n",
              "      <td>H2O.ai</td>\n",
              "      <td>Analytics</td>\n",
              "      <td>operating</td>\n",
              "      <td>USA</td>\n",
              "      <td>analytics</td>\n",
              "    </tr>\n",
              "    <tr>\n",
              "      <th>22</th>\n",
              "      <td>/funding-round/b952cbaf401f310927430c97b68162ea</td>\n",
              "      <td>venture</td>\n",
              "      <td>17-03-2015</td>\n",
              "      <td>5,000,000.00</td>\n",
              "      <td>/organization/1-mainstream</td>\n",
              "      <td>1 Mainstream</td>\n",
              "      <td>Apps|Cable|Distribution|Software</td>\n",
              "      <td>acquired</td>\n",
              "      <td>USA</td>\n",
              "      <td>apps</td>\n",
              "    </tr>\n",
              "    <tr>\n",
              "      <th>28</th>\n",
              "      <td>/funding-round/0faccbbcc5818dc5326469f13f5a8ac8</td>\n",
              "      <td>venture</td>\n",
              "      <td>09-10-2014</td>\n",
              "      <td>4,000,000.00</td>\n",
              "      <td>/organization/10-minutes-with</td>\n",
              "      <td>10 Minutes With</td>\n",
              "      <td>Education</td>\n",
              "      <td>operating</td>\n",
              "      <td>GBR</td>\n",
              "      <td>education</td>\n",
              "    </tr>\n",
              "    <tr>\n",
              "      <th>34</th>\n",
              "      <td>/funding-round/502bd0e50c27616995e4bdad24605ef8</td>\n",
              "      <td>venture</td>\n",
              "      <td>16-02-2011</td>\n",
              "      <td>2,520,000.00</td>\n",
              "      <td>/organization/1000memories</td>\n",
              "      <td>1000memories</td>\n",
              "      <td>Curated Web</td>\n",
              "      <td>acquired</td>\n",
              "      <td>USA</td>\n",
              "      <td>curated web</td>\n",
              "    </tr>\n",
              "    <tr>\n",
              "      <th>38</th>\n",
              "      <td>/funding-round/13be128d655076a025221d7fddc90d68</td>\n",
              "      <td>venture</td>\n",
              "      <td>14-10-2009</td>\n",
              "      <td>265,940.00</td>\n",
              "      <td>/organization/1000museums-com</td>\n",
              "      <td>1000museums.com</td>\n",
              "      <td>Curated Web</td>\n",
              "      <td>operating</td>\n",
              "      <td>USA</td>\n",
              "      <td>curated web</td>\n",
              "    </tr>\n",
              "    <tr>\n",
              "      <th>39</th>\n",
              "      <td>/funding-round/6aeb32ab3fc05db2b606d7a2466e8c09</td>\n",
              "      <td>venture</td>\n",
              "      <td>15-01-2014</td>\n",
              "      <td>2,906,832.00</td>\n",
              "      <td>/organization/1000museums-com</td>\n",
              "      <td>1000museums.com</td>\n",
              "      <td>Curated Web</td>\n",
              "      <td>operating</td>\n",
              "      <td>USA</td>\n",
              "      <td>curated web</td>\n",
              "    </tr>\n",
              "    <tr>\n",
              "      <th>41</th>\n",
              "      <td>/funding-round/89317984885b44f02e4befb9dc2e588c</td>\n",
              "      <td>venture</td>\n",
              "      <td>01-08-2014</td>\n",
              "      <td>1,500,000.00</td>\n",
              "      <td>/organization/1000museums-com</td>\n",
              "      <td>1000museums.com</td>\n",
              "      <td>Curated Web</td>\n",
              "      <td>operating</td>\n",
              "      <td>USA</td>\n",
              "      <td>curated web</td>\n",
              "    </tr>\n",
              "    <tr>\n",
              "      <th>44</th>\n",
              "      <td>/funding-round/fd1b3064232ba9b3cfb5653a619e82e8</td>\n",
              "      <td>venture</td>\n",
              "      <td>05-04-2011</td>\n",
              "      <td>642,000.00</td>\n",
              "      <td>/organization/1000museums-com</td>\n",
              "      <td>1000museums.com</td>\n",
              "      <td>Curated Web</td>\n",
              "      <td>operating</td>\n",
              "      <td>USA</td>\n",
              "      <td>curated web</td>\n",
              "    </tr>\n",
              "    <tr>\n",
              "      <th>46</th>\n",
              "      <td>/funding-round/645b4cd895450b8e0268027cd7813047</td>\n",
              "      <td>venture</td>\n",
              "      <td>04-11-2015</td>\n",
              "      <td>6,602,694.00</td>\n",
              "      <td>/organization/1001-menus</td>\n",
              "      <td>ZenChef</td>\n",
              "      <td>Local Businesses|Restaurants</td>\n",
              "      <td>operating</td>\n",
              "      <td>FRA</td>\n",
              "      <td>local businesses</td>\n",
              "    </tr>\n",
              "    <tr>\n",
              "      <th>47</th>\n",
              "      <td>/funding-round/8025123b90c1ab687f9857ffe18bfd3b</td>\n",
              "      <td>venture</td>\n",
              "      <td>13-11-2013</td>\n",
              "      <td>1,736,910.00</td>\n",
              "      <td>/organization/1001-menus</td>\n",
              "      <td>ZenChef</td>\n",
              "      <td>Local Businesses|Restaurants</td>\n",
              "      <td>operating</td>\n",
              "      <td>FRA</td>\n",
              "      <td>local businesses</td>\n",
              "    </tr>\n",
              "    <tr>\n",
              "      <th>49</th>\n",
              "      <td>/funding-round/b6c28ea4ebe32db7083052cf87e7c368</td>\n",
              "      <td>venture</td>\n",
              "      <td>25-10-2013</td>\n",
              "      <td>1,800,000.00</td>\n",
              "      <td>/organization/1001-menus</td>\n",
              "      <td>ZenChef</td>\n",
              "      <td>Local Businesses|Restaurants</td>\n",
              "      <td>operating</td>\n",
              "      <td>FRA</td>\n",
              "      <td>local businesses</td>\n",
              "    </tr>\n",
              "    <tr>\n",
              "      <th>50</th>\n",
              "      <td>/funding-round/a21fc4d20200f43e3a25fd9cfc7c1482</td>\n",
              "      <td>venture</td>\n",
              "      <td>09-07-2015</td>\n",
              "      <td>8,900,000.00</td>\n",
              "      <td>/organization/1001pharmacies-com</td>\n",
              "      <td>1001pharmacies.com</td>\n",
              "      <td>Cosmetics|Marketplaces</td>\n",
              "      <td>operating</td>\n",
              "      <td>FRA</td>\n",
              "      <td>cosmetics</td>\n",
              "    </tr>\n",
              "    <tr>\n",
              "      <th>52</th>\n",
              "      <td>/funding-round/b6aeb7401ec6993f92a16cbca153b600</td>\n",
              "      <td>venture</td>\n",
              "      <td>31-07-2014</td>\n",
              "      <td>10,000,000.00</td>\n",
              "      <td>/organization/1006-tv</td>\n",
              "      <td>1006.tv</td>\n",
              "      <td>Games|Media</td>\n",
              "      <td>operating</td>\n",
              "      <td>CHN</td>\n",
              "      <td>games</td>\n",
              "    </tr>\n",
              "    <tr>\n",
              "      <th>55</th>\n",
              "      <td>/funding-round/8797d60368bb0227f0d0ab4c72aef886</td>\n",
              "      <td>venture</td>\n",
              "      <td>07-01-2008</td>\n",
              "      <td>3,000,000.00</td>\n",
              "      <td>/organization/100du-tv</td>\n",
              "      <td>100du.tv</td>\n",
              "      <td>Hospitality</td>\n",
              "      <td>operating</td>\n",
              "      <td>CHN</td>\n",
              "      <td>hospitality</td>\n",
              "    </tr>\n",
              "    <tr>\n",
              "      <th>56</th>\n",
              "      <td>/funding-round/22a86670d1055d7bafce665b27e91871</td>\n",
              "      <td>venture</td>\n",
              "      <td>01-01-2006</td>\n",
              "      <td>3,000,000.00</td>\n",
              "      <td>/organization/100e-com</td>\n",
              "      <td>100e.com</td>\n",
              "      <td>Education</td>\n",
              "      <td>operating</td>\n",
              "      <td>CHN</td>\n",
              "      <td>education</td>\n",
              "    </tr>\n",
              "    <tr>\n",
              "      <th>57</th>\n",
              "      <td>/funding-round/a136f7eb873dfb13cec839fef7d7f51e</td>\n",
              "      <td>venture</td>\n",
              "      <td>01-09-2006</td>\n",
              "      <td>1,500,000.00</td>\n",
              "      <td>/organization/100e-com</td>\n",
              "      <td>100e.com</td>\n",
              "      <td>Education</td>\n",
              "      <td>operating</td>\n",
              "      <td>CHN</td>\n",
              "      <td>education</td>\n",
              "    </tr>\n",
              "    <tr>\n",
              "      <th>59</th>\n",
              "      <td>/funding-round/502f558bee350299fd1ae503e5b9a124</td>\n",
              "      <td>venture</td>\n",
              "      <td>20-10-2015</td>\n",
              "      <td>3,530,000.00</td>\n",
              "      <td>/organization/100health</td>\n",
              "      <td>Redox</td>\n",
              "      <td>Health Care|Health Care Information Technology...</td>\n",
              "      <td>operating</td>\n",
              "      <td>USA</td>\n",
              "      <td>health care</td>\n",
              "    </tr>\n",
              "    <tr>\n",
              "      <th>61</th>\n",
              "      <td>/funding-round/b5facb0d9dea2f0352b5834892c88c53</td>\n",
              "      <td>venture</td>\n",
              "      <td>02-11-2011</td>\n",
              "      <td>500,000.00</td>\n",
              "      <td>/organization/100plus</td>\n",
              "      <td>100Plus</td>\n",
              "      <td>Analytics</td>\n",
              "      <td>acquired</td>\n",
              "      <td>USA</td>\n",
              "      <td>analytics</td>\n",
              "    </tr>\n",
              "    <tr>\n",
              "      <th>62</th>\n",
              "      <td>/funding-round/482fbf992b48f5c47d0080ab7ec0cb54</td>\n",
              "      <td>venture</td>\n",
              "      <td>08-03-2010</td>\n",
              "      <td>35,000,000.00</td>\n",
              "      <td>/organization/1010data</td>\n",
              "      <td>1010data</td>\n",
              "      <td>Software</td>\n",
              "      <td>acquired</td>\n",
              "      <td>USA</td>\n",
              "      <td>software</td>\n",
              "    </tr>\n",
              "    <tr>\n",
              "      <th>73</th>\n",
              "      <td>/funding-round/563923487783bdeb5d0b7872f3d6b99a</td>\n",
              "      <td>venture</td>\n",
              "      <td>12-01-2015</td>\n",
              "      <td>55,000,000.00</td>\n",
              "      <td>/organization/10x-genomics</td>\n",
              "      <td>10X Genomics</td>\n",
              "      <td>Biotechnology|Technology</td>\n",
              "      <td>operating</td>\n",
              "      <td>USA</td>\n",
              "      <td>biotechnology</td>\n",
              "    </tr>\n",
              "    <tr>\n",
              "      <th>74</th>\n",
              "      <td>/funding-round/39c1441d5098875a925577d0f2ad3904</td>\n",
              "      <td>venture</td>\n",
              "      <td>12-01-2015</td>\n",
              "      <td>550,000.00</td>\n",
              "      <td>/organization/10x-technologies</td>\n",
              "      <td>10X Technologies</td>\n",
              "      <td>Biotechnology</td>\n",
              "      <td>operating</td>\n",
              "      <td>USA</td>\n",
              "      <td>biotechnology</td>\n",
              "    </tr>\n",
              "    <tr>\n",
              "      <th>80</th>\n",
              "      <td>/funding-round/bbbda407fa8638d944ecfdd042230c4b</td>\n",
              "      <td>venture</td>\n",
              "      <td>28-04-2014</td>\n",
              "      <td>20,000,000.00</td>\n",
              "      <td>/organization/117go</td>\n",
              "      <td>117go</td>\n",
              "      <td>Social Travel</td>\n",
              "      <td>operating</td>\n",
              "      <td>CHN</td>\n",
              "      <td>social travel</td>\n",
              "    </tr>\n",
              "    <tr>\n",
              "      <th>81</th>\n",
              "      <td>/funding-round/e07501ed6997290b1bef59406bc300a1</td>\n",
              "      <td>venture</td>\n",
              "      <td>22-03-2011</td>\n",
              "      <td>1,800,000.00</td>\n",
              "      <td>/organization/11i-solutions</td>\n",
              "      <td>11i Solutions</td>\n",
              "      <td>Enterprise Software</td>\n",
              "      <td>closed</td>\n",
              "      <td>USA</td>\n",
              "      <td>enterprise software</td>\n",
              "    </tr>\n",
              "    <tr>\n",
              "      <th>99</th>\n",
              "      <td>/funding-round/9d83084d87dc63a309c9a6fe9bf59d1b</td>\n",
              "      <td>venture</td>\n",
              "      <td>27-10-2015</td>\n",
              "      <td>13,000,000.00</td>\n",
              "      <td>/organization/123feng-com</td>\n",
              "      <td>123Feng.Com</td>\n",
              "      <td>NaN</td>\n",
              "      <td>operating</td>\n",
              "      <td>CHN</td>\n",
              "      <td>NaN</td>\n",
              "    </tr>\n",
              "    <tr>\n",
              "      <th>103</th>\n",
              "      <td>/funding-round/fb6216a30cb566ede89e0bee0623a634</td>\n",
              "      <td>venture</td>\n",
              "      <td>16-12-2014</td>\n",
              "      <td>11,999,347.00</td>\n",
              "      <td>/organization/128-technology</td>\n",
              "      <td>128 Technology</td>\n",
              "      <td>Service Providers|Technology</td>\n",
              "      <td>operating</td>\n",
              "      <td>USA</td>\n",
              "      <td>service providers</td>\n",
              "    </tr>\n",
              "    <tr>\n",
              "      <th>...</th>\n",
              "      <td>...</td>\n",
              "      <td>...</td>\n",
              "      <td>...</td>\n",
              "      <td>...</td>\n",
              "      <td>...</td>\n",
              "      <td>...</td>\n",
              "      <td>...</td>\n",
              "      <td>...</td>\n",
              "      <td>...</td>\n",
              "      <td>...</td>\n",
              "    </tr>\n",
              "    <tr>\n",
              "      <th>114872</th>\n",
              "      <td>/funding-round/750e756e0c6e44a04f31e460106e5823</td>\n",
              "      <td>venture</td>\n",
              "      <td>05-03-2009</td>\n",
              "      <td>999,999.00</td>\n",
              "      <td>/organization/zyme-solutions</td>\n",
              "      <td>Zyme Solutions</td>\n",
              "      <td>Hardware|Hardware + Software</td>\n",
              "      <td>operating</td>\n",
              "      <td>USA</td>\n",
              "      <td>hardware</td>\n",
              "    </tr>\n",
              "    <tr>\n",
              "      <th>114873</th>\n",
              "      <td>/funding-round/882bfc4385f305c46bf0afdb72a9af26</td>\n",
              "      <td>venture</td>\n",
              "      <td>01-05-2014</td>\n",
              "      <td>3,000,000.00</td>\n",
              "      <td>/organization/zyme-solutions</td>\n",
              "      <td>Zyme Solutions</td>\n",
              "      <td>Hardware|Hardware + Software</td>\n",
              "      <td>operating</td>\n",
              "      <td>USA</td>\n",
              "      <td>hardware</td>\n",
              "    </tr>\n",
              "    <tr>\n",
              "      <th>114874</th>\n",
              "      <td>/funding-round/95df0674abfe3b59a0f32ffcc1007853</td>\n",
              "      <td>venture</td>\n",
              "      <td>12-09-2005</td>\n",
              "      <td>3,040,000.00</td>\n",
              "      <td>/organization/zyme-solutions</td>\n",
              "      <td>Zyme Solutions</td>\n",
              "      <td>Hardware|Hardware + Software</td>\n",
              "      <td>operating</td>\n",
              "      <td>USA</td>\n",
              "      <td>hardware</td>\n",
              "    </tr>\n",
              "    <tr>\n",
              "      <th>114876</th>\n",
              "      <td>/funding-round/0f14ff055053208bd3d8eae98c9b3a28</td>\n",
              "      <td>venture</td>\n",
              "      <td>16-06-2015</td>\n",
              "      <td>44,000,000.00</td>\n",
              "      <td>/organization/zymergen</td>\n",
              "      <td>Zymergen</td>\n",
              "      <td>Biotechnology</td>\n",
              "      <td>operating</td>\n",
              "      <td>USA</td>\n",
              "      <td>biotechnology</td>\n",
              "    </tr>\n",
              "    <tr>\n",
              "      <th>114879</th>\n",
              "      <td>/funding-round/6d3ae270761d1bb03a53e1cbf68a8317</td>\n",
              "      <td>venture</td>\n",
              "      <td>11-01-2010</td>\n",
              "      <td>757,464.00</td>\n",
              "      <td>/organization/zymetis</td>\n",
              "      <td>Zymetis</td>\n",
              "      <td>Biotechnology</td>\n",
              "      <td>closed</td>\n",
              "      <td>USA</td>\n",
              "      <td>biotechnology</td>\n",
              "    </tr>\n",
              "    <tr>\n",
              "      <th>114882</th>\n",
              "      <td>/funding-round/917b2ed7b99f219fcbc660c9789482d5</td>\n",
              "      <td>venture</td>\n",
              "      <td>22-09-2011</td>\n",
              "      <td>8,100,000.00</td>\n",
              "      <td>/organization/zymeworks</td>\n",
              "      <td>Zymeworks</td>\n",
              "      <td>Biotechnology</td>\n",
              "      <td>operating</td>\n",
              "      <td>CAN</td>\n",
              "      <td>biotechnology</td>\n",
              "    </tr>\n",
              "    <tr>\n",
              "      <th>114883</th>\n",
              "      <td>/funding-round/d51cfec3a0b6d8323d892e4fd4bb187e</td>\n",
              "      <td>venture</td>\n",
              "      <td>27-02-2015</td>\n",
              "      <td>1,785,700.00</td>\n",
              "      <td>/organization/zymeworks</td>\n",
              "      <td>Zymeworks</td>\n",
              "      <td>Biotechnology</td>\n",
              "      <td>operating</td>\n",
              "      <td>CAN</td>\n",
              "      <td>biotechnology</td>\n",
              "    </tr>\n",
              "    <tr>\n",
              "      <th>114884</th>\n",
              "      <td>/funding-round/d7b019f508ef724ca3a851a4359a272f</td>\n",
              "      <td>venture</td>\n",
              "      <td>06-09-2012</td>\n",
              "      <td>11,000,000.00</td>\n",
              "      <td>/organization/zymeworks</td>\n",
              "      <td>Zymeworks</td>\n",
              "      <td>Biotechnology</td>\n",
              "      <td>operating</td>\n",
              "      <td>CAN</td>\n",
              "      <td>biotechnology</td>\n",
              "    </tr>\n",
              "    <tr>\n",
              "      <th>114885</th>\n",
              "      <td>/funding-round/e4dee9b0a5fa30e650e5dea33e1faad8</td>\n",
              "      <td>venture</td>\n",
              "      <td>09-01-2014</td>\n",
              "      <td>15,000,000.00</td>\n",
              "      <td>/organization/zymeworks</td>\n",
              "      <td>Zymeworks</td>\n",
              "      <td>Biotechnology</td>\n",
              "      <td>operating</td>\n",
              "      <td>CAN</td>\n",
              "      <td>biotechnology</td>\n",
              "    </tr>\n",
              "    <tr>\n",
              "      <th>114886</th>\n",
              "      <td>/funding-round/fd4f9cd4c2ad9c8980848491cd467f35</td>\n",
              "      <td>venture</td>\n",
              "      <td>13-01-2015</td>\n",
              "      <td>23,988,700.00</td>\n",
              "      <td>/organization/zymeworks</td>\n",
              "      <td>Zymeworks</td>\n",
              "      <td>Biotechnology</td>\n",
              "      <td>operating</td>\n",
              "      <td>CAN</td>\n",
              "      <td>biotechnology</td>\n",
              "    </tr>\n",
              "    <tr>\n",
              "      <th>114887</th>\n",
              "      <td>/funding-round/fff65853a50d907bdf362b572076f1d1</td>\n",
              "      <td>venture</td>\n",
              "      <td>26-06-2009</td>\n",
              "      <td>3,500,000.00</td>\n",
              "      <td>/organization/zymeworks</td>\n",
              "      <td>Zymeworks</td>\n",
              "      <td>Biotechnology</td>\n",
              "      <td>operating</td>\n",
              "      <td>CAN</td>\n",
              "      <td>biotechnology</td>\n",
              "    </tr>\n",
              "    <tr>\n",
              "      <th>114893</th>\n",
              "      <td>/funding-round/3549f5a481f83610044a4226926acf5a</td>\n",
              "      <td>venture</td>\n",
              "      <td>01-09-2014</td>\n",
              "      <td>144,451.00</td>\n",
              "      <td>/organization/zyncd</td>\n",
              "      <td>Zyncd</td>\n",
              "      <td>Crowdsourcing|Knowledge Management</td>\n",
              "      <td>operating</td>\n",
              "      <td>GBR</td>\n",
              "      <td>crowdsourcing</td>\n",
              "    </tr>\n",
              "    <tr>\n",
              "      <th>114897</th>\n",
              "      <td>/funding-round/8992160f6abc8e21563e54a6e97a8922</td>\n",
              "      <td>venture</td>\n",
              "      <td>14-10-2014</td>\n",
              "      <td>13,000,000.00</td>\n",
              "      <td>/organization/zynerba-pharmaceuticals</td>\n",
              "      <td>Zynerba Pharmaceuticals</td>\n",
              "      <td>Pharmaceuticals</td>\n",
              "      <td>ipo</td>\n",
              "      <td>USA</td>\n",
              "      <td>pharmaceuticals</td>\n",
              "    </tr>\n",
              "    <tr>\n",
              "      <th>114899</th>\n",
              "      <td>/funding-round/1bc4f7b3a778e5abfbd7131f595f5011</td>\n",
              "      <td>venture</td>\n",
              "      <td>04-11-2009</td>\n",
              "      <td>15,187,000.00</td>\n",
              "      <td>/organization/zynga</td>\n",
              "      <td>Zynga</td>\n",
              "      <td>Facebook Applications|Games|Networking|Technology</td>\n",
              "      <td>ipo</td>\n",
              "      <td>USA</td>\n",
              "      <td>facebook applications</td>\n",
              "    </tr>\n",
              "    <tr>\n",
              "      <th>114900</th>\n",
              "      <td>/funding-round/5bebd7acdfd44138f81d162f21c532f9</td>\n",
              "      <td>venture</td>\n",
              "      <td>12-10-2010</td>\n",
              "      <td>6,337,786.00</td>\n",
              "      <td>/organization/zynga</td>\n",
              "      <td>Zynga</td>\n",
              "      <td>Facebook Applications|Games|Networking|Technology</td>\n",
              "      <td>ipo</td>\n",
              "      <td>USA</td>\n",
              "      <td>facebook applications</td>\n",
              "    </tr>\n",
              "    <tr>\n",
              "      <th>114901</th>\n",
              "      <td>/funding-round/66d64809546fe2031d3479161e3c88f9</td>\n",
              "      <td>venture</td>\n",
              "      <td>01-01-2008</td>\n",
              "      <td>10,000,000.00</td>\n",
              "      <td>/organization/zynga</td>\n",
              "      <td>Zynga</td>\n",
              "      <td>Facebook Applications|Games|Networking|Technology</td>\n",
              "      <td>ipo</td>\n",
              "      <td>USA</td>\n",
              "      <td>facebook applications</td>\n",
              "    </tr>\n",
              "    <tr>\n",
              "      <th>114902</th>\n",
              "      <td>/funding-round/72e4fdf2cfb0cdc0750f90e486722068</td>\n",
              "      <td>venture</td>\n",
              "      <td>18-07-2008</td>\n",
              "      <td>25,000,000.00</td>\n",
              "      <td>/organization/zynga</td>\n",
              "      <td>Zynga</td>\n",
              "      <td>Facebook Applications|Games|Networking|Technology</td>\n",
              "      <td>ipo</td>\n",
              "      <td>USA</td>\n",
              "      <td>facebook applications</td>\n",
              "    </tr>\n",
              "    <tr>\n",
              "      <th>114903</th>\n",
              "      <td>/funding-round/8411431b5a0389a874e3fae93016c089</td>\n",
              "      <td>venture</td>\n",
              "      <td>24-04-2010</td>\n",
              "      <td>15,000,000.00</td>\n",
              "      <td>/organization/zynga</td>\n",
              "      <td>Zynga</td>\n",
              "      <td>Facebook Applications|Games|Networking|Technology</td>\n",
              "      <td>ipo</td>\n",
              "      <td>USA</td>\n",
              "      <td>facebook applications</td>\n",
              "    </tr>\n",
              "    <tr>\n",
              "      <th>114904</th>\n",
              "      <td>/funding-round/a6ebc53cf3c0c97d1cdd075f6bbf31fa</td>\n",
              "      <td>venture</td>\n",
              "      <td>18-02-2011</td>\n",
              "      <td>490,000,000.00</td>\n",
              "      <td>/organization/zynga</td>\n",
              "      <td>Zynga</td>\n",
              "      <td>Facebook Applications|Games|Networking|Technology</td>\n",
              "      <td>ipo</td>\n",
              "      <td>USA</td>\n",
              "      <td>facebook applications</td>\n",
              "    </tr>\n",
              "    <tr>\n",
              "      <th>114905</th>\n",
              "      <td>/funding-round/cf8299f657f7fd4cf01054ee1934109c</td>\n",
              "      <td>venture</td>\n",
              "      <td>14-06-2010</td>\n",
              "      <td>300,000,000.00</td>\n",
              "      <td>/organization/zynga</td>\n",
              "      <td>Zynga</td>\n",
              "      <td>Facebook Applications|Games|Networking|Technology</td>\n",
              "      <td>ipo</td>\n",
              "      <td>USA</td>\n",
              "      <td>facebook applications</td>\n",
              "    </tr>\n",
              "    <tr>\n",
              "      <th>114907</th>\n",
              "      <td>/funding-round/eb198261da812bc8d3bf475ccec44000</td>\n",
              "      <td>venture</td>\n",
              "      <td>12-02-2008</td>\n",
              "      <td>5,026,000.00</td>\n",
              "      <td>/organization/zynga</td>\n",
              "      <td>Zynga</td>\n",
              "      <td>Facebook Applications|Games|Networking|Technology</td>\n",
              "      <td>ipo</td>\n",
              "      <td>USA</td>\n",
              "      <td>facebook applications</td>\n",
              "    </tr>\n",
              "    <tr>\n",
              "      <th>114908</th>\n",
              "      <td>/funding-round/55ec03b6fa2e812a2b4a9da5a4555752</td>\n",
              "      <td>venture</td>\n",
              "      <td>09-09-2010</td>\n",
              "      <td>25,000,000.00</td>\n",
              "      <td>/organization/zyngenia</td>\n",
              "      <td>Zyngenia</td>\n",
              "      <td>Biotechnology</td>\n",
              "      <td>operating</td>\n",
              "      <td>USA</td>\n",
              "      <td>biotechnology</td>\n",
              "    </tr>\n",
              "    <tr>\n",
              "      <th>114909</th>\n",
              "      <td>/funding-round/05f43b37c270f5919578281ce803de8f</td>\n",
              "      <td>venture</td>\n",
              "      <td>09-07-2014</td>\n",
              "      <td>8,400,000.00</td>\n",
              "      <td>/organization/zynstra</td>\n",
              "      <td>Zynstra</td>\n",
              "      <td>Software</td>\n",
              "      <td>operating</td>\n",
              "      <td>GBR</td>\n",
              "      <td>software</td>\n",
              "    </tr>\n",
              "    <tr>\n",
              "      <th>114910</th>\n",
              "      <td>/funding-round/129127802dd48be42d6cd45f65895245</td>\n",
              "      <td>venture</td>\n",
              "      <td>12-09-2013</td>\n",
              "      <td>3,800,000.00</td>\n",
              "      <td>/organization/zynstra</td>\n",
              "      <td>Zynstra</td>\n",
              "      <td>Software</td>\n",
              "      <td>operating</td>\n",
              "      <td>GBR</td>\n",
              "      <td>software</td>\n",
              "    </tr>\n",
              "    <tr>\n",
              "      <th>114913</th>\n",
              "      <td>/funding-round/4191cb5258d3863b0212d1083881da64</td>\n",
              "      <td>venture</td>\n",
              "      <td>30-06-2013</td>\n",
              "      <td>12,000,000.00</td>\n",
              "      <td>/organization/zyomyx-inc</td>\n",
              "      <td>ZYOMYX</td>\n",
              "      <td>Biotechnology</td>\n",
              "      <td>operating</td>\n",
              "      <td>USA</td>\n",
              "      <td>biotechnology</td>\n",
              "    </tr>\n",
              "    <tr>\n",
              "      <th>114915</th>\n",
              "      <td>/funding-round/b4fce7f8a13267353d57db09099800e8</td>\n",
              "      <td>venture</td>\n",
              "      <td>11-07-2013</td>\n",
              "      <td>14,219,999.00</td>\n",
              "      <td>/organization/zyomyx-inc</td>\n",
              "      <td>ZYOMYX</td>\n",
              "      <td>Biotechnology</td>\n",
              "      <td>operating</td>\n",
              "      <td>USA</td>\n",
              "      <td>biotechnology</td>\n",
              "    </tr>\n",
              "    <tr>\n",
              "      <th>114916</th>\n",
              "      <td>/funding-round/ea5b21da6cf999ff4d5667431fe318d7</td>\n",
              "      <td>venture</td>\n",
              "      <td>29-01-2010</td>\n",
              "      <td>555,016.00</td>\n",
              "      <td>/organization/zyomyx-inc</td>\n",
              "      <td>ZYOMYX</td>\n",
              "      <td>Biotechnology</td>\n",
              "      <td>operating</td>\n",
              "      <td>USA</td>\n",
              "      <td>biotechnology</td>\n",
              "    </tr>\n",
              "    <tr>\n",
              "      <th>114927</th>\n",
              "      <td>/funding-round/7a0fa791c96c9c447ee54662395beab9</td>\n",
              "      <td>venture</td>\n",
              "      <td>18-10-2012</td>\n",
              "      <td>140,500.00</td>\n",
              "      <td>/organization/zyrra</td>\n",
              "      <td>Zyrra</td>\n",
              "      <td>E-Commerce</td>\n",
              "      <td>operating</td>\n",
              "      <td>USA</td>\n",
              "      <td>e-commerce</td>\n",
              "    </tr>\n",
              "    <tr>\n",
              "      <th>114929</th>\n",
              "      <td>/funding-round/7ea37c0ff4132b084832039a9380d34e</td>\n",
              "      <td>venture</td>\n",
              "      <td>16-12-2004</td>\n",
              "      <td>8,500,000.00</td>\n",
              "      <td>/organization/zystor</td>\n",
              "      <td>Zystor</td>\n",
              "      <td>Biotechnology</td>\n",
              "      <td>acquired</td>\n",
              "      <td>USA</td>\n",
              "      <td>biotechnology</td>\n",
              "    </tr>\n",
              "    <tr>\n",
              "      <th>114934</th>\n",
              "      <td>/funding-round/171693e1e07e0230defd8fddb6de4515</td>\n",
              "      <td>venture</td>\n",
              "      <td>01-04-2012</td>\n",
              "      <td>1,587,301.00</td>\n",
              "      <td>/organization/zznode-science-and-technology-co...</td>\n",
              "      <td>ZZNode Science and Technology</td>\n",
              "      <td>Enterprise Software</td>\n",
              "      <td>operating</td>\n",
              "      <td>CHN</td>\n",
              "      <td>enterprise software</td>\n",
              "    </tr>\n",
              "  </tbody>\n",
              "</table>\n",
              "<p>44383 rows × 10 columns</p>\n",
              "</div>"
            ],
            "text/plain": [
              "                                funding_round_permalink funding_round_type  \\\n",
              "0       /funding-round/9a01d05418af9f794eebff7ace91f638            venture   \n",
              "4       /funding-round/5727accaeaa57461bd22a9bdd945382d            venture   \n",
              "8       /funding-round/954b9499724b946ad8c396a57a5f3b72            venture   \n",
              "10      /funding-round/3bb2ee4a2d89251a10aaa735b1180e44            venture   \n",
              "11      /funding-round/ae2a174c06517c2394aed45006322a7e            venture   \n",
              "12      /funding-round/e1cfcbe1bdf4c70277c5f29a3482f24e            venture   \n",
              "22      /funding-round/b952cbaf401f310927430c97b68162ea            venture   \n",
              "28      /funding-round/0faccbbcc5818dc5326469f13f5a8ac8            venture   \n",
              "34      /funding-round/502bd0e50c27616995e4bdad24605ef8            venture   \n",
              "38      /funding-round/13be128d655076a025221d7fddc90d68            venture   \n",
              "39      /funding-round/6aeb32ab3fc05db2b606d7a2466e8c09            venture   \n",
              "41      /funding-round/89317984885b44f02e4befb9dc2e588c            venture   \n",
              "44      /funding-round/fd1b3064232ba9b3cfb5653a619e82e8            venture   \n",
              "46      /funding-round/645b4cd895450b8e0268027cd7813047            venture   \n",
              "47      /funding-round/8025123b90c1ab687f9857ffe18bfd3b            venture   \n",
              "49      /funding-round/b6c28ea4ebe32db7083052cf87e7c368            venture   \n",
              "50      /funding-round/a21fc4d20200f43e3a25fd9cfc7c1482            venture   \n",
              "52      /funding-round/b6aeb7401ec6993f92a16cbca153b600            venture   \n",
              "55      /funding-round/8797d60368bb0227f0d0ab4c72aef886            venture   \n",
              "56      /funding-round/22a86670d1055d7bafce665b27e91871            venture   \n",
              "57      /funding-round/a136f7eb873dfb13cec839fef7d7f51e            venture   \n",
              "59      /funding-round/502f558bee350299fd1ae503e5b9a124            venture   \n",
              "61      /funding-round/b5facb0d9dea2f0352b5834892c88c53            venture   \n",
              "62      /funding-round/482fbf992b48f5c47d0080ab7ec0cb54            venture   \n",
              "73      /funding-round/563923487783bdeb5d0b7872f3d6b99a            venture   \n",
              "74      /funding-round/39c1441d5098875a925577d0f2ad3904            venture   \n",
              "80      /funding-round/bbbda407fa8638d944ecfdd042230c4b            venture   \n",
              "81      /funding-round/e07501ed6997290b1bef59406bc300a1            venture   \n",
              "99      /funding-round/9d83084d87dc63a309c9a6fe9bf59d1b            venture   \n",
              "103     /funding-round/fb6216a30cb566ede89e0bee0623a634            venture   \n",
              "...                                                 ...                ...   \n",
              "114872  /funding-round/750e756e0c6e44a04f31e460106e5823            venture   \n",
              "114873  /funding-round/882bfc4385f305c46bf0afdb72a9af26            venture   \n",
              "114874  /funding-round/95df0674abfe3b59a0f32ffcc1007853            venture   \n",
              "114876  /funding-round/0f14ff055053208bd3d8eae98c9b3a28            venture   \n",
              "114879  /funding-round/6d3ae270761d1bb03a53e1cbf68a8317            venture   \n",
              "114882  /funding-round/917b2ed7b99f219fcbc660c9789482d5            venture   \n",
              "114883  /funding-round/d51cfec3a0b6d8323d892e4fd4bb187e            venture   \n",
              "114884  /funding-round/d7b019f508ef724ca3a851a4359a272f            venture   \n",
              "114885  /funding-round/e4dee9b0a5fa30e650e5dea33e1faad8            venture   \n",
              "114886  /funding-round/fd4f9cd4c2ad9c8980848491cd467f35            venture   \n",
              "114887  /funding-round/fff65853a50d907bdf362b572076f1d1            venture   \n",
              "114893  /funding-round/3549f5a481f83610044a4226926acf5a            venture   \n",
              "114897  /funding-round/8992160f6abc8e21563e54a6e97a8922            venture   \n",
              "114899  /funding-round/1bc4f7b3a778e5abfbd7131f595f5011            venture   \n",
              "114900  /funding-round/5bebd7acdfd44138f81d162f21c532f9            venture   \n",
              "114901  /funding-round/66d64809546fe2031d3479161e3c88f9            venture   \n",
              "114902  /funding-round/72e4fdf2cfb0cdc0750f90e486722068            venture   \n",
              "114903  /funding-round/8411431b5a0389a874e3fae93016c089            venture   \n",
              "114904  /funding-round/a6ebc53cf3c0c97d1cdd075f6bbf31fa            venture   \n",
              "114905  /funding-round/cf8299f657f7fd4cf01054ee1934109c            venture   \n",
              "114907  /funding-round/eb198261da812bc8d3bf475ccec44000            venture   \n",
              "114908  /funding-round/55ec03b6fa2e812a2b4a9da5a4555752            venture   \n",
              "114909  /funding-round/05f43b37c270f5919578281ce803de8f            venture   \n",
              "114910  /funding-round/129127802dd48be42d6cd45f65895245            venture   \n",
              "114913  /funding-round/4191cb5258d3863b0212d1083881da64            venture   \n",
              "114915  /funding-round/b4fce7f8a13267353d57db09099800e8            venture   \n",
              "114916  /funding-round/ea5b21da6cf999ff4d5667431fe318d7            venture   \n",
              "114927  /funding-round/7a0fa791c96c9c447ee54662395beab9            venture   \n",
              "114929  /funding-round/7ea37c0ff4132b084832039a9380d34e            venture   \n",
              "114934  /funding-round/171693e1e07e0230defd8fddb6de4515            venture   \n",
              "\n",
              "         funded_at  raised_amount_usd  \\\n",
              "0       05-01-2015      10,000,000.00   \n",
              "4       19-03-2008       2,000,000.00   \n",
              "8       21-12-2009         719,491.00   \n",
              "10      09-11-2015      20,000,000.00   \n",
              "11      03-01-2013       1,700,000.00   \n",
              "12      19-07-2014       8,900,000.00   \n",
              "22      17-03-2015       5,000,000.00   \n",
              "28      09-10-2014       4,000,000.00   \n",
              "34      16-02-2011       2,520,000.00   \n",
              "38      14-10-2009         265,940.00   \n",
              "39      15-01-2014       2,906,832.00   \n",
              "41      01-08-2014       1,500,000.00   \n",
              "44      05-04-2011         642,000.00   \n",
              "46      04-11-2015       6,602,694.00   \n",
              "47      13-11-2013       1,736,910.00   \n",
              "49      25-10-2013       1,800,000.00   \n",
              "50      09-07-2015       8,900,000.00   \n",
              "52      31-07-2014      10,000,000.00   \n",
              "55      07-01-2008       3,000,000.00   \n",
              "56      01-01-2006       3,000,000.00   \n",
              "57      01-09-2006       1,500,000.00   \n",
              "59      20-10-2015       3,530,000.00   \n",
              "61      02-11-2011         500,000.00   \n",
              "62      08-03-2010      35,000,000.00   \n",
              "73      12-01-2015      55,000,000.00   \n",
              "74      12-01-2015         550,000.00   \n",
              "80      28-04-2014      20,000,000.00   \n",
              "81      22-03-2011       1,800,000.00   \n",
              "99      27-10-2015      13,000,000.00   \n",
              "103     16-12-2014      11,999,347.00   \n",
              "...            ...                ...   \n",
              "114872  05-03-2009         999,999.00   \n",
              "114873  01-05-2014       3,000,000.00   \n",
              "114874  12-09-2005       3,040,000.00   \n",
              "114876  16-06-2015      44,000,000.00   \n",
              "114879  11-01-2010         757,464.00   \n",
              "114882  22-09-2011       8,100,000.00   \n",
              "114883  27-02-2015       1,785,700.00   \n",
              "114884  06-09-2012      11,000,000.00   \n",
              "114885  09-01-2014      15,000,000.00   \n",
              "114886  13-01-2015      23,988,700.00   \n",
              "114887  26-06-2009       3,500,000.00   \n",
              "114893  01-09-2014         144,451.00   \n",
              "114897  14-10-2014      13,000,000.00   \n",
              "114899  04-11-2009      15,187,000.00   \n",
              "114900  12-10-2010       6,337,786.00   \n",
              "114901  01-01-2008      10,000,000.00   \n",
              "114902  18-07-2008      25,000,000.00   \n",
              "114903  24-04-2010      15,000,000.00   \n",
              "114904  18-02-2011     490,000,000.00   \n",
              "114905  14-06-2010     300,000,000.00   \n",
              "114907  12-02-2008       5,026,000.00   \n",
              "114908  09-09-2010      25,000,000.00   \n",
              "114909  09-07-2014       8,400,000.00   \n",
              "114910  12-09-2013       3,800,000.00   \n",
              "114913  30-06-2013      12,000,000.00   \n",
              "114915  11-07-2013      14,219,999.00   \n",
              "114916  29-01-2010         555,016.00   \n",
              "114927  18-10-2012         140,500.00   \n",
              "114929  16-12-2004       8,500,000.00   \n",
              "114934  01-04-2012       1,587,301.00   \n",
              "\n",
              "                                                permalink  \\\n",
              "0                                     /organization/-fame   \n",
              "4                                   /organization/0-6-com   \n",
              "8                     /organization/0ndine-biomedical-inc   \n",
              "10                                   /organization/0xdata   \n",
              "11                                   /organization/0xdata   \n",
              "12                                   /organization/0xdata   \n",
              "22                             /organization/1-mainstream   \n",
              "28                          /organization/10-minutes-with   \n",
              "34                             /organization/1000memories   \n",
              "38                          /organization/1000museums-com   \n",
              "39                          /organization/1000museums-com   \n",
              "41                          /organization/1000museums-com   \n",
              "44                          /organization/1000museums-com   \n",
              "46                               /organization/1001-menus   \n",
              "47                               /organization/1001-menus   \n",
              "49                               /organization/1001-menus   \n",
              "50                       /organization/1001pharmacies-com   \n",
              "52                                  /organization/1006-tv   \n",
              "55                                 /organization/100du-tv   \n",
              "56                                 /organization/100e-com   \n",
              "57                                 /organization/100e-com   \n",
              "59                                /organization/100health   \n",
              "61                                  /organization/100plus   \n",
              "62                                 /organization/1010data   \n",
              "73                             /organization/10x-genomics   \n",
              "74                         /organization/10x-technologies   \n",
              "80                                    /organization/117go   \n",
              "81                            /organization/11i-solutions   \n",
              "99                              /organization/123feng-com   \n",
              "103                          /organization/128-technology   \n",
              "...                                                   ...   \n",
              "114872                       /organization/zyme-solutions   \n",
              "114873                       /organization/zyme-solutions   \n",
              "114874                       /organization/zyme-solutions   \n",
              "114876                             /organization/zymergen   \n",
              "114879                              /organization/zymetis   \n",
              "114882                            /organization/zymeworks   \n",
              "114883                            /organization/zymeworks   \n",
              "114884                            /organization/zymeworks   \n",
              "114885                            /organization/zymeworks   \n",
              "114886                            /organization/zymeworks   \n",
              "114887                            /organization/zymeworks   \n",
              "114893                                /organization/zyncd   \n",
              "114897              /organization/zynerba-pharmaceuticals   \n",
              "114899                                /organization/zynga   \n",
              "114900                                /organization/zynga   \n",
              "114901                                /organization/zynga   \n",
              "114902                                /organization/zynga   \n",
              "114903                                /organization/zynga   \n",
              "114904                                /organization/zynga   \n",
              "114905                                /organization/zynga   \n",
              "114907                                /organization/zynga   \n",
              "114908                             /organization/zyngenia   \n",
              "114909                              /organization/zynstra   \n",
              "114910                              /organization/zynstra   \n",
              "114913                           /organization/zyomyx-inc   \n",
              "114915                           /organization/zyomyx-inc   \n",
              "114916                           /organization/zyomyx-inc   \n",
              "114927                                /organization/zyrra   \n",
              "114929                               /organization/zystor   \n",
              "114934  /organization/zznode-science-and-technology-co...   \n",
              "\n",
              "                                 name  \\\n",
              "0                               #fame   \n",
              "4                             0-6.com   \n",
              "8              Ondine Biomedical Inc.   \n",
              "10                             H2O.ai   \n",
              "11                             H2O.ai   \n",
              "12                             H2O.ai   \n",
              "22                       1 Mainstream   \n",
              "28                    10 Minutes With   \n",
              "34                       1000memories   \n",
              "38                    1000museums.com   \n",
              "39                    1000museums.com   \n",
              "41                    1000museums.com   \n",
              "44                    1000museums.com   \n",
              "46                            ZenChef   \n",
              "47                            ZenChef   \n",
              "49                            ZenChef   \n",
              "50                 1001pharmacies.com   \n",
              "52                            1006.tv   \n",
              "55                           100du.tv   \n",
              "56                           100e.com   \n",
              "57                           100e.com   \n",
              "59                              Redox   \n",
              "61                            100Plus   \n",
              "62                           1010data   \n",
              "73                       10X Genomics   \n",
              "74                   10X Technologies   \n",
              "80                              117go   \n",
              "81                      11i Solutions   \n",
              "99                        123Feng.Com   \n",
              "103                    128 Technology   \n",
              "...                               ...   \n",
              "114872                 Zyme Solutions   \n",
              "114873                 Zyme Solutions   \n",
              "114874                 Zyme Solutions   \n",
              "114876                       Zymergen   \n",
              "114879                        Zymetis   \n",
              "114882                      Zymeworks   \n",
              "114883                      Zymeworks   \n",
              "114884                      Zymeworks   \n",
              "114885                      Zymeworks   \n",
              "114886                      Zymeworks   \n",
              "114887                      Zymeworks   \n",
              "114893                          Zyncd   \n",
              "114897        Zynerba Pharmaceuticals   \n",
              "114899                          Zynga   \n",
              "114900                          Zynga   \n",
              "114901                          Zynga   \n",
              "114902                          Zynga   \n",
              "114903                          Zynga   \n",
              "114904                          Zynga   \n",
              "114905                          Zynga   \n",
              "114907                          Zynga   \n",
              "114908                       Zyngenia   \n",
              "114909                        Zynstra   \n",
              "114910                        Zynstra   \n",
              "114913                         ZYOMYX   \n",
              "114915                         ZYOMYX   \n",
              "114916                         ZYOMYX   \n",
              "114927                          Zyrra   \n",
              "114929                         Zystor   \n",
              "114934  ZZNode Science and Technology   \n",
              "\n",
              "                                            category_list     status  \\\n",
              "0                                                   Media  operating   \n",
              "4                                             Curated Web  operating   \n",
              "8                                           Biotechnology  operating   \n",
              "10                                              Analytics  operating   \n",
              "11                                              Analytics  operating   \n",
              "12                                              Analytics  operating   \n",
              "22                       Apps|Cable|Distribution|Software   acquired   \n",
              "28                                              Education  operating   \n",
              "34                                            Curated Web   acquired   \n",
              "38                                            Curated Web  operating   \n",
              "39                                            Curated Web  operating   \n",
              "41                                            Curated Web  operating   \n",
              "44                                            Curated Web  operating   \n",
              "46                           Local Businesses|Restaurants  operating   \n",
              "47                           Local Businesses|Restaurants  operating   \n",
              "49                           Local Businesses|Restaurants  operating   \n",
              "50                                 Cosmetics|Marketplaces  operating   \n",
              "52                                            Games|Media  operating   \n",
              "55                                            Hospitality  operating   \n",
              "56                                              Education  operating   \n",
              "57                                              Education  operating   \n",
              "59      Health Care|Health Care Information Technology...  operating   \n",
              "61                                              Analytics   acquired   \n",
              "62                                               Software   acquired   \n",
              "73                               Biotechnology|Technology  operating   \n",
              "74                                          Biotechnology  operating   \n",
              "80                                          Social Travel  operating   \n",
              "81                                    Enterprise Software     closed   \n",
              "99                                                    NaN  operating   \n",
              "103                          Service Providers|Technology  operating   \n",
              "...                                                   ...        ...   \n",
              "114872                       Hardware|Hardware + Software  operating   \n",
              "114873                       Hardware|Hardware + Software  operating   \n",
              "114874                       Hardware|Hardware + Software  operating   \n",
              "114876                                      Biotechnology  operating   \n",
              "114879                                      Biotechnology     closed   \n",
              "114882                                      Biotechnology  operating   \n",
              "114883                                      Biotechnology  operating   \n",
              "114884                                      Biotechnology  operating   \n",
              "114885                                      Biotechnology  operating   \n",
              "114886                                      Biotechnology  operating   \n",
              "114887                                      Biotechnology  operating   \n",
              "114893                 Crowdsourcing|Knowledge Management  operating   \n",
              "114897                                    Pharmaceuticals        ipo   \n",
              "114899  Facebook Applications|Games|Networking|Technology        ipo   \n",
              "114900  Facebook Applications|Games|Networking|Technology        ipo   \n",
              "114901  Facebook Applications|Games|Networking|Technology        ipo   \n",
              "114902  Facebook Applications|Games|Networking|Technology        ipo   \n",
              "114903  Facebook Applications|Games|Networking|Technology        ipo   \n",
              "114904  Facebook Applications|Games|Networking|Technology        ipo   \n",
              "114905  Facebook Applications|Games|Networking|Technology        ipo   \n",
              "114907  Facebook Applications|Games|Networking|Technology        ipo   \n",
              "114908                                      Biotechnology  operating   \n",
              "114909                                           Software  operating   \n",
              "114910                                           Software  operating   \n",
              "114913                                      Biotechnology  operating   \n",
              "114915                                      Biotechnology  operating   \n",
              "114916                                      Biotechnology  operating   \n",
              "114927                                         E-Commerce  operating   \n",
              "114929                                      Biotechnology   acquired   \n",
              "114934                                Enterprise Software  operating   \n",
              "\n",
              "       country_code         primary_sector  \n",
              "0               IND                  media  \n",
              "4               CHN            curated web  \n",
              "8               CAN          biotechnology  \n",
              "10              USA              analytics  \n",
              "11              USA              analytics  \n",
              "12              USA              analytics  \n",
              "22              USA                   apps  \n",
              "28              GBR              education  \n",
              "34              USA            curated web  \n",
              "38              USA            curated web  \n",
              "39              USA            curated web  \n",
              "41              USA            curated web  \n",
              "44              USA            curated web  \n",
              "46              FRA       local businesses  \n",
              "47              FRA       local businesses  \n",
              "49              FRA       local businesses  \n",
              "50              FRA              cosmetics  \n",
              "52              CHN                  games  \n",
              "55              CHN            hospitality  \n",
              "56              CHN              education  \n",
              "57              CHN              education  \n",
              "59              USA            health care  \n",
              "61              USA              analytics  \n",
              "62              USA               software  \n",
              "73              USA          biotechnology  \n",
              "74              USA          biotechnology  \n",
              "80              CHN          social travel  \n",
              "81              USA    enterprise software  \n",
              "99              CHN                    NaN  \n",
              "103             USA      service providers  \n",
              "...             ...                    ...  \n",
              "114872          USA               hardware  \n",
              "114873          USA               hardware  \n",
              "114874          USA               hardware  \n",
              "114876          USA          biotechnology  \n",
              "114879          USA          biotechnology  \n",
              "114882          CAN          biotechnology  \n",
              "114883          CAN          biotechnology  \n",
              "114884          CAN          biotechnology  \n",
              "114885          CAN          biotechnology  \n",
              "114886          CAN          biotechnology  \n",
              "114887          CAN          biotechnology  \n",
              "114893          GBR          crowdsourcing  \n",
              "114897          USA        pharmaceuticals  \n",
              "114899          USA  facebook applications  \n",
              "114900          USA  facebook applications  \n",
              "114901          USA  facebook applications  \n",
              "114902          USA  facebook applications  \n",
              "114903          USA  facebook applications  \n",
              "114904          USA  facebook applications  \n",
              "114905          USA  facebook applications  \n",
              "114907          USA  facebook applications  \n",
              "114908          USA          biotechnology  \n",
              "114909          GBR               software  \n",
              "114910          GBR               software  \n",
              "114913          USA          biotechnology  \n",
              "114915          USA          biotechnology  \n",
              "114916          USA          biotechnology  \n",
              "114927          USA             e-commerce  \n",
              "114929          USA          biotechnology  \n",
              "114934          CHN    enterprise software  \n",
              "\n",
              "[44383 rows x 10 columns]"
            ]
          },
          "metadata": {
            "tags": []
          },
          "execution_count": 137
        }
      ]
    },
    {
      "cell_type": "code",
      "metadata": {
        "id": "27H4Ct6OO9RP",
        "outputId": "f328b439-fce2-4ead-8bce-af6bf4104eeb"
      },
      "source": [
        "master_frame.shape"
      ],
      "execution_count": null,
      "outputs": [
        {
          "output_type": "execute_result",
          "data": {
            "text/plain": [
              "(50228, 10)"
            ]
          },
          "metadata": {
            "tags": []
          },
          "execution_count": 138
        }
      ]
    },
    {
      "cell_type": "code",
      "metadata": {
        "id": "6k8tmANyO9RS",
        "outputId": "9a61d78a-6799-4ec4-a2ac-c2bf68788fc8"
      },
      "source": [
        "# After selecting only top 9 countries with highest investement\n",
        "top9.shape"
      ],
      "execution_count": null,
      "outputs": [
        {
          "output_type": "execute_result",
          "data": {
            "text/plain": [
              "(44383, 10)"
            ]
          },
          "metadata": {
            "tags": []
          },
          "execution_count": 139
        }
      ]
    },
    {
      "cell_type": "code",
      "metadata": {
        "id": "Ubj1og-RO9RV",
        "outputId": "29e55cf4-3544-43e0-bccf-7ef8bf52221e"
      },
      "source": [
        "# A plot showing the top 9 countries against the total amount of investments of funding type FT. \n",
        "# This should make the top 3 countries (Country 1, Country 2, and Country 3) very clear.\n",
        "plt.figure(figsize=(10, 6))\n",
        "sns.barplot(y='raised_amount_usd', x= \"country_code\", data= top9, estimator = sum)\n",
        "plt.title(\"Total investment in Venture across top 9 countries\")\n",
        "plt.show()"
      ],
      "execution_count": null,
      "outputs": [
        {
          "output_type": "display_data",
          "data": {
            "image/png": "[encoded data removed]",
            "text/plain": [
              "<Figure size 720x432 with 1 Axes>"
            ]
          },
          "metadata": {
            "tags": []
          }
        }
      ]
    },
    {
      "cell_type": "code",
      "metadata": {
        "id": "5ibDREysO9RY",
        "outputId": "9ee3cb42-593d-4a50-a6ae-f65213ef6be4"
      },
      "source": [
        "# Choose top 3 english speaking countries form top9 data frame\n",
        "countries = top9[['country_code', 'raised_amount_usd']]\n",
        "top3_eng = countries.groupby('country_code')\n",
        "top3_eng['raised_amount_usd'].sum().sort_values(ascending = False)"
      ],
      "execution_count": null,
      "outputs": [
        {
          "output_type": "execute_result",
          "data": {
            "text/plain": [
              "country_code\n",
              "USA   422,510,842,796.00\n",
              "CHN    39,835,418,773.00\n",
              "GBR    20,245,627,416.00\n",
              "IND    14,391,858,718.00\n",
              "CAN     9,583,332,317.00\n",
              "FRA     7,259,536,732.00\n",
              "ISR     6,907,514,579.00\n",
              "DEU     6,346,959,822.00\n",
              "JPN     3,363,676,611.00\n",
              "Name: raised_amount_usd, dtype: float64"
            ]
          },
          "metadata": {
            "tags": []
          },
          "execution_count": 141
        }
      ]
    },
    {
      "cell_type": "code",
      "metadata": {
        "id": "mqgCtYkgO9Rd"
      },
      "source": [
        "# Top 3 english speaking countries - USA, GBR, IND (from top9), China in non-english"
      ],
      "execution_count": null,
      "outputs": []
    },
    {
      "cell_type": "code",
      "metadata": {
        "id": "02qhnMKAO9Rh",
        "outputId": "e3f76d49-e08a-47cd-89ed-f57d2f33def7"
      },
      "source": [
        "# Series is 1D array. so we can counter to count frequency of occurence of individual elements from array. Based on count only\n",
        "from collections import Counter\n",
        "countries = top9['country_code']\n",
        "eng_speaking_countries_fromtop9 = countries.sort_values(ascending = False)\n",
        "Counter(eng_speaking_countries_fromtop9) #Gives Dictionary "
      ],
      "execution_count": null,
      "outputs": [
        {
          "output_type": "execute_result",
          "data": {
            "text/plain": [
              "Counter({'USA': 36139,\n",
              "         'JPN': 274,\n",
              "         'ISR': 796,\n",
              "         'IND': 824,\n",
              "         'GBR': 2055,\n",
              "         'FRA': 917,\n",
              "         'DEU': 558,\n",
              "         'CHN': 1564,\n",
              "         'CAN': 1256})"
            ]
          },
          "metadata": {
            "tags": []
          },
          "execution_count": 143
        }
      ]
    },
    {
      "cell_type": "code",
      "metadata": {
        "id": "bFgfFjE2O9Rk"
      },
      "source": [
        "# Rows with NaN values in raised amount usd coloumn do not contribute to analysis. So we delete them\n",
        "master_frame = master_frame[~np.isnan(master_frame['raised_amount_usd'])]"
      ],
      "execution_count": null,
      "outputs": []
    },
    {
      "cell_type": "code",
      "metadata": {
        "id": "Y_CaNhrlO9Rn",
        "outputId": "e320b060-d1ab-4064-9807-2ae1f8cb9a7b"
      },
      "source": [
        "# Missing data report post row deletion percentage wise\n",
        "pd.set_option('display.precision',2)\n",
        "round(100*(master_frame.isnull().sum()/len(master_frame.index)), 2)"
      ],
      "execution_count": null,
      "outputs": [
        {
          "output_type": "execute_result",
          "data": {
            "text/plain": [
              "funding_round_permalink   0.00\n",
              "funding_round_type        0.00\n",
              "funded_at                 0.00\n",
              "raised_amount_usd         0.00\n",
              "permalink                 0.00\n",
              "name                      0.00\n",
              "category_list             1.00\n",
              "status                    0.00\n",
              "country_code              4.21\n",
              "primary_sector            1.00\n",
              "dtype: float64"
            ]
          },
          "metadata": {
            "tags": []
          },
          "execution_count": 145
        }
      ]
    },
    {
      "cell_type": "code",
      "metadata": {
        "id": "u-Fe0q9IO9Rq",
        "outputId": "b5294159-404b-4e64-9d2e-c4c8fc6887cd"
      },
      "source": [
        "#Check : Dropped 7 out of 16 columns and then dropped raised usd rows with null values: 114942 - 19984 = 94958\n",
        "# out of 94958 rows only rows with venture type investment are taken from master_frame. Therefore 50228\n",
        "master_frame.shape "
      ],
      "execution_count": null,
      "outputs": [
        {
          "output_type": "execute_result",
          "data": {
            "text/plain": [
              "(50228, 10)"
            ]
          },
          "metadata": {
            "tags": []
          },
          "execution_count": 146
        }
      ]
    },
    {
      "cell_type": "code",
      "metadata": {
        "id": "gdlwAUbQO9Rt"
      },
      "source": [
        "pd.options.display.float_format = '{:,.2f}'.format"
      ],
      "execution_count": null,
      "outputs": []
    },
    {
      "cell_type": "code",
      "metadata": {
        "id": "CHNuAmSSO9Ry",
        "outputId": "d16133ec-9bcd-45a3-eac0-550b2a1f50e0"
      },
      "source": [
        "master_frame['raised_amount_usd'].describe()"
      ],
      "execution_count": null,
      "outputs": [
        {
          "output_type": "execute_result",
          "data": {
            "text/plain": [
              "count           50,228.00\n",
              "mean        11,748,949.13\n",
              "std         86,352,066.56\n",
              "min                  0.00\n",
              "25%          1,600,901.75\n",
              "50%          5,000,000.00\n",
              "75%         12,000,000.00\n",
              "max     17,600,000,000.00\n",
              "Name: raised_amount_usd, dtype: float64"
            ]
          },
          "metadata": {
            "tags": []
          },
          "execution_count": 148
        }
      ]
    },
    {
      "cell_type": "code",
      "metadata": {
        "id": "SDamQGOuO9R1",
        "outputId": "3aefb7e4-2cb8-445d-a4fb-827bb554e6bd"
      },
      "source": [
        "# Fill NaN vaues in country code with unknown\n",
        "master_frame.loc[pd.isnull(master_frame['country_code']), ['country_code']] = \"notspecified\"\n",
        "# Fill NaN vaues in category list with unknown\n",
        "# Drop these rows will also drop rows with raised_usd. So retained\n",
        "master_frame.loc[pd.isnull(master_frame['category_list']), ['category_list']] = \"notspecified\"\n",
        "round(100*(master_frame.isnull().sum()/len(master_frame.index)), 2)"
      ],
      "execution_count": null,
      "outputs": [
        {
          "output_type": "execute_result",
          "data": {
            "text/plain": [
              "funding_round_permalink   0.00\n",
              "funding_round_type        0.00\n",
              "funded_at                 0.00\n",
              "raised_amount_usd         0.00\n",
              "permalink                 0.00\n",
              "name                      0.00\n",
              "category_list             0.00\n",
              "status                    0.00\n",
              "country_code              0.00\n",
              "primary_sector            1.00\n",
              "dtype: float64"
            ]
          },
          "metadata": {
            "tags": []
          },
          "execution_count": 149
        }
      ]
    },
    {
      "cell_type": "code",
      "metadata": {
        "id": "HX5KF1NaO9R8",
        "outputId": "197e90f1-f993-4009-ea4c-3abf08de74f4"
      },
      "source": [
        "mapping = pd.read_csv(\"G:\\MLandAI\\Assignment_1/mapping.csv\", encoding = \"ISO-8859-1\")\n",
        "mapping.head()"
      ],
      "execution_count": null,
      "outputs": [
        {
          "output_type": "execute_result",
          "data": {
            "text/html": [
              "<div>\n",
              "<style scoped>\n",
              "    .dataframe tbody tr th:only-of-type {\n",
              "        vertical-align: middle;\n",
              "    }\n",
              "\n",
              "    .dataframe tbody tr th {\n",
              "        vertical-align: top;\n",
              "    }\n",
              "\n",
              "    .dataframe thead th {\n",
              "        text-align: right;\n",
              "    }\n",
              "</style>\n",
              "<table border=\"1\" class=\"dataframe\">\n",
              "  <thead>\n",
              "    <tr style=\"text-align: right;\">\n",
              "      <th></th>\n",
              "      <th>category_list</th>\n",
              "      <th>Automotive &amp; Sports</th>\n",
              "      <th>Blanks</th>\n",
              "      <th>Cleantech / Semiconductors</th>\n",
              "      <th>Entertainment</th>\n",
              "      <th>Health</th>\n",
              "      <th>Manufacturing</th>\n",
              "      <th>News, Search and Messaging</th>\n",
              "      <th>Others</th>\n",
              "      <th>Social, Finance, Analytics, Advertising</th>\n",
              "    </tr>\n",
              "  </thead>\n",
              "  <tbody>\n",
              "    <tr>\n",
              "      <th>0</th>\n",
              "      <td>NaN</td>\n",
              "      <td>0</td>\n",
              "      <td>1</td>\n",
              "      <td>0</td>\n",
              "      <td>0</td>\n",
              "      <td>0</td>\n",
              "      <td>0</td>\n",
              "      <td>0</td>\n",
              "      <td>0</td>\n",
              "      <td>0</td>\n",
              "    </tr>\n",
              "    <tr>\n",
              "      <th>1</th>\n",
              "      <td>3D</td>\n",
              "      <td>0</td>\n",
              "      <td>0</td>\n",
              "      <td>0</td>\n",
              "      <td>0</td>\n",
              "      <td>0</td>\n",
              "      <td>1</td>\n",
              "      <td>0</td>\n",
              "      <td>0</td>\n",
              "      <td>0</td>\n",
              "    </tr>\n",
              "    <tr>\n",
              "      <th>2</th>\n",
              "      <td>3D Printing</td>\n",
              "      <td>0</td>\n",
              "      <td>0</td>\n",
              "      <td>0</td>\n",
              "      <td>0</td>\n",
              "      <td>0</td>\n",
              "      <td>1</td>\n",
              "      <td>0</td>\n",
              "      <td>0</td>\n",
              "      <td>0</td>\n",
              "    </tr>\n",
              "    <tr>\n",
              "      <th>3</th>\n",
              "      <td>3D Technology</td>\n",
              "      <td>0</td>\n",
              "      <td>0</td>\n",
              "      <td>0</td>\n",
              "      <td>0</td>\n",
              "      <td>0</td>\n",
              "      <td>1</td>\n",
              "      <td>0</td>\n",
              "      <td>0</td>\n",
              "      <td>0</td>\n",
              "    </tr>\n",
              "    <tr>\n",
              "      <th>4</th>\n",
              "      <td>Accounting</td>\n",
              "      <td>0</td>\n",
              "      <td>0</td>\n",
              "      <td>0</td>\n",
              "      <td>0</td>\n",
              "      <td>0</td>\n",
              "      <td>0</td>\n",
              "      <td>0</td>\n",
              "      <td>0</td>\n",
              "      <td>1</td>\n",
              "    </tr>\n",
              "  </tbody>\n",
              "</table>\n",
              "</div>"
            ],
            "text/plain": [
              "   category_list  Automotive & Sports  Blanks  Cleantech / Semiconductors  \\\n",
              "0            NaN                    0       1                           0   \n",
              "1             3D                    0       0                           0   \n",
              "2    3D Printing                    0       0                           0   \n",
              "3  3D Technology                    0       0                           0   \n",
              "4     Accounting                    0       0                           0   \n",
              "\n",
              "   Entertainment  Health  Manufacturing  News, Search and Messaging  Others  \\\n",
              "0              0       0              0                           0       0   \n",
              "1              0       0              1                           0       0   \n",
              "2              0       0              1                           0       0   \n",
              "3              0       0              1                           0       0   \n",
              "4              0       0              0                           0       0   \n",
              "\n",
              "   Social, Finance, Analytics, Advertising  \n",
              "0                                        0  \n",
              "1                                        0  \n",
              "2                                        0  \n",
              "3                                        0  \n",
              "4                                        1  "
            ]
          },
          "metadata": {
            "tags": []
          },
          "execution_count": 150
        }
      ]
    },
    {
      "cell_type": "code",
      "metadata": {
        "id": "CgVYfughO9R_",
        "outputId": "ef7b128b-d61b-4c58-848f-d26e6e00da13"
      },
      "source": [
        "mapping.info()"
      ],
      "execution_count": null,
      "outputs": [
        {
          "output_type": "stream",
          "text": [
            "<class 'pandas.core.frame.DataFrame'>\n",
            "RangeIndex: 688 entries, 0 to 687\n",
            "Data columns (total 10 columns):\n",
            "category_list                              687 non-null object\n",
            "Automotive & Sports                        688 non-null int64\n",
            "Blanks                                     688 non-null int64\n",
            "Cleantech / Semiconductors                 688 non-null int64\n",
            "Entertainment                              688 non-null int64\n",
            "Health                                     688 non-null int64\n",
            "Manufacturing                              688 non-null int64\n",
            "News, Search and Messaging                 688 non-null int64\n",
            "Others                                     688 non-null int64\n",
            "Social, Finance, Analytics, Advertising    688 non-null int64\n",
            "dtypes: int64(9), object(1)\n",
            "memory usage: 53.8+ KB\n"
          ],
          "name": "stdout"
        }
      ]
    },
    {
      "cell_type": "code",
      "metadata": {
        "id": "PhAzWTkVO9SE",
        "outputId": "58d02def-b978-456f-de1f-a016e4299771"
      },
      "source": [
        "# Unique primary_sectors in mapping\n",
        "len(mapping['category_list'].str.lower().unique())"
      ],
      "execution_count": null,
      "outputs": [
        {
          "output_type": "execute_result",
          "data": {
            "text/plain": [
              "688"
            ]
          },
          "metadata": {
            "tags": []
          },
          "execution_count": 152
        }
      ]
    },
    {
      "cell_type": "code",
      "metadata": {
        "id": "FuxTW-AoO9SI",
        "outputId": "9a2f78fa-5d12-4db1-d99a-d91f4145173b"
      },
      "source": [
        "# Maps from the excel category list to main sector to value \n",
        "# Converts from row wise mapping to column eise mapping in an order of main_sectoe in excel sheet or df\n",
        "mapping_new = pd.melt(mapping,id_vars= 'category_list', var_name = 'main_sector')\n",
        "# There are 688 unique categories. Each is compared with all 9 categories to get the value 0 or 1\n",
        "# 688 * 9 = 6192 entries in mapping upon melt. Take off rows with values 0  \n",
        "mapping_new = mapping_new[mapping_new.value != 0]\n",
        "mapping_new.head()\n",
        "# This maps category list or primary sector to 9 main_sectors including blanks. We have changed the mapping dataframe from 688x10 to 688x3"
      ],
      "execution_count": null,
      "outputs": [
        {
          "output_type": "execute_result",
          "data": {
            "text/html": [
              "<div>\n",
              "<style scoped>\n",
              "    .dataframe tbody tr th:only-of-type {\n",
              "        vertical-align: middle;\n",
              "    }\n",
              "\n",
              "    .dataframe tbody tr th {\n",
              "        vertical-align: top;\n",
              "    }\n",
              "\n",
              "    .dataframe thead th {\n",
              "        text-align: right;\n",
              "    }\n",
              "</style>\n",
              "<table border=\"1\" class=\"dataframe\">\n",
              "  <thead>\n",
              "    <tr style=\"text-align: right;\">\n",
              "      <th></th>\n",
              "      <th>category_list</th>\n",
              "      <th>main_sector</th>\n",
              "      <th>value</th>\n",
              "    </tr>\n",
              "  </thead>\n",
              "  <tbody>\n",
              "    <tr>\n",
              "      <th>8</th>\n",
              "      <td>Adventure Travel</td>\n",
              "      <td>Automotive &amp; Sports</td>\n",
              "      <td>1</td>\n",
              "    </tr>\n",
              "    <tr>\n",
              "      <th>14</th>\n",
              "      <td>Aerospace</td>\n",
              "      <td>Automotive &amp; Sports</td>\n",
              "      <td>1</td>\n",
              "    </tr>\n",
              "    <tr>\n",
              "      <th>45</th>\n",
              "      <td>Auto</td>\n",
              "      <td>Automotive &amp; Sports</td>\n",
              "      <td>1</td>\n",
              "    </tr>\n",
              "    <tr>\n",
              "      <th>46</th>\n",
              "      <td>Automated Kiosk</td>\n",
              "      <td>Automotive &amp; Sports</td>\n",
              "      <td>1</td>\n",
              "    </tr>\n",
              "    <tr>\n",
              "      <th>47</th>\n",
              "      <td>Automotive</td>\n",
              "      <td>Automotive &amp; Sports</td>\n",
              "      <td>1</td>\n",
              "    </tr>\n",
              "  </tbody>\n",
              "</table>\n",
              "</div>"
            ],
            "text/plain": [
              "       category_list          main_sector  value\n",
              "8   Adventure Travel  Automotive & Sports      1\n",
              "14         Aerospace  Automotive & Sports      1\n",
              "45              Auto  Automotive & Sports      1\n",
              "46   Automated Kiosk  Automotive & Sports      1\n",
              "47        Automotive  Automotive & Sports      1"
            ]
          },
          "metadata": {
            "tags": []
          },
          "execution_count": 153
        }
      ]
    },
    {
      "cell_type": "code",
      "metadata": {
        "id": "XbBoarGNO9SM"
      },
      "source": [
        "#category list in mapping_new is same as primary sector in master frame \n",
        "mapping_new.rename(columns={'category_list':'primary_sector'}, inplace = True)"
      ],
      "execution_count": null,
      "outputs": []
    },
    {
      "cell_type": "code",
      "metadata": {
        "id": "bfmmSU93O9SR",
        "outputId": "a2e2c2be-0c34-4668-d75e-d2694bfb00ee"
      },
      "source": [
        "# merged data frame with each primary sector mapped to its main sector \n",
        "# New dataframe for mapping\n",
        "mapping_new = mapping_new.drop('value', axis=1)\n",
        "# To merge mapping and master frame convert primary sector to lower\n",
        "mapping_new['primary_sector'] = mapping_new['primary_sector'].str.lower()\n",
        "mapping_new.head()"
      ],
      "execution_count": null,
      "outputs": [
        {
          "output_type": "execute_result",
          "data": {
            "text/html": [
              "<div>\n",
              "<style scoped>\n",
              "    .dataframe tbody tr th:only-of-type {\n",
              "        vertical-align: middle;\n",
              "    }\n",
              "\n",
              "    .dataframe tbody tr th {\n",
              "        vertical-align: top;\n",
              "    }\n",
              "\n",
              "    .dataframe thead th {\n",
              "        text-align: right;\n",
              "    }\n",
              "</style>\n",
              "<table border=\"1\" class=\"dataframe\">\n",
              "  <thead>\n",
              "    <tr style=\"text-align: right;\">\n",
              "      <th></th>\n",
              "      <th>primary_sector</th>\n",
              "      <th>main_sector</th>\n",
              "    </tr>\n",
              "  </thead>\n",
              "  <tbody>\n",
              "    <tr>\n",
              "      <th>8</th>\n",
              "      <td>adventure travel</td>\n",
              "      <td>Automotive &amp; Sports</td>\n",
              "    </tr>\n",
              "    <tr>\n",
              "      <th>14</th>\n",
              "      <td>aerospace</td>\n",
              "      <td>Automotive &amp; Sports</td>\n",
              "    </tr>\n",
              "    <tr>\n",
              "      <th>45</th>\n",
              "      <td>auto</td>\n",
              "      <td>Automotive &amp; Sports</td>\n",
              "    </tr>\n",
              "    <tr>\n",
              "      <th>46</th>\n",
              "      <td>automated kiosk</td>\n",
              "      <td>Automotive &amp; Sports</td>\n",
              "    </tr>\n",
              "    <tr>\n",
              "      <th>47</th>\n",
              "      <td>automotive</td>\n",
              "      <td>Automotive &amp; Sports</td>\n",
              "    </tr>\n",
              "  </tbody>\n",
              "</table>\n",
              "</div>"
            ],
            "text/plain": [
              "      primary_sector          main_sector\n",
              "8   adventure travel  Automotive & Sports\n",
              "14         aerospace  Automotive & Sports\n",
              "45              auto  Automotive & Sports\n",
              "46   automated kiosk  Automotive & Sports\n",
              "47        automotive  Automotive & Sports"
            ]
          },
          "metadata": {
            "tags": []
          },
          "execution_count": 155
        }
      ]
    },
    {
      "cell_type": "code",
      "metadata": {
        "id": "pFsaSzCtO9SV",
        "outputId": "b0c6a40b-3e93-41b0-9874-2a6c502abfc2"
      },
      "source": [
        "mapping_new['main_sector'].str.lower().unique()"
      ],
      "execution_count": null,
      "outputs": [
        {
          "output_type": "execute_result",
          "data": {
            "text/plain": [
              "array(['automotive & sports', 'blanks', 'cleantech / semiconductors',\n",
              "       'entertainment', 'health', 'manufacturing',\n",
              "       'news, search and messaging', 'others',\n",
              "       'social, finance, analytics, advertising'], dtype=object)"
            ]
          },
          "metadata": {
            "tags": []
          },
          "execution_count": 156
        }
      ]
    },
    {
      "cell_type": "code",
      "metadata": {
        "id": "qYQ2BDCSO9Sb",
        "outputId": "ffb88a06-8416-440e-bce5-eedb78aae16d"
      },
      "source": [
        "mapping_new[mapping_new.main_sector == 'Blanks']"
      ],
      "execution_count": null,
      "outputs": [
        {
          "output_type": "execute_result",
          "data": {
            "text/html": [
              "<div>\n",
              "<style scoped>\n",
              "    .dataframe tbody tr th:only-of-type {\n",
              "        vertical-align: middle;\n",
              "    }\n",
              "\n",
              "    .dataframe tbody tr th {\n",
              "        vertical-align: top;\n",
              "    }\n",
              "\n",
              "    .dataframe thead th {\n",
              "        text-align: right;\n",
              "    }\n",
              "</style>\n",
              "<table border=\"1\" class=\"dataframe\">\n",
              "  <thead>\n",
              "    <tr style=\"text-align: right;\">\n",
              "      <th></th>\n",
              "      <th>primary_sector</th>\n",
              "      <th>main_sector</th>\n",
              "    </tr>\n",
              "  </thead>\n",
              "  <tbody>\n",
              "    <tr>\n",
              "      <th>688</th>\n",
              "      <td>NaN</td>\n",
              "      <td>Blanks</td>\n",
              "    </tr>\n",
              "  </tbody>\n",
              "</table>\n",
              "</div>"
            ],
            "text/plain": [
              "    primary_sector main_sector\n",
              "688            NaN      Blanks"
            ]
          },
          "metadata": {
            "tags": []
          },
          "execution_count": 157
        }
      ]
    },
    {
      "cell_type": "code",
      "metadata": {
        "id": "KaZ_qOPYO9Sg",
        "outputId": "bc98a6a2-303e-420a-8375-a8405fe686b3"
      },
      "source": [
        "mapping_new= mapping_new[mapping_new.main_sector != 'Blanks']\n",
        "mapping_new.head()"
      ],
      "execution_count": null,
      "outputs": [
        {
          "output_type": "execute_result",
          "data": {
            "text/html": [
              "<div>\n",
              "<style scoped>\n",
              "    .dataframe tbody tr th:only-of-type {\n",
              "        vertical-align: middle;\n",
              "    }\n",
              "\n",
              "    .dataframe tbody tr th {\n",
              "        vertical-align: top;\n",
              "    }\n",
              "\n",
              "    .dataframe thead th {\n",
              "        text-align: right;\n",
              "    }\n",
              "</style>\n",
              "<table border=\"1\" class=\"dataframe\">\n",
              "  <thead>\n",
              "    <tr style=\"text-align: right;\">\n",
              "      <th></th>\n",
              "      <th>primary_sector</th>\n",
              "      <th>main_sector</th>\n",
              "    </tr>\n",
              "  </thead>\n",
              "  <tbody>\n",
              "    <tr>\n",
              "      <th>8</th>\n",
              "      <td>adventure travel</td>\n",
              "      <td>Automotive &amp; Sports</td>\n",
              "    </tr>\n",
              "    <tr>\n",
              "      <th>14</th>\n",
              "      <td>aerospace</td>\n",
              "      <td>Automotive &amp; Sports</td>\n",
              "    </tr>\n",
              "    <tr>\n",
              "      <th>45</th>\n",
              "      <td>auto</td>\n",
              "      <td>Automotive &amp; Sports</td>\n",
              "    </tr>\n",
              "    <tr>\n",
              "      <th>46</th>\n",
              "      <td>automated kiosk</td>\n",
              "      <td>Automotive &amp; Sports</td>\n",
              "    </tr>\n",
              "    <tr>\n",
              "      <th>47</th>\n",
              "      <td>automotive</td>\n",
              "      <td>Automotive &amp; Sports</td>\n",
              "    </tr>\n",
              "  </tbody>\n",
              "</table>\n",
              "</div>"
            ],
            "text/plain": [
              "      primary_sector          main_sector\n",
              "8   adventure travel  Automotive & Sports\n",
              "14         aerospace  Automotive & Sports\n",
              "45              auto  Automotive & Sports\n",
              "46   automated kiosk  Automotive & Sports\n",
              "47        automotive  Automotive & Sports"
            ]
          },
          "metadata": {
            "tags": []
          },
          "execution_count": 158
        }
      ]
    },
    {
      "cell_type": "code",
      "metadata": {
        "id": "VIq1PIJKO9Sk",
        "outputId": "0c7fd2cb-e35a-4eab-c45d-ead6309f5243"
      },
      "source": [
        "mapping_new['main_sector'].str.lower().unique()"
      ],
      "execution_count": null,
      "outputs": [
        {
          "output_type": "execute_result",
          "data": {
            "text/plain": [
              "array(['automotive & sports', 'cleantech / semiconductors',\n",
              "       'entertainment', 'health', 'manufacturing',\n",
              "       'news, search and messaging', 'others',\n",
              "       'social, finance, analytics, advertising'], dtype=object)"
            ]
          },
          "metadata": {
            "tags": []
          },
          "execution_count": 159
        }
      ]
    },
    {
      "cell_type": "code",
      "metadata": {
        "id": "AX0lQepKO9Sp",
        "outputId": "2b41e8de-18a6-4beb-c930-368af9171f8e"
      },
      "source": [
        "len(mapping_new['main_sector'].str.lower().unique())"
      ],
      "execution_count": null,
      "outputs": [
        {
          "output_type": "execute_result",
          "data": {
            "text/plain": [
              "8"
            ]
          },
          "metadata": {
            "tags": []
          },
          "execution_count": 160
        }
      ]
    },
    {
      "cell_type": "code",
      "metadata": {
        "id": "K5dAwgIlO9Su",
        "outputId": "b90be586-b77e-4074-eb88-52b75ca91114"
      },
      "source": [
        "#Final merged data frame with primary sector mapped to 8 main sectors \n",
        "mapping_new.head()"
      ],
      "execution_count": null,
      "outputs": [
        {
          "output_type": "execute_result",
          "data": {
            "text/html": [
              "<div>\n",
              "<style scoped>\n",
              "    .dataframe tbody tr th:only-of-type {\n",
              "        vertical-align: middle;\n",
              "    }\n",
              "\n",
              "    .dataframe tbody tr th {\n",
              "        vertical-align: top;\n",
              "    }\n",
              "\n",
              "    .dataframe thead th {\n",
              "        text-align: right;\n",
              "    }\n",
              "</style>\n",
              "<table border=\"1\" class=\"dataframe\">\n",
              "  <thead>\n",
              "    <tr style=\"text-align: right;\">\n",
              "      <th></th>\n",
              "      <th>primary_sector</th>\n",
              "      <th>main_sector</th>\n",
              "    </tr>\n",
              "  </thead>\n",
              "  <tbody>\n",
              "    <tr>\n",
              "      <th>8</th>\n",
              "      <td>adventure travel</td>\n",
              "      <td>Automotive &amp; Sports</td>\n",
              "    </tr>\n",
              "    <tr>\n",
              "      <th>14</th>\n",
              "      <td>aerospace</td>\n",
              "      <td>Automotive &amp; Sports</td>\n",
              "    </tr>\n",
              "    <tr>\n",
              "      <th>45</th>\n",
              "      <td>auto</td>\n",
              "      <td>Automotive &amp; Sports</td>\n",
              "    </tr>\n",
              "    <tr>\n",
              "      <th>46</th>\n",
              "      <td>automated kiosk</td>\n",
              "      <td>Automotive &amp; Sports</td>\n",
              "    </tr>\n",
              "    <tr>\n",
              "      <th>47</th>\n",
              "      <td>automotive</td>\n",
              "      <td>Automotive &amp; Sports</td>\n",
              "    </tr>\n",
              "  </tbody>\n",
              "</table>\n",
              "</div>"
            ],
            "text/plain": [
              "      primary_sector          main_sector\n",
              "8   adventure travel  Automotive & Sports\n",
              "14         aerospace  Automotive & Sports\n",
              "45              auto  Automotive & Sports\n",
              "46   automated kiosk  Automotive & Sports\n",
              "47        automotive  Automotive & Sports"
            ]
          },
          "metadata": {
            "tags": []
          },
          "execution_count": 161
        }
      ]
    },
    {
      "cell_type": "code",
      "metadata": {
        "id": "tog66XzeO9Sz",
        "outputId": "81df566f-c5b2-478d-e532-c91ce58311cb"
      },
      "source": [
        "mapping_new.shape"
      ],
      "execution_count": null,
      "outputs": [
        {
          "output_type": "execute_result",
          "data": {
            "text/plain": [
              "(687, 2)"
            ]
          },
          "metadata": {
            "tags": []
          },
          "execution_count": 162
        }
      ]
    },
    {
      "cell_type": "code",
      "metadata": {
        "id": "GJokskv2O9S4",
        "outputId": "f66c65af-3b5c-4fd1-e771-e6021d4f669b"
      },
      "source": [
        "mapping_new.primary_sector.sort_values(ascending=True)"
      ],
      "execution_count": null,
      "outputs": [
        {
          "output_type": "execute_result",
          "data": {
            "text/plain": [
              "1847                 0notechnology\n",
              "1848    0tural language processing\n",
              "1849              0tural resources\n",
              "4602                     0vigation\n",
              "3441                            3d\n",
              "3442                   3d printing\n",
              "3443                 3d technology\n",
              "5526                      a0lytics\n",
              "5508                    accounting\n",
              "2757              active lifestyle\n",
              "5510                  ad targeting\n",
              "3447            advanced materials\n",
              "8                 adventure travel\n",
              "5513                   advertising\n",
              "5514         advertising exchanges\n",
              "5515          advertising networks\n",
              "5516         advertising platforms\n",
              "4829                        advice\n",
              "14                       aerospace\n",
              "3455                   agriculture\n",
              "1392         air pollution control\n",
              "4833                    algorithms\n",
              "4834                   all markets\n",
              "4835                  all students\n",
              "2772           alter0tive medicine\n",
              "4837                        alumni\n",
              "5527                       android\n",
              "4840                        angels\n",
              "2777                   animal feed\n",
              "5530    anything capital intensive\n",
              "                   ...            \n",
              "5474                     usability\n",
              "5475        user experience design\n",
              "5476                user interface\n",
              "5477                     utilities\n",
              "5478       vending and concessions\n",
              "6167               venture capital\n",
              "3416                     veteri0ry\n",
              "2729                         video\n",
              "2730            video conferencing\n",
              "2731                   video games\n",
              "2732               video on demand\n",
              "2733               video streaming\n",
              "2734            virtual workforces\n",
              "2735                          voip\n",
              "2048               waste ma0gement\n",
              "5489                         watch\n",
              "2050                         water\n",
              "2051            water purification\n",
              "2052                     wearables\n",
              "4805                  web browsers\n",
              "4806                    web design\n",
              "5495               web development\n",
              "5496                   web hosting\n",
              "5497                     web tools\n",
              "2746                      weddings\n",
              "5499                     wholesale\n",
              "2748              wine and spirits\n",
              "2749                      wireless\n",
              "5502                         women\n",
              "5503                  young adults\n",
              "Name: primary_sector, Length: 687, dtype: object"
            ]
          },
          "metadata": {
            "tags": []
          },
          "execution_count": 163
        }
      ]
    },
    {
      "cell_type": "code",
      "metadata": {
        "id": "3YOO_H5IO9S_",
        "outputId": "4377823c-85a4-4f7d-8bae-0c70b83cfbd0"
      },
      "source": [
        "# the na is represented by 0. We need to fix this else rows are lot in merging later\n",
        "import re\n",
        "mapping_new['primary_sector'] = mapping_new.primary_sector.apply(lambda x: re.sub('[0]', 'na', str(x)))\n",
        "mapping_new.primary_sector.sort_values(ascending=True)"
      ],
      "execution_count": null,
      "outputs": [
        {
          "output_type": "execute_result",
          "data": {
            "text/plain": [
              "3441                                    3d\n",
              "3442                           3d printing\n",
              "3443                         3d technology\n",
              "5508                            accounting\n",
              "2757                      active lifestyle\n",
              "5510                          ad targeting\n",
              "3447                    advanced materials\n",
              "8                         adventure travel\n",
              "5513                           advertising\n",
              "5514                 advertising exchanges\n",
              "5515                  advertising networks\n",
              "5516                 advertising platforms\n",
              "4829                                advice\n",
              "14                               aerospace\n",
              "3455                           agriculture\n",
              "1392                 air pollution control\n",
              "4833                            algorithms\n",
              "4834                           all markets\n",
              "4835                          all students\n",
              "2772                  alternative medicine\n",
              "4837                                alumni\n",
              "5526                             analytics\n",
              "5527                               android\n",
              "4840                                angels\n",
              "2777                           animal feed\n",
              "5530            anything capital intensive\n",
              "4155                         app discovery\n",
              "4156                         app marketing\n",
              "4157                            app stores\n",
              "4158    application performance monitoring\n",
              "                       ...                \n",
              "5474                             usability\n",
              "5475                user experience design\n",
              "5476                        user interface\n",
              "5477                             utilities\n",
              "5478               vending and concessions\n",
              "6167                       venture capital\n",
              "3416                            veterinary\n",
              "2729                                 video\n",
              "2730                    video conferencing\n",
              "2731                           video games\n",
              "2732                       video on demand\n",
              "2733                       video streaming\n",
              "2734                    virtual workforces\n",
              "2735                                  voip\n",
              "2048                      waste management\n",
              "5489                                 watch\n",
              "2050                                 water\n",
              "2051                    water purification\n",
              "2052                             wearables\n",
              "4805                          web browsers\n",
              "4806                            web design\n",
              "5495                       web development\n",
              "5496                           web hosting\n",
              "5497                             web tools\n",
              "2746                              weddings\n",
              "5499                             wholesale\n",
              "2748                      wine and spirits\n",
              "2749                              wireless\n",
              "5502                                 women\n",
              "5503                          young adults\n",
              "Name: primary_sector, Length: 687, dtype: object"
            ]
          },
          "metadata": {
            "tags": []
          },
          "execution_count": 164
        }
      ]
    },
    {
      "cell_type": "code",
      "metadata": {
        "id": "AVZ89FpmO9TE",
        "outputId": "64d340b9-3586-4563-c4c1-4203af2460f7"
      },
      "source": [
        "# Extract only top 3 english speaking countries from top9 dataframe because it is investment based\n",
        "top3_english = top9[top9['country_code'].isin(['USA', 'GBR', 'IND'])]\n",
        "top3_english.head()"
      ],
      "execution_count": null,
      "outputs": [
        {
          "output_type": "execute_result",
          "data": {
            "text/html": [
              "<div>\n",
              "<style scoped>\n",
              "    .dataframe tbody tr th:only-of-type {\n",
              "        vertical-align: middle;\n",
              "    }\n",
              "\n",
              "    .dataframe tbody tr th {\n",
              "        vertical-align: top;\n",
              "    }\n",
              "\n",
              "    .dataframe thead th {\n",
              "        text-align: right;\n",
              "    }\n",
              "</style>\n",
              "<table border=\"1\" class=\"dataframe\">\n",
              "  <thead>\n",
              "    <tr style=\"text-align: right;\">\n",
              "      <th></th>\n",
              "      <th>funding_round_permalink</th>\n",
              "      <th>funding_round_type</th>\n",
              "      <th>funded_at</th>\n",
              "      <th>raised_amount_usd</th>\n",
              "      <th>permalink</th>\n",
              "      <th>name</th>\n",
              "      <th>category_list</th>\n",
              "      <th>status</th>\n",
              "      <th>country_code</th>\n",
              "      <th>primary_sector</th>\n",
              "    </tr>\n",
              "  </thead>\n",
              "  <tbody>\n",
              "    <tr>\n",
              "      <th>0</th>\n",
              "      <td>/funding-round/9a01d05418af9f794eebff7ace91f638</td>\n",
              "      <td>venture</td>\n",
              "      <td>05-01-2015</td>\n",
              "      <td>10,000,000.00</td>\n",
              "      <td>/organization/-fame</td>\n",
              "      <td>#fame</td>\n",
              "      <td>Media</td>\n",
              "      <td>operating</td>\n",
              "      <td>IND</td>\n",
              "      <td>media</td>\n",
              "    </tr>\n",
              "    <tr>\n",
              "      <th>10</th>\n",
              "      <td>/funding-round/3bb2ee4a2d89251a10aaa735b1180e44</td>\n",
              "      <td>venture</td>\n",
              "      <td>09-11-2015</td>\n",
              "      <td>20,000,000.00</td>\n",
              "      <td>/organization/0xdata</td>\n",
              "      <td>H2O.ai</td>\n",
              "      <td>Analytics</td>\n",
              "      <td>operating</td>\n",
              "      <td>USA</td>\n",
              "      <td>analytics</td>\n",
              "    </tr>\n",
              "    <tr>\n",
              "      <th>11</th>\n",
              "      <td>/funding-round/ae2a174c06517c2394aed45006322a7e</td>\n",
              "      <td>venture</td>\n",
              "      <td>03-01-2013</td>\n",
              "      <td>1,700,000.00</td>\n",
              "      <td>/organization/0xdata</td>\n",
              "      <td>H2O.ai</td>\n",
              "      <td>Analytics</td>\n",
              "      <td>operating</td>\n",
              "      <td>USA</td>\n",
              "      <td>analytics</td>\n",
              "    </tr>\n",
              "    <tr>\n",
              "      <th>12</th>\n",
              "      <td>/funding-round/e1cfcbe1bdf4c70277c5f29a3482f24e</td>\n",
              "      <td>venture</td>\n",
              "      <td>19-07-2014</td>\n",
              "      <td>8,900,000.00</td>\n",
              "      <td>/organization/0xdata</td>\n",
              "      <td>H2O.ai</td>\n",
              "      <td>Analytics</td>\n",
              "      <td>operating</td>\n",
              "      <td>USA</td>\n",
              "      <td>analytics</td>\n",
              "    </tr>\n",
              "    <tr>\n",
              "      <th>22</th>\n",
              "      <td>/funding-round/b952cbaf401f310927430c97b68162ea</td>\n",
              "      <td>venture</td>\n",
              "      <td>17-03-2015</td>\n",
              "      <td>5,000,000.00</td>\n",
              "      <td>/organization/1-mainstream</td>\n",
              "      <td>1 Mainstream</td>\n",
              "      <td>Apps|Cable|Distribution|Software</td>\n",
              "      <td>acquired</td>\n",
              "      <td>USA</td>\n",
              "      <td>apps</td>\n",
              "    </tr>\n",
              "  </tbody>\n",
              "</table>\n",
              "</div>"
            ],
            "text/plain": [
              "                            funding_round_permalink funding_round_type  \\\n",
              "0   /funding-round/9a01d05418af9f794eebff7ace91f638            venture   \n",
              "10  /funding-round/3bb2ee4a2d89251a10aaa735b1180e44            venture   \n",
              "11  /funding-round/ae2a174c06517c2394aed45006322a7e            venture   \n",
              "12  /funding-round/e1cfcbe1bdf4c70277c5f29a3482f24e            venture   \n",
              "22  /funding-round/b952cbaf401f310927430c97b68162ea            venture   \n",
              "\n",
              "     funded_at  raised_amount_usd                   permalink          name  \\\n",
              "0   05-01-2015      10,000,000.00         /organization/-fame         #fame   \n",
              "10  09-11-2015      20,000,000.00        /organization/0xdata        H2O.ai   \n",
              "11  03-01-2013       1,700,000.00        /organization/0xdata        H2O.ai   \n",
              "12  19-07-2014       8,900,000.00        /organization/0xdata        H2O.ai   \n",
              "22  17-03-2015       5,000,000.00  /organization/1-mainstream  1 Mainstream   \n",
              "\n",
              "                       category_list     status country_code primary_sector  \n",
              "0                              Media  operating          IND          media  \n",
              "10                         Analytics  operating          USA      analytics  \n",
              "11                         Analytics  operating          USA      analytics  \n",
              "12                         Analytics  operating          USA      analytics  \n",
              "22  Apps|Cable|Distribution|Software   acquired          USA           apps  "
            ]
          },
          "metadata": {
            "tags": []
          },
          "execution_count": 165
        }
      ]
    },
    {
      "cell_type": "code",
      "metadata": {
        "id": "MnHMubdIO9TJ",
        "outputId": "da9ba696-faac-4d60-f6bc-fa8fdfcb3297"
      },
      "source": [
        "top3_english.shape"
      ],
      "execution_count": null,
      "outputs": [
        {
          "output_type": "execute_result",
          "data": {
            "text/plain": [
              "(39018, 10)"
            ]
          },
          "metadata": {
            "tags": []
          },
          "execution_count": 166
        }
      ]
    },
    {
      "cell_type": "code",
      "metadata": {
        "id": "9ONNIonPO9TM",
        "outputId": "37eb7638-110c-47d6-f218-0aff1bb94310"
      },
      "source": [
        "plt.figure(figsize=(6, 6))\n",
        "sns.barplot(y='raised_amount_usd', x= \"country_code\", data= top3_english, estimator = sum)\n",
        "plt.title(\"Total investment in each country in Venture \")\n",
        "plt.show()"
      ],
      "execution_count": null,
      "outputs": [
        {
          "output_type": "display_data",
          "data": {
            "image/png": "[encoded data removed]",
            "text/plain": [
              "<Figure size 432x432 with 1 Axes>"
            ]
          },
          "metadata": {
            "tags": []
          }
        }
      ]
    },
    {
      "cell_type": "code",
      "metadata": {
        "id": "LmSMYqJ6O9TQ",
        "outputId": "9288ad0d-9ad9-4fc6-c4c8-c20a8bbc8da1"
      },
      "source": [
        "plt.figure(figsize=(6, 6))\n",
        "sns.countplot(x = \"country_code\", data = top3_english)\n",
        "plt.title(\"Number of Investments in each country in Venture\")\n",
        "plt.show()"
      ],
      "execution_count": null,
      "outputs": [
        {
          "output_type": "display_data",
          "data": {
            "image/png": "[encoded data removed]",
            "text/plain": [
              "<Figure size 432x432 with 1 Axes>"
            ]
          },
          "metadata": {
            "tags": []
          }
        }
      ]
    },
    {
      "cell_type": "code",
      "metadata": {
        "id": "Sfik1cWYO9TU",
        "outputId": "bf11dcb1-c206-438e-ce84-031aeba66ff6"
      },
      "source": [
        "mapping_new.head()"
      ],
      "execution_count": null,
      "outputs": [
        {
          "output_type": "execute_result",
          "data": {
            "text/html": [
              "<div>\n",
              "<style scoped>\n",
              "    .dataframe tbody tr th:only-of-type {\n",
              "        vertical-align: middle;\n",
              "    }\n",
              "\n",
              "    .dataframe tbody tr th {\n",
              "        vertical-align: top;\n",
              "    }\n",
              "\n",
              "    .dataframe thead th {\n",
              "        text-align: right;\n",
              "    }\n",
              "</style>\n",
              "<table border=\"1\" class=\"dataframe\">\n",
              "  <thead>\n",
              "    <tr style=\"text-align: right;\">\n",
              "      <th></th>\n",
              "      <th>primary_sector</th>\n",
              "      <th>main_sector</th>\n",
              "    </tr>\n",
              "  </thead>\n",
              "  <tbody>\n",
              "    <tr>\n",
              "      <th>8</th>\n",
              "      <td>adventure travel</td>\n",
              "      <td>Automotive &amp; Sports</td>\n",
              "    </tr>\n",
              "    <tr>\n",
              "      <th>14</th>\n",
              "      <td>aerospace</td>\n",
              "      <td>Automotive &amp; Sports</td>\n",
              "    </tr>\n",
              "    <tr>\n",
              "      <th>45</th>\n",
              "      <td>auto</td>\n",
              "      <td>Automotive &amp; Sports</td>\n",
              "    </tr>\n",
              "    <tr>\n",
              "      <th>46</th>\n",
              "      <td>automated kiosk</td>\n",
              "      <td>Automotive &amp; Sports</td>\n",
              "    </tr>\n",
              "    <tr>\n",
              "      <th>47</th>\n",
              "      <td>automotive</td>\n",
              "      <td>Automotive &amp; Sports</td>\n",
              "    </tr>\n",
              "  </tbody>\n",
              "</table>\n",
              "</div>"
            ],
            "text/plain": [
              "      primary_sector          main_sector\n",
              "8   adventure travel  Automotive & Sports\n",
              "14         aerospace  Automotive & Sports\n",
              "45              auto  Automotive & Sports\n",
              "46   automated kiosk  Automotive & Sports\n",
              "47        automotive  Automotive & Sports"
            ]
          },
          "metadata": {
            "tags": []
          },
          "execution_count": 169
        }
      ]
    },
    {
      "cell_type": "code",
      "metadata": {
        "id": "kuWkWAh8O9TY"
      },
      "source": [
        "# data frame with each company’s main sector (main_sector) mapped to it = mapping_new_eight df\n",
        "# top three English speaking countries and the most suitable funding type for Spark Funds = top3_english df\n",
        "# Also, the range of funding preferred by Spark Funds is 5 to 15 million USD.\n",
        "#the aim is to find out the most heavily invested main sectors in each of the three countries (for funding type FT and investments range of 5-15 M USD).\n",
        "# use indicator to easily filter rows \n",
        "# concentrating on master frame used inner join\n",
        "top3_eng_ven = pd.merge(top3_english, mapping_new, how='inner', on='primary_sector', indicator=True)"
      ],
      "execution_count": null,
      "outputs": []
    },
    {
      "cell_type": "code",
      "metadata": {
        "id": "P5virBV2O9Tc",
        "outputId": "509fae82-c796-41ba-eae8-503cdf9a054b"
      },
      "source": [
        "top3_eng_ven.head()"
      ],
      "execution_count": null,
      "outputs": [
        {
          "output_type": "execute_result",
          "data": {
            "text/html": [
              "<div>\n",
              "<style scoped>\n",
              "    .dataframe tbody tr th:only-of-type {\n",
              "        vertical-align: middle;\n",
              "    }\n",
              "\n",
              "    .dataframe tbody tr th {\n",
              "        vertical-align: top;\n",
              "    }\n",
              "\n",
              "    .dataframe thead th {\n",
              "        text-align: right;\n",
              "    }\n",
              "</style>\n",
              "<table border=\"1\" class=\"dataframe\">\n",
              "  <thead>\n",
              "    <tr style=\"text-align: right;\">\n",
              "      <th></th>\n",
              "      <th>funding_round_permalink</th>\n",
              "      <th>funding_round_type</th>\n",
              "      <th>funded_at</th>\n",
              "      <th>raised_amount_usd</th>\n",
              "      <th>permalink</th>\n",
              "      <th>name</th>\n",
              "      <th>category_list</th>\n",
              "      <th>status</th>\n",
              "      <th>country_code</th>\n",
              "      <th>primary_sector</th>\n",
              "      <th>main_sector</th>\n",
              "      <th>_merge</th>\n",
              "    </tr>\n",
              "  </thead>\n",
              "  <tbody>\n",
              "    <tr>\n",
              "      <th>0</th>\n",
              "      <td>/funding-round/9a01d05418af9f794eebff7ace91f638</td>\n",
              "      <td>venture</td>\n",
              "      <td>05-01-2015</td>\n",
              "      <td>10,000,000.00</td>\n",
              "      <td>/organization/-fame</td>\n",
              "      <td>#fame</td>\n",
              "      <td>Media</td>\n",
              "      <td>operating</td>\n",
              "      <td>IND</td>\n",
              "      <td>media</td>\n",
              "      <td>Entertainment</td>\n",
              "      <td>both</td>\n",
              "    </tr>\n",
              "    <tr>\n",
              "      <th>1</th>\n",
              "      <td>/funding-round/21a2cbf6f2fb2a1c2a61e04bf930dfe6</td>\n",
              "      <td>venture</td>\n",
              "      <td>06-10-2015</td>\n",
              "      <td>15,000,000.00</td>\n",
              "      <td>/organization/90min</td>\n",
              "      <td>90min</td>\n",
              "      <td>Media|News|Publishing|Soccer|Sports</td>\n",
              "      <td>operating</td>\n",
              "      <td>GBR</td>\n",
              "      <td>media</td>\n",
              "      <td>Entertainment</td>\n",
              "      <td>both</td>\n",
              "    </tr>\n",
              "    <tr>\n",
              "      <th>2</th>\n",
              "      <td>/funding-round/bd626ed022f5c66574b1afe234f3c90d</td>\n",
              "      <td>venture</td>\n",
              "      <td>07-05-2013</td>\n",
              "      <td>5,800,000.00</td>\n",
              "      <td>/organization/90min</td>\n",
              "      <td>90min</td>\n",
              "      <td>Media|News|Publishing|Soccer|Sports</td>\n",
              "      <td>operating</td>\n",
              "      <td>GBR</td>\n",
              "      <td>media</td>\n",
              "      <td>Entertainment</td>\n",
              "      <td>both</td>\n",
              "    </tr>\n",
              "    <tr>\n",
              "      <th>3</th>\n",
              "      <td>/funding-round/fd4b15e8c97ee2ffc0acccdbe1a98810</td>\n",
              "      <td>venture</td>\n",
              "      <td>26-03-2014</td>\n",
              "      <td>18,000,000.00</td>\n",
              "      <td>/organization/90min</td>\n",
              "      <td>90min</td>\n",
              "      <td>Media|News|Publishing|Soccer|Sports</td>\n",
              "      <td>operating</td>\n",
              "      <td>GBR</td>\n",
              "      <td>media</td>\n",
              "      <td>Entertainment</td>\n",
              "      <td>both</td>\n",
              "    </tr>\n",
              "    <tr>\n",
              "      <th>4</th>\n",
              "      <td>/funding-round/452a2342fe720285c3b92e9bd927d9ba</td>\n",
              "      <td>venture</td>\n",
              "      <td>06-08-2014</td>\n",
              "      <td>5,000,000.00</td>\n",
              "      <td>/organization/all-def-digital</td>\n",
              "      <td>All Def Digital</td>\n",
              "      <td>Media</td>\n",
              "      <td>operating</td>\n",
              "      <td>USA</td>\n",
              "      <td>media</td>\n",
              "      <td>Entertainment</td>\n",
              "      <td>both</td>\n",
              "    </tr>\n",
              "  </tbody>\n",
              "</table>\n",
              "</div>"
            ],
            "text/plain": [
              "                           funding_round_permalink funding_round_type  \\\n",
              "0  /funding-round/9a01d05418af9f794eebff7ace91f638            venture   \n",
              "1  /funding-round/21a2cbf6f2fb2a1c2a61e04bf930dfe6            venture   \n",
              "2  /funding-round/bd626ed022f5c66574b1afe234f3c90d            venture   \n",
              "3  /funding-round/fd4b15e8c97ee2ffc0acccdbe1a98810            venture   \n",
              "4  /funding-round/452a2342fe720285c3b92e9bd927d9ba            venture   \n",
              "\n",
              "    funded_at  raised_amount_usd                      permalink  \\\n",
              "0  05-01-2015      10,000,000.00            /organization/-fame   \n",
              "1  06-10-2015      15,000,000.00            /organization/90min   \n",
              "2  07-05-2013       5,800,000.00            /organization/90min   \n",
              "3  26-03-2014      18,000,000.00            /organization/90min   \n",
              "4  06-08-2014       5,000,000.00  /organization/all-def-digital   \n",
              "\n",
              "              name                        category_list     status  \\\n",
              "0            #fame                                Media  operating   \n",
              "1            90min  Media|News|Publishing|Soccer|Sports  operating   \n",
              "2            90min  Media|News|Publishing|Soccer|Sports  operating   \n",
              "3            90min  Media|News|Publishing|Soccer|Sports  operating   \n",
              "4  All Def Digital                                Media  operating   \n",
              "\n",
              "  country_code primary_sector    main_sector _merge  \n",
              "0          IND          media  Entertainment   both  \n",
              "1          GBR          media  Entertainment   both  \n",
              "2          GBR          media  Entertainment   both  \n",
              "3          GBR          media  Entertainment   both  \n",
              "4          USA          media  Entertainment   both  "
            ]
          },
          "metadata": {
            "tags": []
          },
          "execution_count": 171
        }
      ]
    },
    {
      "cell_type": "code",
      "metadata": {
        "id": "Gv-3RdRCO9Tf",
        "outputId": "1512291d-fad0-45a9-95c8-8e1e5cc1db65"
      },
      "source": [
        "top3_eng_ven.shape"
      ],
      "execution_count": null,
      "outputs": [
        {
          "output_type": "execute_result",
          "data": {
            "text/plain": [
              "(38788, 12)"
            ]
          },
          "metadata": {
            "tags": []
          },
          "execution_count": 172
        }
      ]
    },
    {
      "cell_type": "code",
      "metadata": {
        "id": "A7fyNqNkO9Th",
        "outputId": "de65b35f-d963-453c-b409-48cc32ca5299"
      },
      "source": [
        "# Upon correcting primary sector names merge again\n",
        "#top3_eng_ven = pd.merge(top3_english, mapping_new_eight, how='inner', on='primary_sector', indicator=True)\n",
        "#top3_eng_ven.head()\n",
        "top3_eng_ven =top3_eng_ven[top3_eng_ven['_merge'] == 'both']\n",
        "top3_eng_ven = top3_eng_ven.drop('_merge', axis=1)\n",
        "top3_eng_ven.head()\n",
        "\n",
        "# Removing all rows with null values in main_sector\n",
        "# master_frame = master_frame[~np.isnan(master_frame['raised_amount_usd'])]\n",
        "# df = df[~np.isnan(df['Landsize'])]\n",
        "# top3_eng_ven = top3_eng_ven[~np.isnan(top3_eng_ven['main_sector'])]\n",
        "#top3_eng_ven = top3_eng_ven[top3_eng_ven['_merge'] == 'both']\n",
        "#top3_eng_ven = top3_eng_ven.drop('_merge', axis=1)"
      ],
      "execution_count": null,
      "outputs": [
        {
          "output_type": "execute_result",
          "data": {
            "text/html": [
              "<div>\n",
              "<style scoped>\n",
              "    .dataframe tbody tr th:only-of-type {\n",
              "        vertical-align: middle;\n",
              "    }\n",
              "\n",
              "    .dataframe tbody tr th {\n",
              "        vertical-align: top;\n",
              "    }\n",
              "\n",
              "    .dataframe thead th {\n",
              "        text-align: right;\n",
              "    }\n",
              "</style>\n",
              "<table border=\"1\" class=\"dataframe\">\n",
              "  <thead>\n",
              "    <tr style=\"text-align: right;\">\n",
              "      <th></th>\n",
              "      <th>funding_round_permalink</th>\n",
              "      <th>funding_round_type</th>\n",
              "      <th>funded_at</th>\n",
              "      <th>raised_amount_usd</th>\n",
              "      <th>permalink</th>\n",
              "      <th>name</th>\n",
              "      <th>category_list</th>\n",
              "      <th>status</th>\n",
              "      <th>country_code</th>\n",
              "      <th>primary_sector</th>\n",
              "      <th>main_sector</th>\n",
              "    </tr>\n",
              "  </thead>\n",
              "  <tbody>\n",
              "    <tr>\n",
              "      <th>0</th>\n",
              "      <td>/funding-round/9a01d05418af9f794eebff7ace91f638</td>\n",
              "      <td>venture</td>\n",
              "      <td>05-01-2015</td>\n",
              "      <td>10,000,000.00</td>\n",
              "      <td>/organization/-fame</td>\n",
              "      <td>#fame</td>\n",
              "      <td>Media</td>\n",
              "      <td>operating</td>\n",
              "      <td>IND</td>\n",
              "      <td>media</td>\n",
              "      <td>Entertainment</td>\n",
              "    </tr>\n",
              "    <tr>\n",
              "      <th>1</th>\n",
              "      <td>/funding-round/21a2cbf6f2fb2a1c2a61e04bf930dfe6</td>\n",
              "      <td>venture</td>\n",
              "      <td>06-10-2015</td>\n",
              "      <td>15,000,000.00</td>\n",
              "      <td>/organization/90min</td>\n",
              "      <td>90min</td>\n",
              "      <td>Media|News|Publishing|Soccer|Sports</td>\n",
              "      <td>operating</td>\n",
              "      <td>GBR</td>\n",
              "      <td>media</td>\n",
              "      <td>Entertainment</td>\n",
              "    </tr>\n",
              "    <tr>\n",
              "      <th>2</th>\n",
              "      <td>/funding-round/bd626ed022f5c66574b1afe234f3c90d</td>\n",
              "      <td>venture</td>\n",
              "      <td>07-05-2013</td>\n",
              "      <td>5,800,000.00</td>\n",
              "      <td>/organization/90min</td>\n",
              "      <td>90min</td>\n",
              "      <td>Media|News|Publishing|Soccer|Sports</td>\n",
              "      <td>operating</td>\n",
              "      <td>GBR</td>\n",
              "      <td>media</td>\n",
              "      <td>Entertainment</td>\n",
              "    </tr>\n",
              "    <tr>\n",
              "      <th>3</th>\n",
              "      <td>/funding-round/fd4b15e8c97ee2ffc0acccdbe1a98810</td>\n",
              "      <td>venture</td>\n",
              "      <td>26-03-2014</td>\n",
              "      <td>18,000,000.00</td>\n",
              "      <td>/organization/90min</td>\n",
              "      <td>90min</td>\n",
              "      <td>Media|News|Publishing|Soccer|Sports</td>\n",
              "      <td>operating</td>\n",
              "      <td>GBR</td>\n",
              "      <td>media</td>\n",
              "      <td>Entertainment</td>\n",
              "    </tr>\n",
              "    <tr>\n",
              "      <th>4</th>\n",
              "      <td>/funding-round/452a2342fe720285c3b92e9bd927d9ba</td>\n",
              "      <td>venture</td>\n",
              "      <td>06-08-2014</td>\n",
              "      <td>5,000,000.00</td>\n",
              "      <td>/organization/all-def-digital</td>\n",
              "      <td>All Def Digital</td>\n",
              "      <td>Media</td>\n",
              "      <td>operating</td>\n",
              "      <td>USA</td>\n",
              "      <td>media</td>\n",
              "      <td>Entertainment</td>\n",
              "    </tr>\n",
              "  </tbody>\n",
              "</table>\n",
              "</div>"
            ],
            "text/plain": [
              "                           funding_round_permalink funding_round_type  \\\n",
              "0  /funding-round/9a01d05418af9f794eebff7ace91f638            venture   \n",
              "1  /funding-round/21a2cbf6f2fb2a1c2a61e04bf930dfe6            venture   \n",
              "2  /funding-round/bd626ed022f5c66574b1afe234f3c90d            venture   \n",
              "3  /funding-round/fd4b15e8c97ee2ffc0acccdbe1a98810            venture   \n",
              "4  /funding-round/452a2342fe720285c3b92e9bd927d9ba            venture   \n",
              "\n",
              "    funded_at  raised_amount_usd                      permalink  \\\n",
              "0  05-01-2015      10,000,000.00            /organization/-fame   \n",
              "1  06-10-2015      15,000,000.00            /organization/90min   \n",
              "2  07-05-2013       5,800,000.00            /organization/90min   \n",
              "3  26-03-2014      18,000,000.00            /organization/90min   \n",
              "4  06-08-2014       5,000,000.00  /organization/all-def-digital   \n",
              "\n",
              "              name                        category_list     status  \\\n",
              "0            #fame                                Media  operating   \n",
              "1            90min  Media|News|Publishing|Soccer|Sports  operating   \n",
              "2            90min  Media|News|Publishing|Soccer|Sports  operating   \n",
              "3            90min  Media|News|Publishing|Soccer|Sports  operating   \n",
              "4  All Def Digital                                Media  operating   \n",
              "\n",
              "  country_code primary_sector    main_sector  \n",
              "0          IND          media  Entertainment  \n",
              "1          GBR          media  Entertainment  \n",
              "2          GBR          media  Entertainment  \n",
              "3          GBR          media  Entertainment  \n",
              "4          USA          media  Entertainment  "
            ]
          },
          "metadata": {
            "tags": []
          },
          "execution_count": 173
        }
      ]
    },
    {
      "cell_type": "code",
      "metadata": {
        "id": "nOinKRwRO9Tk",
        "outputId": "4f59eda4-cf84-41f7-ff50-335a62a9e7d7"
      },
      "source": [
        "#Dropped merge column \n",
        "top3_eng_ven.shape"
      ],
      "execution_count": null,
      "outputs": [
        {
          "output_type": "execute_result",
          "data": {
            "text/plain": [
              "(38788, 11)"
            ]
          },
          "metadata": {
            "tags": []
          },
          "execution_count": 174
        }
      ]
    },
    {
      "cell_type": "code",
      "metadata": {
        "id": "QwBxTOb7O9Tm",
        "outputId": "d0549617-0981-4db1-8d8a-1123514c8ea9"
      },
      "source": [
        "top3_eng_ven.info()"
      ],
      "execution_count": null,
      "outputs": [
        {
          "output_type": "stream",
          "text": [
            "<class 'pandas.core.frame.DataFrame'>\n",
            "Int64Index: 38788 entries, 0 to 38787\n",
            "Data columns (total 11 columns):\n",
            "funding_round_permalink    38788 non-null object\n",
            "funding_round_type         38788 non-null object\n",
            "funded_at                  38788 non-null object\n",
            "raised_amount_usd          38788 non-null float64\n",
            "permalink                  38788 non-null object\n",
            "name                       38788 non-null object\n",
            "category_list              38788 non-null object\n",
            "status                     38788 non-null object\n",
            "country_code               38788 non-null object\n",
            "primary_sector             38788 non-null object\n",
            "main_sector                38788 non-null object\n",
            "dtypes: float64(1), object(10)\n",
            "memory usage: 3.6+ MB\n"
          ],
          "name": "stdout"
        }
      ]
    },
    {
      "cell_type": "code",
      "metadata": {
        "id": "WcN3ammhO9Tp",
        "outputId": "7b0742c9-20a9-4b4f-919f-ba2941b14c9e"
      },
      "source": [
        "# Criteria 1: top3_eng_ven has all 3 eng speaking conutries with primary sectors mapped to corresponding main sectors\n",
        "# Criteria2: only 5 to 15 million USD investment \n",
        "# select the countries with raised usd between 5 to 15 million usd\n",
        "top3_eng_ven = top3_eng_ven.loc[(top3_eng_ven.raised_amount_usd >=5000000) & (top3_eng_ven.raised_amount_usd <=15000000)]\n",
        "#top3_eng_ven = top3_eng_ven.drop(top3_eng_ven[(top3_eng_ven.raised_amount_usd < 5000000)].index)\n",
        "#top3_eng_ven = top3_eng_ven.drop(top3_eng_ven[(top3_eng_ven.raised_amount_usd > 15000000)].index)\n",
        "top3_eng_ven.shape"
      ],
      "execution_count": null,
      "outputs": [
        {
          "output_type": "execute_result",
          "data": {
            "text/plain": [
              "(13012, 11)"
            ]
          },
          "metadata": {
            "tags": []
          },
          "execution_count": 176
        }
      ]
    },
    {
      "cell_type": "code",
      "metadata": {
        "id": "E08SVAu2O9Ts",
        "outputId": "4625295e-2024-4012-81bc-439625653a3b"
      },
      "source": [
        "# Create three separate data frames D1, D2 and D3 for each of the three countries \n",
        "D1 = top3_eng_ven[top3_eng_ven['country_code'] == 'USA']\n",
        "D1.describe()"
      ],
      "execution_count": null,
      "outputs": [
        {
          "output_type": "execute_result",
          "data": {
            "text/html": [
              "<div>\n",
              "<style scoped>\n",
              "    .dataframe tbody tr th:only-of-type {\n",
              "        vertical-align: middle;\n",
              "    }\n",
              "\n",
              "    .dataframe tbody tr th {\n",
              "        vertical-align: top;\n",
              "    }\n",
              "\n",
              "    .dataframe thead th {\n",
              "        text-align: right;\n",
              "    }\n",
              "</style>\n",
              "<table border=\"1\" class=\"dataframe\">\n",
              "  <thead>\n",
              "    <tr style=\"text-align: right;\">\n",
              "      <th></th>\n",
              "      <th>raised_amount_usd</th>\n",
              "    </tr>\n",
              "  </thead>\n",
              "  <tbody>\n",
              "    <tr>\n",
              "      <th>count</th>\n",
              "      <td>12,063.00</td>\n",
              "    </tr>\n",
              "    <tr>\n",
              "      <th>mean</th>\n",
              "      <td>8,932,860.59</td>\n",
              "    </tr>\n",
              "    <tr>\n",
              "      <th>std</th>\n",
              "      <td>3,075,861.23</td>\n",
              "    </tr>\n",
              "    <tr>\n",
              "      <th>min</th>\n",
              "      <td>5,000,000.00</td>\n",
              "    </tr>\n",
              "    <tr>\n",
              "      <th>25%</th>\n",
              "      <td>6,000,970.50</td>\n",
              "    </tr>\n",
              "    <tr>\n",
              "      <th>50%</th>\n",
              "      <td>8,300,000.00</td>\n",
              "    </tr>\n",
              "    <tr>\n",
              "      <th>75%</th>\n",
              "      <td>11,000,000.00</td>\n",
              "    </tr>\n",
              "    <tr>\n",
              "      <th>max</th>\n",
              "      <td>15,000,000.00</td>\n",
              "    </tr>\n",
              "  </tbody>\n",
              "</table>\n",
              "</div>"
            ],
            "text/plain": [
              "       raised_amount_usd\n",
              "count          12,063.00\n",
              "mean        8,932,860.59\n",
              "std         3,075,861.23\n",
              "min         5,000,000.00\n",
              "25%         6,000,970.50\n",
              "50%         8,300,000.00\n",
              "75%        11,000,000.00\n",
              "max        15,000,000.00"
            ]
          },
          "metadata": {
            "tags": []
          },
          "execution_count": 177
        }
      ]
    },
    {
      "cell_type": "code",
      "metadata": {
        "id": "clbElatCO9Tu",
        "outputId": "5cce17c0-3701-477e-bd79-89022c0da2ee"
      },
      "source": [
        "D2 = top3_eng_ven[top3_eng_ven['country_code'] == 'GBR']\n",
        "D2.describe()"
      ],
      "execution_count": null,
      "outputs": [
        {
          "output_type": "execute_result",
          "data": {
            "text/html": [
              "<div>\n",
              "<style scoped>\n",
              "    .dataframe tbody tr th:only-of-type {\n",
              "        vertical-align: middle;\n",
              "    }\n",
              "\n",
              "    .dataframe tbody tr th {\n",
              "        vertical-align: top;\n",
              "    }\n",
              "\n",
              "    .dataframe thead th {\n",
              "        text-align: right;\n",
              "    }\n",
              "</style>\n",
              "<table border=\"1\" class=\"dataframe\">\n",
              "  <thead>\n",
              "    <tr style=\"text-align: right;\">\n",
              "      <th></th>\n",
              "      <th>raised_amount_usd</th>\n",
              "    </tr>\n",
              "  </thead>\n",
              "  <tbody>\n",
              "    <tr>\n",
              "      <th>count</th>\n",
              "      <td>621.00</td>\n",
              "    </tr>\n",
              "    <tr>\n",
              "      <th>mean</th>\n",
              "      <td>8,661,962.47</td>\n",
              "    </tr>\n",
              "    <tr>\n",
              "      <th>std</th>\n",
              "      <td>2,867,166.77</td>\n",
              "    </tr>\n",
              "    <tr>\n",
              "      <th>min</th>\n",
              "      <td>5,000,000.00</td>\n",
              "    </tr>\n",
              "    <tr>\n",
              "      <th>25%</th>\n",
              "      <td>6,084,330.00</td>\n",
              "    </tr>\n",
              "    <tr>\n",
              "      <th>50%</th>\n",
              "      <td>8,000,000.00</td>\n",
              "    </tr>\n",
              "    <tr>\n",
              "      <th>75%</th>\n",
              "      <td>10,606,760.00</td>\n",
              "    </tr>\n",
              "    <tr>\n",
              "      <th>max</th>\n",
              "      <td>15,000,000.00</td>\n",
              "    </tr>\n",
              "  </tbody>\n",
              "</table>\n",
              "</div>"
            ],
            "text/plain": [
              "       raised_amount_usd\n",
              "count             621.00\n",
              "mean        8,661,962.47\n",
              "std         2,867,166.77\n",
              "min         5,000,000.00\n",
              "25%         6,084,330.00\n",
              "50%         8,000,000.00\n",
              "75%        10,606,760.00\n",
              "max        15,000,000.00"
            ]
          },
          "metadata": {
            "tags": []
          },
          "execution_count": 178
        }
      ]
    },
    {
      "cell_type": "code",
      "metadata": {
        "id": "1IBmZ85RO9Tw",
        "outputId": "d2115013-636d-46cc-a120-f608bf9b3499"
      },
      "source": [
        "D3 = top3_eng_ven[top3_eng_ven['country_code'] == 'IND']\n",
        "D3.describe()"
      ],
      "execution_count": null,
      "outputs": [
        {
          "output_type": "execute_result",
          "data": {
            "text/html": [
              "<div>\n",
              "<style scoped>\n",
              "    .dataframe tbody tr th:only-of-type {\n",
              "        vertical-align: middle;\n",
              "    }\n",
              "\n",
              "    .dataframe tbody tr th {\n",
              "        vertical-align: top;\n",
              "    }\n",
              "\n",
              "    .dataframe thead th {\n",
              "        text-align: right;\n",
              "    }\n",
              "</style>\n",
              "<table border=\"1\" class=\"dataframe\">\n",
              "  <thead>\n",
              "    <tr style=\"text-align: right;\">\n",
              "      <th></th>\n",
              "      <th>raised_amount_usd</th>\n",
              "    </tr>\n",
              "  </thead>\n",
              "  <tbody>\n",
              "    <tr>\n",
              "      <th>count</th>\n",
              "      <td>328.00</td>\n",
              "    </tr>\n",
              "    <tr>\n",
              "      <th>mean</th>\n",
              "      <td>8,992,510.98</td>\n",
              "    </tr>\n",
              "    <tr>\n",
              "      <th>std</th>\n",
              "      <td>3,219,811.35</td>\n",
              "    </tr>\n",
              "    <tr>\n",
              "      <th>min</th>\n",
              "      <td>5,000,000.00</td>\n",
              "    </tr>\n",
              "    <tr>\n",
              "      <th>25%</th>\n",
              "      <td>6,000,000.00</td>\n",
              "    </tr>\n",
              "    <tr>\n",
              "      <th>50%</th>\n",
              "      <td>8,700,000.00</td>\n",
              "    </tr>\n",
              "    <tr>\n",
              "      <th>75%</th>\n",
              "      <td>10,555,000.00</td>\n",
              "    </tr>\n",
              "    <tr>\n",
              "      <th>max</th>\n",
              "      <td>15,000,000.00</td>\n",
              "    </tr>\n",
              "  </tbody>\n",
              "</table>\n",
              "</div>"
            ],
            "text/plain": [
              "       raised_amount_usd\n",
              "count             328.00\n",
              "mean        8,992,510.98\n",
              "std         3,219,811.35\n",
              "min         5,000,000.00\n",
              "25%         6,000,000.00\n",
              "50%         8,700,000.00\n",
              "75%        10,555,000.00\n",
              "max        15,000,000.00"
            ]
          },
          "metadata": {
            "tags": []
          },
          "execution_count": 179
        }
      ]
    },
    {
      "cell_type": "code",
      "metadata": {
        "id": "zftgM8eVO9Tz",
        "outputId": "ab2c3c22-8b84-41c4-b24f-601a99ee505b"
      },
      "source": [
        "#1. D1 - Total number of Investments (count) = count\n",
        "#2.  D1 - Total amount of investment (USD)\n",
        "print('Total USD = ', D1['raised_amount_usd'].sum())\n",
        "#3,4,5. D1 - Top Sector name (based total investment)\n",
        "sec_seg = D1.groupby('main_sector')\n",
        "sec_seg['raised_amount_usd'].sum().sort_values(ascending = False)"
      ],
      "execution_count": null,
      "outputs": [
        {
          "output_type": "stream",
          "text": [
            "Total USD =  107757097294.0\n"
          ],
          "name": "stdout"
        },
        {
          "output_type": "execute_result",
          "data": {
            "text/plain": [
              "main_sector\n",
              "Others                                    26,321,007,002.00\n",
              "Social, Finance, Analytics, Advertising   23,807,376,964.00\n",
              "Cleantech / Semiconductors                21,633,430,822.00\n",
              "News, Search and Messaging                13,971,567,428.00\n",
              "Health                                     8,211,859,357.00\n",
              "Manufacturing                              7,258,553,378.00\n",
              "Entertainment                              5,099,197,982.00\n",
              "Automotive & Sports                        1,454,104,361.00\n",
              "Name: raised_amount_usd, dtype: float64"
            ]
          },
          "metadata": {
            "tags": []
          },
          "execution_count": 180
        }
      ]
    },
    {
      "cell_type": "code",
      "metadata": {
        "id": "iGmYGTXUO9T4",
        "outputId": "7bbcd72b-c018-4c2e-8a17-062df02cf06d"
      },
      "source": [
        "#.6,7,8. D1 - Number of investments in 1st, 2nd and 3rd sector \n",
        "sec_seg = D1.groupby('main_sector')\n",
        "sec_seg['raised_amount_usd'].count().sort_values(ascending = False)"
      ],
      "execution_count": null,
      "outputs": [
        {
          "output_type": "execute_result",
          "data": {
            "text/plain": [
              "main_sector\n",
              "Others                                     2950\n",
              "Social, Finance, Analytics, Advertising    2714\n",
              "Cleantech / Semiconductors                 2350\n",
              "News, Search and Messaging                 1583\n",
              "Health                                      909\n",
              "Manufacturing                               799\n",
              "Entertainment                               591\n",
              "Automotive & Sports                         167\n",
              "Name: raised_amount_usd, dtype: int64"
            ]
          },
          "metadata": {
            "tags": []
          },
          "execution_count": 181
        }
      ]
    },
    {
      "cell_type": "code",
      "metadata": {
        "id": "7cARMMN0O9T6",
        "outputId": "4d789886-2d3e-4c7a-a5b7-d16a7a7e74bd"
      },
      "source": [
        "#9.  For point 3 (top sector count-wise), which company received the highest investment?\n",
        "D1_others = D1[D1.main_sector == \"Others\" ]\n",
        "D1_others_comp = D1_others.groupby('name')\n",
        "D1_others_comp.raised_amount_usd.sum().sort_values(ascending = False).head()"
      ],
      "execution_count": null,
      "outputs": [
        {
          "output_type": "execute_result",
          "data": {
            "text/plain": [
              "name\n",
              "Virtustream           64,300,000.00\n",
              "Capella Photonics     54,968,051.00\n",
              "AirTight Networks     54,201,907.00\n",
              "deCarta               52,100,000.00\n",
              "Black Duck Software   51,000,000.00\n",
              "Name: raised_amount_usd, dtype: float64"
            ]
          },
          "metadata": {
            "tags": []
          },
          "execution_count": 182
        }
      ]
    },
    {
      "cell_type": "code",
      "metadata": {
        "id": "-Sge3ENXO9T9",
        "outputId": "3fbe1ee0-61aa-43bc-ac38-c63743d90ae3"
      },
      "source": [
        "#10. For point 4 (second best sector count-wise), which company received the highest investment?\n",
        "D1_others = D1[D1.main_sector == \"Social, Finance, Analytics, Advertising\" ]\n",
        "D1_others_comp = D1_others.groupby('name')\n",
        "D1_others_comp.raised_amount_usd.sum().sort_values(ascending = False).head()"
      ],
      "execution_count": null,
      "outputs": [
        {
          "output_type": "execute_result",
          "data": {
            "text/plain": [
              "name\n",
              "SST Inc. (Formerly ShotSpotter)   67,933,006.00\n",
              "Demandbase                        63,000,000.00\n",
              "Intacct                           61,800,000.00\n",
              "NetBase Solutions                 60,600,000.00\n",
              "Lotame                            59,700,000.00\n",
              "Name: raised_amount_usd, dtype: float64"
            ]
          },
          "metadata": {
            "tags": []
          },
          "execution_count": 183
        }
      ]
    },
    {
      "cell_type": "code",
      "metadata": {
        "id": "RRjF0RTWO9T_",
        "outputId": "e2b15c2e-9f07-4c1a-bd49-25e15a30c4d8"
      },
      "source": [
        "#1. D2 - Total number of Investments (count) = count\n",
        "#2.  D2 - Total amount of investment (USD)\n",
        "print('Total USD = ', D2['raised_amount_usd'].sum())\n",
        "#3,4,5. D2 - Top Sector name (based total investment)\n",
        "sec_seg = D2.groupby('main_sector')\n",
        "sec_seg['raised_amount_usd'].sum().sort_values(ascending = False)"
      ],
      "execution_count": null,
      "outputs": [
        {
          "output_type": "stream",
          "text": [
            "Total USD =  5379078691.0\n"
          ],
          "name": "stdout"
        },
        {
          "output_type": "execute_result",
          "data": {
            "text/plain": [
              "main_sector\n",
              "Others                                    1,283,624,289.00\n",
              "Cleantech / Semiconductors                1,163,990,056.00\n",
              "Social, Finance, Analytics, Advertising   1,089,404,014.00\n",
              "News, Search and Messaging                  615,746,235.00\n",
              "Entertainment                               482,784,687.00\n",
              "Manufacturing                               361,940,335.00\n",
              "Health                                      214,537,510.00\n",
              "Automotive & Sports                         167,051,565.00\n",
              "Name: raised_amount_usd, dtype: float64"
            ]
          },
          "metadata": {
            "tags": []
          },
          "execution_count": 184
        }
      ]
    },
    {
      "cell_type": "code",
      "metadata": {
        "id": "2NpaocqrO9UE",
        "outputId": "6df8fcd4-7ff4-479a-d1f9-f7fb99f44510"
      },
      "source": [
        "#.6,7,8. D2 - Number of investments in 1st, 2nd and 3rd sector \n",
        "sec_seg = D2.groupby('main_sector')\n",
        "sec_seg['raised_amount_usd'].count().sort_values(ascending = False)"
      ],
      "execution_count": null,
      "outputs": [
        {
          "output_type": "execute_result",
          "data": {
            "text/plain": [
              "main_sector\n",
              "Others                                     147\n",
              "Social, Finance, Analytics, Advertising    133\n",
              "Cleantech / Semiconductors                 130\n",
              "News, Search and Messaging                  73\n",
              "Entertainment                               56\n",
              "Manufacturing                               42\n",
              "Health                                      24\n",
              "Automotive & Sports                         16\n",
              "Name: raised_amount_usd, dtype: int64"
            ]
          },
          "metadata": {
            "tags": []
          },
          "execution_count": 185
        }
      ]
    },
    {
      "cell_type": "code",
      "metadata": {
        "id": "pdiznn6AO9UI",
        "outputId": "37d6f61c-4f74-45d6-db86-1e177bf6f216"
      },
      "source": [
        "#9.  For point 3 (top sector count-wise), which company received the highest investment?\n",
        "D2_others = D2[D2.main_sector == \"Others\" ]\n",
        "D2_others_comp = D2_others.groupby('name')\n",
        "D2_others_comp.raised_amount_usd.sum().sort_values(ascending = False).head()"
      ],
      "execution_count": null,
      "outputs": [
        {
          "output_type": "execute_result",
          "data": {
            "text/plain": [
              "name\n",
              "Electric Cloud            37,000,000.00\n",
              "SenSage                   36,250,000.00\n",
              "Enigmatec                 32,500,000.00\n",
              "SilverRail Technologies   29,000,000.00\n",
              "OpenCloud                 27,972,766.00\n",
              "Name: raised_amount_usd, dtype: float64"
            ]
          },
          "metadata": {
            "tags": []
          },
          "execution_count": 186
        }
      ]
    },
    {
      "cell_type": "code",
      "metadata": {
        "id": "p5RPuzPAO9UN",
        "outputId": "ad65fcac-76d9-4445-a407-f632571fbde6"
      },
      "source": [
        "#10. For point 4 (second best sector count-wise), which company received the highest investment?\n",
        "D2_others = D2[D2.main_sector == \"Social, Finance, Analytics, Advertising\" ]\n",
        "D2_others_comp = D2_others.groupby('name')\n",
        "D2_others_comp.raised_amount_usd.sum().sort_values(ascending = False).head()"
      ],
      "execution_count": null,
      "outputs": [
        {
          "output_type": "execute_result",
          "data": {
            "text/plain": [
              "name\n",
              "Celltick Technologies   37,500,000.00\n",
              "myThings                34,000,000.00\n",
              "Zopa                    32,900,000.00\n",
              "VisualDNA               28,550,000.00\n",
              "MarketInvoice           25,553,007.00\n",
              "Name: raised_amount_usd, dtype: float64"
            ]
          },
          "metadata": {
            "tags": []
          },
          "execution_count": 187
        }
      ]
    },
    {
      "cell_type": "code",
      "metadata": {
        "id": "xHuNZeIEO9UV",
        "outputId": "076688f3-bc9a-463f-a05f-0732bc82f290"
      },
      "source": [
        "#1. D3 - Total number of Investments (count) = count\n",
        "#2.  D3 - Total amount of investment (USD)\n",
        "print('Total USD = ', D3['raised_amount_usd'].sum())\n",
        "#3,4,5. D3 - Top Sector name (based total investment)\n",
        "sec_seg = D3.groupby('main_sector')\n",
        "sec_seg['raised_amount_usd'].sum().sort_values(ascending = False)"
      ],
      "execution_count": null,
      "outputs": [
        {
          "output_type": "stream",
          "text": [
            "Total USD =  2949543602.0\n"
          ],
          "name": "stdout"
        },
        {
          "output_type": "execute_result",
          "data": {
            "text/plain": [
              "main_sector\n",
              "Others                                    1,013,409,507.00\n",
              "Social, Finance, Analytics, Advertising     550,549,550.00\n",
              "News, Search and Messaging                  433,834,545.00\n",
              "Entertainment                               280,830,000.00\n",
              "Manufacturing                               200,900,000.00\n",
              "Health                                      167,740,000.00\n",
              "Cleantech / Semiconductors                  165,380,000.00\n",
              "Automotive & Sports                         136,900,000.00\n",
              "Name: raised_amount_usd, dtype: float64"
            ]
          },
          "metadata": {
            "tags": []
          },
          "execution_count": 188
        }
      ]
    },
    {
      "cell_type": "code",
      "metadata": {
        "id": "C_HxJpB1O9UZ",
        "outputId": "7db91473-e5d7-424e-d1f8-045d749ae883"
      },
      "source": [
        "#.6,7,8. D3 - Number of investments in 1st, 2nd and 3rd sector \n",
        "sec_seg = D3.groupby('main_sector')\n",
        "sec_seg['raised_amount_usd'].count().sort_values(ascending = False)"
      ],
      "execution_count": null,
      "outputs": [
        {
          "output_type": "execute_result",
          "data": {
            "text/plain": [
              "main_sector\n",
              "Others                                     110\n",
              "Social, Finance, Analytics, Advertising     60\n",
              "News, Search and Messaging                  52\n",
              "Entertainment                               33\n",
              "Manufacturing                               21\n",
              "Cleantech / Semiconductors                  20\n",
              "Health                                      19\n",
              "Automotive & Sports                         13\n",
              "Name: raised_amount_usd, dtype: int64"
            ]
          },
          "metadata": {
            "tags": []
          },
          "execution_count": 189
        }
      ]
    },
    {
      "cell_type": "code",
      "metadata": {
        "id": "T9NUYSnKO9Uc",
        "outputId": "f927831d-a285-4a5e-a94f-adddd7606f62"
      },
      "source": [
        "#9.  For point 3 (top sector count-wise), which company received the highest investment?\n",
        "D3_others = D3[D3.main_sector == \"Others\" ]\n",
        "D3_others_comp = D3_others.groupby('name')\n",
        "D3_others_comp.raised_amount_usd.sum().sort_values(ascending = False).head()"
      ],
      "execution_count": null,
      "outputs": [
        {
          "output_type": "execute_result",
          "data": {
            "text/plain": [
              "name\n",
              "FirstCry.com        39,000,000.00\n",
              "Myntra              38,000,000.00\n",
              "CommonFloor         32,900,000.00\n",
              "Pepperfry.com       28,000,000.00\n",
              "ItzCash Card Ltd.   25,000,000.00\n",
              "Name: raised_amount_usd, dtype: float64"
            ]
          },
          "metadata": {
            "tags": []
          },
          "execution_count": 190
        }
      ]
    },
    {
      "cell_type": "code",
      "metadata": {
        "id": "U0P8i6y-O9Ud",
        "outputId": "6a4e3eb9-06d4-4d3a-fa8a-81e039c6bfae"
      },
      "source": [
        "#10. For point 4 (second best sector count-wise), which company received the highest investment?\n",
        "D3_others = D3[D3.main_sector == \"Social, Finance, Analytics, Advertising\" ]\n",
        "D3_others_comp = D3_others.groupby('name')\n",
        "D3_others_comp.raised_amount_usd.sum().sort_values(ascending = False).head()"
      ],
      "execution_count": null,
      "outputs": [
        {
          "output_type": "execute_result",
          "data": {
            "text/plain": [
              "name\n",
              "Manthan Systems              50,700,000.00\n",
              "Komli Media                  28,000,000.00\n",
              "ShopClues.com                25,000,000.00\n",
              "inTarvo                      21,900,000.00\n",
              "Grameen Financial Services   21,556,050.00\n",
              "Name: raised_amount_usd, dtype: float64"
            ]
          },
          "metadata": {
            "tags": []
          },
          "execution_count": 191
        }
      ]
    },
    {
      "cell_type": "code",
      "metadata": {
        "id": "vZl04T7VO9Uf",
        "outputId": "c33445ee-7b94-4d37-de0e-3020457b229a"
      },
      "source": [
        "D1_count = pd.DataFrame(D1.groupby('main_sector').raised_amount_usd.count().sort_values(ascending = False))\n",
        "D1_count "
      ],
      "execution_count": null,
      "outputs": [
        {
          "output_type": "execute_result",
          "data": {
            "text/html": [
              "<div>\n",
              "<style scoped>\n",
              "    .dataframe tbody tr th:only-of-type {\n",
              "        vertical-align: middle;\n",
              "    }\n",
              "\n",
              "    .dataframe tbody tr th {\n",
              "        vertical-align: top;\n",
              "    }\n",
              "\n",
              "    .dataframe thead th {\n",
              "        text-align: right;\n",
              "    }\n",
              "</style>\n",
              "<table border=\"1\" class=\"dataframe\">\n",
              "  <thead>\n",
              "    <tr style=\"text-align: right;\">\n",
              "      <th></th>\n",
              "      <th>raised_amount_usd</th>\n",
              "    </tr>\n",
              "    <tr>\n",
              "      <th>main_sector</th>\n",
              "      <th></th>\n",
              "    </tr>\n",
              "  </thead>\n",
              "  <tbody>\n",
              "    <tr>\n",
              "      <th>Others</th>\n",
              "      <td>2950</td>\n",
              "    </tr>\n",
              "    <tr>\n",
              "      <th>Social, Finance, Analytics, Advertising</th>\n",
              "      <td>2714</td>\n",
              "    </tr>\n",
              "    <tr>\n",
              "      <th>Cleantech / Semiconductors</th>\n",
              "      <td>2350</td>\n",
              "    </tr>\n",
              "    <tr>\n",
              "      <th>News, Search and Messaging</th>\n",
              "      <td>1583</td>\n",
              "    </tr>\n",
              "    <tr>\n",
              "      <th>Health</th>\n",
              "      <td>909</td>\n",
              "    </tr>\n",
              "    <tr>\n",
              "      <th>Manufacturing</th>\n",
              "      <td>799</td>\n",
              "    </tr>\n",
              "    <tr>\n",
              "      <th>Entertainment</th>\n",
              "      <td>591</td>\n",
              "    </tr>\n",
              "    <tr>\n",
              "      <th>Automotive &amp; Sports</th>\n",
              "      <td>167</td>\n",
              "    </tr>\n",
              "  </tbody>\n",
              "</table>\n",
              "</div>"
            ],
            "text/plain": [
              "                                         raised_amount_usd\n",
              "main_sector                                               \n",
              "Others                                                2950\n",
              "Social, Finance, Analytics, Advertising               2714\n",
              "Cleantech / Semiconductors                            2350\n",
              "News, Search and Messaging                            1583\n",
              "Health                                                 909\n",
              "Manufacturing                                          799\n",
              "Entertainment                                          591\n",
              "Automotive & Sports                                    167"
            ]
          },
          "metadata": {
            "tags": []
          },
          "execution_count": 192
        }
      ]
    },
    {
      "cell_type": "code",
      "metadata": {
        "id": "FgSV6vEjO9Ui",
        "outputId": "e50ec3d3-c676-48fe-f074-74d3e3dc5203"
      },
      "source": [
        "D1_sum = pd.DataFrame(D1.groupby('main_sector').raised_amount_usd.sum().sort_values(ascending = False))\n",
        "D1_sum"
      ],
      "execution_count": null,
      "outputs": [
        {
          "output_type": "execute_result",
          "data": {
            "text/html": [
              "<div>\n",
              "<style scoped>\n",
              "    .dataframe tbody tr th:only-of-type {\n",
              "        vertical-align: middle;\n",
              "    }\n",
              "\n",
              "    .dataframe tbody tr th {\n",
              "        vertical-align: top;\n",
              "    }\n",
              "\n",
              "    .dataframe thead th {\n",
              "        text-align: right;\n",
              "    }\n",
              "</style>\n",
              "<table border=\"1\" class=\"dataframe\">\n",
              "  <thead>\n",
              "    <tr style=\"text-align: right;\">\n",
              "      <th></th>\n",
              "      <th>raised_amount_usd</th>\n",
              "    </tr>\n",
              "    <tr>\n",
              "      <th>main_sector</th>\n",
              "      <th></th>\n",
              "    </tr>\n",
              "  </thead>\n",
              "  <tbody>\n",
              "    <tr>\n",
              "      <th>Others</th>\n",
              "      <td>26,321,007,002.00</td>\n",
              "    </tr>\n",
              "    <tr>\n",
              "      <th>Social, Finance, Analytics, Advertising</th>\n",
              "      <td>23,807,376,964.00</td>\n",
              "    </tr>\n",
              "    <tr>\n",
              "      <th>Cleantech / Semiconductors</th>\n",
              "      <td>21,633,430,822.00</td>\n",
              "    </tr>\n",
              "    <tr>\n",
              "      <th>News, Search and Messaging</th>\n",
              "      <td>13,971,567,428.00</td>\n",
              "    </tr>\n",
              "    <tr>\n",
              "      <th>Health</th>\n",
              "      <td>8,211,859,357.00</td>\n",
              "    </tr>\n",
              "    <tr>\n",
              "      <th>Manufacturing</th>\n",
              "      <td>7,258,553,378.00</td>\n",
              "    </tr>\n",
              "    <tr>\n",
              "      <th>Entertainment</th>\n",
              "      <td>5,099,197,982.00</td>\n",
              "    </tr>\n",
              "    <tr>\n",
              "      <th>Automotive &amp; Sports</th>\n",
              "      <td>1,454,104,361.00</td>\n",
              "    </tr>\n",
              "  </tbody>\n",
              "</table>\n",
              "</div>"
            ],
            "text/plain": [
              "                                         raised_amount_usd\n",
              "main_sector                                               \n",
              "Others                                   26,321,007,002.00\n",
              "Social, Finance, Analytics, Advertising  23,807,376,964.00\n",
              "Cleantech / Semiconductors               21,633,430,822.00\n",
              "News, Search and Messaging               13,971,567,428.00\n",
              "Health                                    8,211,859,357.00\n",
              "Manufacturing                             7,258,553,378.00\n",
              "Entertainment                             5,099,197,982.00\n",
              "Automotive & Sports                       1,454,104,361.00"
            ]
          },
          "metadata": {
            "tags": []
          },
          "execution_count": 193
        }
      ]
    },
    {
      "cell_type": "code",
      "metadata": {
        "id": "KavNnS0qO9Uo",
        "outputId": "83da34d2-5c7e-4a8b-f9a6-27954bf6208a"
      },
      "source": [
        "D1_count_sum = pd.merge(D1_count, D1_sum, how = \"inner\" , on = 'main_sector')\n",
        "D1_count_sum"
      ],
      "execution_count": null,
      "outputs": [
        {
          "output_type": "execute_result",
          "data": {
            "text/html": [
              "<div>\n",
              "<style scoped>\n",
              "    .dataframe tbody tr th:only-of-type {\n",
              "        vertical-align: middle;\n",
              "    }\n",
              "\n",
              "    .dataframe tbody tr th {\n",
              "        vertical-align: top;\n",
              "    }\n",
              "\n",
              "    .dataframe thead th {\n",
              "        text-align: right;\n",
              "    }\n",
              "</style>\n",
              "<table border=\"1\" class=\"dataframe\">\n",
              "  <thead>\n",
              "    <tr style=\"text-align: right;\">\n",
              "      <th></th>\n",
              "      <th>raised_amount_usd_x</th>\n",
              "      <th>raised_amount_usd_y</th>\n",
              "    </tr>\n",
              "    <tr>\n",
              "      <th>main_sector</th>\n",
              "      <th></th>\n",
              "      <th></th>\n",
              "    </tr>\n",
              "  </thead>\n",
              "  <tbody>\n",
              "    <tr>\n",
              "      <th>Others</th>\n",
              "      <td>2950</td>\n",
              "      <td>26,321,007,002.00</td>\n",
              "    </tr>\n",
              "    <tr>\n",
              "      <th>Social, Finance, Analytics, Advertising</th>\n",
              "      <td>2714</td>\n",
              "      <td>23,807,376,964.00</td>\n",
              "    </tr>\n",
              "    <tr>\n",
              "      <th>Cleantech / Semiconductors</th>\n",
              "      <td>2350</td>\n",
              "      <td>21,633,430,822.00</td>\n",
              "    </tr>\n",
              "    <tr>\n",
              "      <th>News, Search and Messaging</th>\n",
              "      <td>1583</td>\n",
              "      <td>13,971,567,428.00</td>\n",
              "    </tr>\n",
              "    <tr>\n",
              "      <th>Health</th>\n",
              "      <td>909</td>\n",
              "      <td>8,211,859,357.00</td>\n",
              "    </tr>\n",
              "    <tr>\n",
              "      <th>Manufacturing</th>\n",
              "      <td>799</td>\n",
              "      <td>7,258,553,378.00</td>\n",
              "    </tr>\n",
              "    <tr>\n",
              "      <th>Entertainment</th>\n",
              "      <td>591</td>\n",
              "      <td>5,099,197,982.00</td>\n",
              "    </tr>\n",
              "    <tr>\n",
              "      <th>Automotive &amp; Sports</th>\n",
              "      <td>167</td>\n",
              "      <td>1,454,104,361.00</td>\n",
              "    </tr>\n",
              "  </tbody>\n",
              "</table>\n",
              "</div>"
            ],
            "text/plain": [
              "                                         raised_amount_usd_x  \\\n",
              "main_sector                                                    \n",
              "Others                                                  2950   \n",
              "Social, Finance, Analytics, Advertising                 2714   \n",
              "Cleantech / Semiconductors                              2350   \n",
              "News, Search and Messaging                              1583   \n",
              "Health                                                   909   \n",
              "Manufacturing                                            799   \n",
              "Entertainment                                            591   \n",
              "Automotive & Sports                                      167   \n",
              "\n",
              "                                         raised_amount_usd_y  \n",
              "main_sector                                                   \n",
              "Others                                     26,321,007,002.00  \n",
              "Social, Finance, Analytics, Advertising    23,807,376,964.00  \n",
              "Cleantech / Semiconductors                 21,633,430,822.00  \n",
              "News, Search and Messaging                 13,971,567,428.00  \n",
              "Health                                      8,211,859,357.00  \n",
              "Manufacturing                               7,258,553,378.00  \n",
              "Entertainment                               5,099,197,982.00  \n",
              "Automotive & Sports                         1,454,104,361.00  "
            ]
          },
          "metadata": {
            "tags": []
          },
          "execution_count": 194
        }
      ]
    },
    {
      "cell_type": "code",
      "metadata": {
        "id": "AQwHyRz0O9Uq",
        "outputId": "f51f2cb9-5177-46a6-d4f4-3c34adbbf57e"
      },
      "source": [
        "D1_count_sum.rename(columns = {'raised_amount_usd_x':'count','raised_amount_usd_y':'sum'}, inplace = True)\n",
        "D1_count_sum"
      ],
      "execution_count": null,
      "outputs": [
        {
          "output_type": "execute_result",
          "data": {
            "text/html": [
              "<div>\n",
              "<style scoped>\n",
              "    .dataframe tbody tr th:only-of-type {\n",
              "        vertical-align: middle;\n",
              "    }\n",
              "\n",
              "    .dataframe tbody tr th {\n",
              "        vertical-align: top;\n",
              "    }\n",
              "\n",
              "    .dataframe thead th {\n",
              "        text-align: right;\n",
              "    }\n",
              "</style>\n",
              "<table border=\"1\" class=\"dataframe\">\n",
              "  <thead>\n",
              "    <tr style=\"text-align: right;\">\n",
              "      <th></th>\n",
              "      <th>count</th>\n",
              "      <th>sum</th>\n",
              "    </tr>\n",
              "    <tr>\n",
              "      <th>main_sector</th>\n",
              "      <th></th>\n",
              "      <th></th>\n",
              "    </tr>\n",
              "  </thead>\n",
              "  <tbody>\n",
              "    <tr>\n",
              "      <th>Others</th>\n",
              "      <td>2950</td>\n",
              "      <td>26,321,007,002.00</td>\n",
              "    </tr>\n",
              "    <tr>\n",
              "      <th>Social, Finance, Analytics, Advertising</th>\n",
              "      <td>2714</td>\n",
              "      <td>23,807,376,964.00</td>\n",
              "    </tr>\n",
              "    <tr>\n",
              "      <th>Cleantech / Semiconductors</th>\n",
              "      <td>2350</td>\n",
              "      <td>21,633,430,822.00</td>\n",
              "    </tr>\n",
              "    <tr>\n",
              "      <th>News, Search and Messaging</th>\n",
              "      <td>1583</td>\n",
              "      <td>13,971,567,428.00</td>\n",
              "    </tr>\n",
              "    <tr>\n",
              "      <th>Health</th>\n",
              "      <td>909</td>\n",
              "      <td>8,211,859,357.00</td>\n",
              "    </tr>\n",
              "    <tr>\n",
              "      <th>Manufacturing</th>\n",
              "      <td>799</td>\n",
              "      <td>7,258,553,378.00</td>\n",
              "    </tr>\n",
              "    <tr>\n",
              "      <th>Entertainment</th>\n",
              "      <td>591</td>\n",
              "      <td>5,099,197,982.00</td>\n",
              "    </tr>\n",
              "    <tr>\n",
              "      <th>Automotive &amp; Sports</th>\n",
              "      <td>167</td>\n",
              "      <td>1,454,104,361.00</td>\n",
              "    </tr>\n",
              "  </tbody>\n",
              "</table>\n",
              "</div>"
            ],
            "text/plain": [
              "                                         count               sum\n",
              "main_sector                                                     \n",
              "Others                                    2950 26,321,007,002.00\n",
              "Social, Finance, Analytics, Advertising   2714 23,807,376,964.00\n",
              "Cleantech / Semiconductors                2350 21,633,430,822.00\n",
              "News, Search and Messaging                1583 13,971,567,428.00\n",
              "Health                                     909  8,211,859,357.00\n",
              "Manufacturing                              799  7,258,553,378.00\n",
              "Entertainment                              591  5,099,197,982.00\n",
              "Automotive & Sports                        167  1,454,104,361.00"
            ]
          },
          "metadata": {
            "tags": []
          },
          "execution_count": 195
        }
      ]
    },
    {
      "cell_type": "code",
      "metadata": {
        "id": "_SzRhP5WO9Ut",
        "outputId": "8fea4f0f-ac54-4b30-e9cd-13191c5d40f0"
      },
      "source": [
        "# Before adding count and sum columns\n",
        "D1.head()"
      ],
      "execution_count": null,
      "outputs": [
        {
          "output_type": "execute_result",
          "data": {
            "text/html": [
              "<div>\n",
              "<style scoped>\n",
              "    .dataframe tbody tr th:only-of-type {\n",
              "        vertical-align: middle;\n",
              "    }\n",
              "\n",
              "    .dataframe tbody tr th {\n",
              "        vertical-align: top;\n",
              "    }\n",
              "\n",
              "    .dataframe thead th {\n",
              "        text-align: right;\n",
              "    }\n",
              "</style>\n",
              "<table border=\"1\" class=\"dataframe\">\n",
              "  <thead>\n",
              "    <tr style=\"text-align: right;\">\n",
              "      <th></th>\n",
              "      <th>funding_round_permalink</th>\n",
              "      <th>funding_round_type</th>\n",
              "      <th>funded_at</th>\n",
              "      <th>raised_amount_usd</th>\n",
              "      <th>permalink</th>\n",
              "      <th>name</th>\n",
              "      <th>category_list</th>\n",
              "      <th>status</th>\n",
              "      <th>country_code</th>\n",
              "      <th>primary_sector</th>\n",
              "      <th>main_sector</th>\n",
              "    </tr>\n",
              "  </thead>\n",
              "  <tbody>\n",
              "    <tr>\n",
              "      <th>4</th>\n",
              "      <td>/funding-round/452a2342fe720285c3b92e9bd927d9ba</td>\n",
              "      <td>venture</td>\n",
              "      <td>06-08-2014</td>\n",
              "      <td>5,000,000.00</td>\n",
              "      <td>/organization/all-def-digital</td>\n",
              "      <td>All Def Digital</td>\n",
              "      <td>Media</td>\n",
              "      <td>operating</td>\n",
              "      <td>USA</td>\n",
              "      <td>media</td>\n",
              "      <td>Entertainment</td>\n",
              "    </tr>\n",
              "    <tr>\n",
              "      <th>14</th>\n",
              "      <td>/funding-round/adca195749ae9ace84684723fbe75e5b</td>\n",
              "      <td>venture</td>\n",
              "      <td>26-02-2015</td>\n",
              "      <td>5,000,000.00</td>\n",
              "      <td>/organization/chefs-feed</td>\n",
              "      <td>ChefsFeed</td>\n",
              "      <td>Media|Mobile|Restaurants|Technology</td>\n",
              "      <td>operating</td>\n",
              "      <td>USA</td>\n",
              "      <td>media</td>\n",
              "      <td>Entertainment</td>\n",
              "    </tr>\n",
              "    <tr>\n",
              "      <th>20</th>\n",
              "      <td>/funding-round/7f05940c4d2dfecb8e50a0e5720e5065</td>\n",
              "      <td>venture</td>\n",
              "      <td>01-08-2006</td>\n",
              "      <td>5,000,000.00</td>\n",
              "      <td>/organization/huffingtonpost</td>\n",
              "      <td>The Huffington Post</td>\n",
              "      <td>Media|News|Publishing</td>\n",
              "      <td>acquired</td>\n",
              "      <td>USA</td>\n",
              "      <td>media</td>\n",
              "      <td>Entertainment</td>\n",
              "    </tr>\n",
              "    <tr>\n",
              "      <th>21</th>\n",
              "      <td>/funding-round/9241ae16e08df17ebdc064e49e23035a</td>\n",
              "      <td>venture</td>\n",
              "      <td>01-09-2007</td>\n",
              "      <td>5,000,000.00</td>\n",
              "      <td>/organization/huffingtonpost</td>\n",
              "      <td>The Huffington Post</td>\n",
              "      <td>Media|News|Publishing</td>\n",
              "      <td>acquired</td>\n",
              "      <td>USA</td>\n",
              "      <td>media</td>\n",
              "      <td>Entertainment</td>\n",
              "    </tr>\n",
              "    <tr>\n",
              "      <th>25</th>\n",
              "      <td>/funding-round/41ac526630da57ad6eb9d02431b17657</td>\n",
              "      <td>venture</td>\n",
              "      <td>01-09-2007</td>\n",
              "      <td>10,000,000.00</td>\n",
              "      <td>/organization/matchmine</td>\n",
              "      <td>MatchMine</td>\n",
              "      <td>Media|News|Reviews and Recommendations</td>\n",
              "      <td>closed</td>\n",
              "      <td>USA</td>\n",
              "      <td>media</td>\n",
              "      <td>Entertainment</td>\n",
              "    </tr>\n",
              "  </tbody>\n",
              "</table>\n",
              "</div>"
            ],
            "text/plain": [
              "                            funding_round_permalink funding_round_type  \\\n",
              "4   /funding-round/452a2342fe720285c3b92e9bd927d9ba            venture   \n",
              "14  /funding-round/adca195749ae9ace84684723fbe75e5b            venture   \n",
              "20  /funding-round/7f05940c4d2dfecb8e50a0e5720e5065            venture   \n",
              "21  /funding-round/9241ae16e08df17ebdc064e49e23035a            venture   \n",
              "25  /funding-round/41ac526630da57ad6eb9d02431b17657            venture   \n",
              "\n",
              "     funded_at  raised_amount_usd                      permalink  \\\n",
              "4   06-08-2014       5,000,000.00  /organization/all-def-digital   \n",
              "14  26-02-2015       5,000,000.00       /organization/chefs-feed   \n",
              "20  01-08-2006       5,000,000.00   /organization/huffingtonpost   \n",
              "21  01-09-2007       5,000,000.00   /organization/huffingtonpost   \n",
              "25  01-09-2007      10,000,000.00        /organization/matchmine   \n",
              "\n",
              "                   name                           category_list     status  \\\n",
              "4       All Def Digital                                   Media  operating   \n",
              "14            ChefsFeed     Media|Mobile|Restaurants|Technology  operating   \n",
              "20  The Huffington Post                   Media|News|Publishing   acquired   \n",
              "21  The Huffington Post                   Media|News|Publishing   acquired   \n",
              "25            MatchMine  Media|News|Reviews and Recommendations     closed   \n",
              "\n",
              "   country_code primary_sector    main_sector  \n",
              "4           USA          media  Entertainment  \n",
              "14          USA          media  Entertainment  \n",
              "20          USA          media  Entertainment  \n",
              "21          USA          media  Entertainment  \n",
              "25          USA          media  Entertainment  "
            ]
          },
          "metadata": {
            "tags": []
          },
          "execution_count": 196
        }
      ]
    },
    {
      "cell_type": "code",
      "metadata": {
        "id": "g10W7ZuJO9Uw",
        "outputId": "64b1e953-1bd4-459e-abbc-9b56eae36ac8"
      },
      "source": [
        "# Before adding count and sum columns\n",
        "D1.info()"
      ],
      "execution_count": null,
      "outputs": [
        {
          "output_type": "stream",
          "text": [
            "<class 'pandas.core.frame.DataFrame'>\n",
            "Int64Index: 12063 entries, 4 to 38781\n",
            "Data columns (total 11 columns):\n",
            "funding_round_permalink    12063 non-null object\n",
            "funding_round_type         12063 non-null object\n",
            "funded_at                  12063 non-null object\n",
            "raised_amount_usd          12063 non-null float64\n",
            "permalink                  12063 non-null object\n",
            "name                       12063 non-null object\n",
            "category_list              12063 non-null object\n",
            "status                     12063 non-null object\n",
            "country_code               12063 non-null object\n",
            "primary_sector             12063 non-null object\n",
            "main_sector                12063 non-null object\n",
            "dtypes: float64(1), object(10)\n",
            "memory usage: 1.1+ MB\n"
          ],
          "name": "stdout"
        }
      ]
    },
    {
      "cell_type": "code",
      "metadata": {
        "id": "hVczWa2BO9Uy",
        "outputId": "5231c11f-1f91-4777-97f6-c51d9db00c2b"
      },
      "source": [
        "# After adding sum and count columns\n",
        "# Final D1 data frame with all columns from master frame and cum and count columns\n",
        "D1 = pd.merge(D1, D1_count_sum, how ='inner', on = 'main_sector')\n",
        "D1.head()"
      ],
      "execution_count": null,
      "outputs": [
        {
          "output_type": "execute_result",
          "data": {
            "text/html": [
              "<div>\n",
              "<style scoped>\n",
              "    .dataframe tbody tr th:only-of-type {\n",
              "        vertical-align: middle;\n",
              "    }\n",
              "\n",
              "    .dataframe tbody tr th {\n",
              "        vertical-align: top;\n",
              "    }\n",
              "\n",
              "    .dataframe thead th {\n",
              "        text-align: right;\n",
              "    }\n",
              "</style>\n",
              "<table border=\"1\" class=\"dataframe\">\n",
              "  <thead>\n",
              "    <tr style=\"text-align: right;\">\n",
              "      <th></th>\n",
              "      <th>funding_round_permalink</th>\n",
              "      <th>funding_round_type</th>\n",
              "      <th>funded_at</th>\n",
              "      <th>raised_amount_usd</th>\n",
              "      <th>permalink</th>\n",
              "      <th>name</th>\n",
              "      <th>category_list</th>\n",
              "      <th>status</th>\n",
              "      <th>country_code</th>\n",
              "      <th>primary_sector</th>\n",
              "      <th>main_sector</th>\n",
              "      <th>count</th>\n",
              "      <th>sum</th>\n",
              "    </tr>\n",
              "  </thead>\n",
              "  <tbody>\n",
              "    <tr>\n",
              "      <th>0</th>\n",
              "      <td>/funding-round/452a2342fe720285c3b92e9bd927d9ba</td>\n",
              "      <td>venture</td>\n",
              "      <td>06-08-2014</td>\n",
              "      <td>5,000,000.00</td>\n",
              "      <td>/organization/all-def-digital</td>\n",
              "      <td>All Def Digital</td>\n",
              "      <td>Media</td>\n",
              "      <td>operating</td>\n",
              "      <td>USA</td>\n",
              "      <td>media</td>\n",
              "      <td>Entertainment</td>\n",
              "      <td>591</td>\n",
              "      <td>5,099,197,982.00</td>\n",
              "    </tr>\n",
              "    <tr>\n",
              "      <th>1</th>\n",
              "      <td>/funding-round/adca195749ae9ace84684723fbe75e5b</td>\n",
              "      <td>venture</td>\n",
              "      <td>26-02-2015</td>\n",
              "      <td>5,000,000.00</td>\n",
              "      <td>/organization/chefs-feed</td>\n",
              "      <td>ChefsFeed</td>\n",
              "      <td>Media|Mobile|Restaurants|Technology</td>\n",
              "      <td>operating</td>\n",
              "      <td>USA</td>\n",
              "      <td>media</td>\n",
              "      <td>Entertainment</td>\n",
              "      <td>591</td>\n",
              "      <td>5,099,197,982.00</td>\n",
              "    </tr>\n",
              "    <tr>\n",
              "      <th>2</th>\n",
              "      <td>/funding-round/7f05940c4d2dfecb8e50a0e5720e5065</td>\n",
              "      <td>venture</td>\n",
              "      <td>01-08-2006</td>\n",
              "      <td>5,000,000.00</td>\n",
              "      <td>/organization/huffingtonpost</td>\n",
              "      <td>The Huffington Post</td>\n",
              "      <td>Media|News|Publishing</td>\n",
              "      <td>acquired</td>\n",
              "      <td>USA</td>\n",
              "      <td>media</td>\n",
              "      <td>Entertainment</td>\n",
              "      <td>591</td>\n",
              "      <td>5,099,197,982.00</td>\n",
              "    </tr>\n",
              "    <tr>\n",
              "      <th>3</th>\n",
              "      <td>/funding-round/9241ae16e08df17ebdc064e49e23035a</td>\n",
              "      <td>venture</td>\n",
              "      <td>01-09-2007</td>\n",
              "      <td>5,000,000.00</td>\n",
              "      <td>/organization/huffingtonpost</td>\n",
              "      <td>The Huffington Post</td>\n",
              "      <td>Media|News|Publishing</td>\n",
              "      <td>acquired</td>\n",
              "      <td>USA</td>\n",
              "      <td>media</td>\n",
              "      <td>Entertainment</td>\n",
              "      <td>591</td>\n",
              "      <td>5,099,197,982.00</td>\n",
              "    </tr>\n",
              "    <tr>\n",
              "      <th>4</th>\n",
              "      <td>/funding-round/41ac526630da57ad6eb9d02431b17657</td>\n",
              "      <td>venture</td>\n",
              "      <td>01-09-2007</td>\n",
              "      <td>10,000,000.00</td>\n",
              "      <td>/organization/matchmine</td>\n",
              "      <td>MatchMine</td>\n",
              "      <td>Media|News|Reviews and Recommendations</td>\n",
              "      <td>closed</td>\n",
              "      <td>USA</td>\n",
              "      <td>media</td>\n",
              "      <td>Entertainment</td>\n",
              "      <td>591</td>\n",
              "      <td>5,099,197,982.00</td>\n",
              "    </tr>\n",
              "  </tbody>\n",
              "</table>\n",
              "</div>"
            ],
            "text/plain": [
              "                           funding_round_permalink funding_round_type  \\\n",
              "0  /funding-round/452a2342fe720285c3b92e9bd927d9ba            venture   \n",
              "1  /funding-round/adca195749ae9ace84684723fbe75e5b            venture   \n",
              "2  /funding-round/7f05940c4d2dfecb8e50a0e5720e5065            venture   \n",
              "3  /funding-round/9241ae16e08df17ebdc064e49e23035a            venture   \n",
              "4  /funding-round/41ac526630da57ad6eb9d02431b17657            venture   \n",
              "\n",
              "    funded_at  raised_amount_usd                      permalink  \\\n",
              "0  06-08-2014       5,000,000.00  /organization/all-def-digital   \n",
              "1  26-02-2015       5,000,000.00       /organization/chefs-feed   \n",
              "2  01-08-2006       5,000,000.00   /organization/huffingtonpost   \n",
              "3  01-09-2007       5,000,000.00   /organization/huffingtonpost   \n",
              "4  01-09-2007      10,000,000.00        /organization/matchmine   \n",
              "\n",
              "                  name                           category_list     status  \\\n",
              "0      All Def Digital                                   Media  operating   \n",
              "1            ChefsFeed     Media|Mobile|Restaurants|Technology  operating   \n",
              "2  The Huffington Post                   Media|News|Publishing   acquired   \n",
              "3  The Huffington Post                   Media|News|Publishing   acquired   \n",
              "4            MatchMine  Media|News|Reviews and Recommendations     closed   \n",
              "\n",
              "  country_code primary_sector    main_sector  count              sum  \n",
              "0          USA          media  Entertainment    591 5,099,197,982.00  \n",
              "1          USA          media  Entertainment    591 5,099,197,982.00  \n",
              "2          USA          media  Entertainment    591 5,099,197,982.00  \n",
              "3          USA          media  Entertainment    591 5,099,197,982.00  \n",
              "4          USA          media  Entertainment    591 5,099,197,982.00  "
            ]
          },
          "metadata": {
            "tags": []
          },
          "execution_count": 198
        }
      ]
    },
    {
      "cell_type": "code",
      "metadata": {
        "id": "EKvOoilzO9U4",
        "outputId": "2afcec93-4f5b-41ba-b6a6-acb1a8165aed"
      },
      "source": [
        "# After adding sum and count columns\n",
        "# Rows are not lost cols are added against main_sector\n",
        "D1.info()"
      ],
      "execution_count": null,
      "outputs": [
        {
          "output_type": "stream",
          "text": [
            "<class 'pandas.core.frame.DataFrame'>\n",
            "Int64Index: 12063 entries, 0 to 12062\n",
            "Data columns (total 13 columns):\n",
            "funding_round_permalink    12063 non-null object\n",
            "funding_round_type         12063 non-null object\n",
            "funded_at                  12063 non-null object\n",
            "raised_amount_usd          12063 non-null float64\n",
            "permalink                  12063 non-null object\n",
            "name                       12063 non-null object\n",
            "category_list              12063 non-null object\n",
            "status                     12063 non-null object\n",
            "country_code               12063 non-null object\n",
            "primary_sector             12063 non-null object\n",
            "main_sector                12063 non-null object\n",
            "count                      12063 non-null int64\n",
            "sum                        12063 non-null float64\n",
            "dtypes: float64(2), int64(1), object(10)\n",
            "memory usage: 1.3+ MB\n"
          ],
          "name": "stdout"
        }
      ]
    },
    {
      "cell_type": "code",
      "metadata": {
        "id": "aSAWUvouO9U6",
        "outputId": "1f7552d3-6635-4cd0-a67b-21f96f4af1f7"
      },
      "source": [
        "D2_count = pd.DataFrame(D2.groupby('main_sector').raised_amount_usd.count().sort_values(ascending = False))\n",
        "D2_count "
      ],
      "execution_count": null,
      "outputs": [
        {
          "output_type": "execute_result",
          "data": {
            "text/html": [
              "<div>\n",
              "<style scoped>\n",
              "    .dataframe tbody tr th:only-of-type {\n",
              "        vertical-align: middle;\n",
              "    }\n",
              "\n",
              "    .dataframe tbody tr th {\n",
              "        vertical-align: top;\n",
              "    }\n",
              "\n",
              "    .dataframe thead th {\n",
              "        text-align: right;\n",
              "    }\n",
              "</style>\n",
              "<table border=\"1\" class=\"dataframe\">\n",
              "  <thead>\n",
              "    <tr style=\"text-align: right;\">\n",
              "      <th></th>\n",
              "      <th>raised_amount_usd</th>\n",
              "    </tr>\n",
              "    <tr>\n",
              "      <th>main_sector</th>\n",
              "      <th></th>\n",
              "    </tr>\n",
              "  </thead>\n",
              "  <tbody>\n",
              "    <tr>\n",
              "      <th>Others</th>\n",
              "      <td>147</td>\n",
              "    </tr>\n",
              "    <tr>\n",
              "      <th>Social, Finance, Analytics, Advertising</th>\n",
              "      <td>133</td>\n",
              "    </tr>\n",
              "    <tr>\n",
              "      <th>Cleantech / Semiconductors</th>\n",
              "      <td>130</td>\n",
              "    </tr>\n",
              "    <tr>\n",
              "      <th>News, Search and Messaging</th>\n",
              "      <td>73</td>\n",
              "    </tr>\n",
              "    <tr>\n",
              "      <th>Entertainment</th>\n",
              "      <td>56</td>\n",
              "    </tr>\n",
              "    <tr>\n",
              "      <th>Manufacturing</th>\n",
              "      <td>42</td>\n",
              "    </tr>\n",
              "    <tr>\n",
              "      <th>Health</th>\n",
              "      <td>24</td>\n",
              "    </tr>\n",
              "    <tr>\n",
              "      <th>Automotive &amp; Sports</th>\n",
              "      <td>16</td>\n",
              "    </tr>\n",
              "  </tbody>\n",
              "</table>\n",
              "</div>"
            ],
            "text/plain": [
              "                                         raised_amount_usd\n",
              "main_sector                                               \n",
              "Others                                                 147\n",
              "Social, Finance, Analytics, Advertising                133\n",
              "Cleantech / Semiconductors                             130\n",
              "News, Search and Messaging                              73\n",
              "Entertainment                                           56\n",
              "Manufacturing                                           42\n",
              "Health                                                  24\n",
              "Automotive & Sports                                     16"
            ]
          },
          "metadata": {
            "tags": []
          },
          "execution_count": 200
        }
      ]
    },
    {
      "cell_type": "code",
      "metadata": {
        "id": "bdq2Oq-bO9U9",
        "outputId": "de21f225-6775-4494-fe1a-af7759a8df1d"
      },
      "source": [
        "D2_sum = pd.DataFrame(D2.groupby('main_sector').raised_amount_usd.sum().sort_values(ascending = False))\n",
        "D2_sum"
      ],
      "execution_count": null,
      "outputs": [
        {
          "output_type": "execute_result",
          "data": {
            "text/html": [
              "<div>\n",
              "<style scoped>\n",
              "    .dataframe tbody tr th:only-of-type {\n",
              "        vertical-align: middle;\n",
              "    }\n",
              "\n",
              "    .dataframe tbody tr th {\n",
              "        vertical-align: top;\n",
              "    }\n",
              "\n",
              "    .dataframe thead th {\n",
              "        text-align: right;\n",
              "    }\n",
              "</style>\n",
              "<table border=\"1\" class=\"dataframe\">\n",
              "  <thead>\n",
              "    <tr style=\"text-align: right;\">\n",
              "      <th></th>\n",
              "      <th>raised_amount_usd</th>\n",
              "    </tr>\n",
              "    <tr>\n",
              "      <th>main_sector</th>\n",
              "      <th></th>\n",
              "    </tr>\n",
              "  </thead>\n",
              "  <tbody>\n",
              "    <tr>\n",
              "      <th>Others</th>\n",
              "      <td>1,283,624,289.00</td>\n",
              "    </tr>\n",
              "    <tr>\n",
              "      <th>Cleantech / Semiconductors</th>\n",
              "      <td>1,163,990,056.00</td>\n",
              "    </tr>\n",
              "    <tr>\n",
              "      <th>Social, Finance, Analytics, Advertising</th>\n",
              "      <td>1,089,404,014.00</td>\n",
              "    </tr>\n",
              "    <tr>\n",
              "      <th>News, Search and Messaging</th>\n",
              "      <td>615,746,235.00</td>\n",
              "    </tr>\n",
              "    <tr>\n",
              "      <th>Entertainment</th>\n",
              "      <td>482,784,687.00</td>\n",
              "    </tr>\n",
              "    <tr>\n",
              "      <th>Manufacturing</th>\n",
              "      <td>361,940,335.00</td>\n",
              "    </tr>\n",
              "    <tr>\n",
              "      <th>Health</th>\n",
              "      <td>214,537,510.00</td>\n",
              "    </tr>\n",
              "    <tr>\n",
              "      <th>Automotive &amp; Sports</th>\n",
              "      <td>167,051,565.00</td>\n",
              "    </tr>\n",
              "  </tbody>\n",
              "</table>\n",
              "</div>"
            ],
            "text/plain": [
              "                                         raised_amount_usd\n",
              "main_sector                                               \n",
              "Others                                    1,283,624,289.00\n",
              "Cleantech / Semiconductors                1,163,990,056.00\n",
              "Social, Finance, Analytics, Advertising   1,089,404,014.00\n",
              "News, Search and Messaging                  615,746,235.00\n",
              "Entertainment                               482,784,687.00\n",
              "Manufacturing                               361,940,335.00\n",
              "Health                                      214,537,510.00\n",
              "Automotive & Sports                         167,051,565.00"
            ]
          },
          "metadata": {
            "tags": []
          },
          "execution_count": 201
        }
      ]
    },
    {
      "cell_type": "code",
      "metadata": {
        "id": "2gsWYnymO9U_",
        "outputId": "474a31e2-3e01-42a7-dd27-6d71456f0831"
      },
      "source": [
        "D2_count_sum = pd.merge(D2_count, D2_sum, how = \"inner\" , on = 'main_sector')\n",
        "D2_count_sum"
      ],
      "execution_count": null,
      "outputs": [
        {
          "output_type": "execute_result",
          "data": {
            "text/html": [
              "<div>\n",
              "<style scoped>\n",
              "    .dataframe tbody tr th:only-of-type {\n",
              "        vertical-align: middle;\n",
              "    }\n",
              "\n",
              "    .dataframe tbody tr th {\n",
              "        vertical-align: top;\n",
              "    }\n",
              "\n",
              "    .dataframe thead th {\n",
              "        text-align: right;\n",
              "    }\n",
              "</style>\n",
              "<table border=\"1\" class=\"dataframe\">\n",
              "  <thead>\n",
              "    <tr style=\"text-align: right;\">\n",
              "      <th></th>\n",
              "      <th>raised_amount_usd_x</th>\n",
              "      <th>raised_amount_usd_y</th>\n",
              "    </tr>\n",
              "    <tr>\n",
              "      <th>main_sector</th>\n",
              "      <th></th>\n",
              "      <th></th>\n",
              "    </tr>\n",
              "  </thead>\n",
              "  <tbody>\n",
              "    <tr>\n",
              "      <th>Others</th>\n",
              "      <td>147</td>\n",
              "      <td>1,283,624,289.00</td>\n",
              "    </tr>\n",
              "    <tr>\n",
              "      <th>Social, Finance, Analytics, Advertising</th>\n",
              "      <td>133</td>\n",
              "      <td>1,089,404,014.00</td>\n",
              "    </tr>\n",
              "    <tr>\n",
              "      <th>Cleantech / Semiconductors</th>\n",
              "      <td>130</td>\n",
              "      <td>1,163,990,056.00</td>\n",
              "    </tr>\n",
              "    <tr>\n",
              "      <th>News, Search and Messaging</th>\n",
              "      <td>73</td>\n",
              "      <td>615,746,235.00</td>\n",
              "    </tr>\n",
              "    <tr>\n",
              "      <th>Entertainment</th>\n",
              "      <td>56</td>\n",
              "      <td>482,784,687.00</td>\n",
              "    </tr>\n",
              "    <tr>\n",
              "      <th>Manufacturing</th>\n",
              "      <td>42</td>\n",
              "      <td>361,940,335.00</td>\n",
              "    </tr>\n",
              "    <tr>\n",
              "      <th>Health</th>\n",
              "      <td>24</td>\n",
              "      <td>214,537,510.00</td>\n",
              "    </tr>\n",
              "    <tr>\n",
              "      <th>Automotive &amp; Sports</th>\n",
              "      <td>16</td>\n",
              "      <td>167,051,565.00</td>\n",
              "    </tr>\n",
              "  </tbody>\n",
              "</table>\n",
              "</div>"
            ],
            "text/plain": [
              "                                         raised_amount_usd_x  \\\n",
              "main_sector                                                    \n",
              "Others                                                   147   \n",
              "Social, Finance, Analytics, Advertising                  133   \n",
              "Cleantech / Semiconductors                               130   \n",
              "News, Search and Messaging                                73   \n",
              "Entertainment                                             56   \n",
              "Manufacturing                                             42   \n",
              "Health                                                    24   \n",
              "Automotive & Sports                                       16   \n",
              "\n",
              "                                         raised_amount_usd_y  \n",
              "main_sector                                                   \n",
              "Others                                      1,283,624,289.00  \n",
              "Social, Finance, Analytics, Advertising     1,089,404,014.00  \n",
              "Cleantech / Semiconductors                  1,163,990,056.00  \n",
              "News, Search and Messaging                    615,746,235.00  \n",
              "Entertainment                                 482,784,687.00  \n",
              "Manufacturing                                 361,940,335.00  \n",
              "Health                                        214,537,510.00  \n",
              "Automotive & Sports                           167,051,565.00  "
            ]
          },
          "metadata": {
            "tags": []
          },
          "execution_count": 202
        }
      ]
    },
    {
      "cell_type": "code",
      "metadata": {
        "id": "HI1vHp5EO9VB",
        "outputId": "8b011d03-22f0-40c8-dabc-4c5feb45fc90"
      },
      "source": [
        "D2_count_sum.rename(columns = {'raised_amount_usd_x':'count','raised_amount_usd_y':'sum'}, inplace = True)\n",
        "D2_count_sum"
      ],
      "execution_count": null,
      "outputs": [
        {
          "output_type": "execute_result",
          "data": {
            "text/html": [
              "<div>\n",
              "<style scoped>\n",
              "    .dataframe tbody tr th:only-of-type {\n",
              "        vertical-align: middle;\n",
              "    }\n",
              "\n",
              "    .dataframe tbody tr th {\n",
              "        vertical-align: top;\n",
              "    }\n",
              "\n",
              "    .dataframe thead th {\n",
              "        text-align: right;\n",
              "    }\n",
              "</style>\n",
              "<table border=\"1\" class=\"dataframe\">\n",
              "  <thead>\n",
              "    <tr style=\"text-align: right;\">\n",
              "      <th></th>\n",
              "      <th>count</th>\n",
              "      <th>sum</th>\n",
              "    </tr>\n",
              "    <tr>\n",
              "      <th>main_sector</th>\n",
              "      <th></th>\n",
              "      <th></th>\n",
              "    </tr>\n",
              "  </thead>\n",
              "  <tbody>\n",
              "    <tr>\n",
              "      <th>Others</th>\n",
              "      <td>147</td>\n",
              "      <td>1,283,624,289.00</td>\n",
              "    </tr>\n",
              "    <tr>\n",
              "      <th>Social, Finance, Analytics, Advertising</th>\n",
              "      <td>133</td>\n",
              "      <td>1,089,404,014.00</td>\n",
              "    </tr>\n",
              "    <tr>\n",
              "      <th>Cleantech / Semiconductors</th>\n",
              "      <td>130</td>\n",
              "      <td>1,163,990,056.00</td>\n",
              "    </tr>\n",
              "    <tr>\n",
              "      <th>News, Search and Messaging</th>\n",
              "      <td>73</td>\n",
              "      <td>615,746,235.00</td>\n",
              "    </tr>\n",
              "    <tr>\n",
              "      <th>Entertainment</th>\n",
              "      <td>56</td>\n",
              "      <td>482,784,687.00</td>\n",
              "    </tr>\n",
              "    <tr>\n",
              "      <th>Manufacturing</th>\n",
              "      <td>42</td>\n",
              "      <td>361,940,335.00</td>\n",
              "    </tr>\n",
              "    <tr>\n",
              "      <th>Health</th>\n",
              "      <td>24</td>\n",
              "      <td>214,537,510.00</td>\n",
              "    </tr>\n",
              "    <tr>\n",
              "      <th>Automotive &amp; Sports</th>\n",
              "      <td>16</td>\n",
              "      <td>167,051,565.00</td>\n",
              "    </tr>\n",
              "  </tbody>\n",
              "</table>\n",
              "</div>"
            ],
            "text/plain": [
              "                                         count              sum\n",
              "main_sector                                                    \n",
              "Others                                     147 1,283,624,289.00\n",
              "Social, Finance, Analytics, Advertising    133 1,089,404,014.00\n",
              "Cleantech / Semiconductors                 130 1,163,990,056.00\n",
              "News, Search and Messaging                  73   615,746,235.00\n",
              "Entertainment                               56   482,784,687.00\n",
              "Manufacturing                               42   361,940,335.00\n",
              "Health                                      24   214,537,510.00\n",
              "Automotive & Sports                         16   167,051,565.00"
            ]
          },
          "metadata": {
            "tags": []
          },
          "execution_count": 203
        }
      ]
    },
    {
      "cell_type": "code",
      "metadata": {
        "id": "xTRk3iHHO9VE",
        "outputId": "93312117-9b46-45aa-9f13-8567283ac158"
      },
      "source": [
        "# Final D1 data frame with all columns from master frame and cum and count columns\n",
        "# After adding sum and count columns\n",
        "D2 = pd.merge(D2, D2_count_sum, how ='inner', on = 'main_sector')\n",
        "D2.head()"
      ],
      "execution_count": null,
      "outputs": [
        {
          "output_type": "execute_result",
          "data": {
            "text/html": [
              "<div>\n",
              "<style scoped>\n",
              "    .dataframe tbody tr th:only-of-type {\n",
              "        vertical-align: middle;\n",
              "    }\n",
              "\n",
              "    .dataframe tbody tr th {\n",
              "        vertical-align: top;\n",
              "    }\n",
              "\n",
              "    .dataframe thead th {\n",
              "        text-align: right;\n",
              "    }\n",
              "</style>\n",
              "<table border=\"1\" class=\"dataframe\">\n",
              "  <thead>\n",
              "    <tr style=\"text-align: right;\">\n",
              "      <th></th>\n",
              "      <th>funding_round_permalink</th>\n",
              "      <th>funding_round_type</th>\n",
              "      <th>funded_at</th>\n",
              "      <th>raised_amount_usd</th>\n",
              "      <th>permalink</th>\n",
              "      <th>name</th>\n",
              "      <th>category_list</th>\n",
              "      <th>status</th>\n",
              "      <th>country_code</th>\n",
              "      <th>primary_sector</th>\n",
              "      <th>main_sector</th>\n",
              "      <th>count</th>\n",
              "      <th>sum</th>\n",
              "    </tr>\n",
              "  </thead>\n",
              "  <tbody>\n",
              "    <tr>\n",
              "      <th>0</th>\n",
              "      <td>/funding-round/21a2cbf6f2fb2a1c2a61e04bf930dfe6</td>\n",
              "      <td>venture</td>\n",
              "      <td>06-10-2015</td>\n",
              "      <td>15,000,000.00</td>\n",
              "      <td>/organization/90min</td>\n",
              "      <td>90min</td>\n",
              "      <td>Media|News|Publishing|Soccer|Sports</td>\n",
              "      <td>operating</td>\n",
              "      <td>GBR</td>\n",
              "      <td>media</td>\n",
              "      <td>Entertainment</td>\n",
              "      <td>56</td>\n",
              "      <td>482,784,687.00</td>\n",
              "    </tr>\n",
              "    <tr>\n",
              "      <th>1</th>\n",
              "      <td>/funding-round/bd626ed022f5c66574b1afe234f3c90d</td>\n",
              "      <td>venture</td>\n",
              "      <td>07-05-2013</td>\n",
              "      <td>5,800,000.00</td>\n",
              "      <td>/organization/90min</td>\n",
              "      <td>90min</td>\n",
              "      <td>Media|News|Publishing|Soccer|Sports</td>\n",
              "      <td>operating</td>\n",
              "      <td>GBR</td>\n",
              "      <td>media</td>\n",
              "      <td>Entertainment</td>\n",
              "      <td>56</td>\n",
              "      <td>482,784,687.00</td>\n",
              "    </tr>\n",
              "    <tr>\n",
              "      <th>2</th>\n",
              "      <td>/funding-round/d2fc787fbc5e4f468dff8b2c557993f1</td>\n",
              "      <td>venture</td>\n",
              "      <td>13-05-2010</td>\n",
              "      <td>8,800,000.00</td>\n",
              "      <td>/organization/eutechnyx</td>\n",
              "      <td>Eutechnyx</td>\n",
              "      <td>Games</td>\n",
              "      <td>operating</td>\n",
              "      <td>GBR</td>\n",
              "      <td>games</td>\n",
              "      <td>Entertainment</td>\n",
              "      <td>56</td>\n",
              "      <td>482,784,687.00</td>\n",
              "    </tr>\n",
              "    <tr>\n",
              "      <th>3</th>\n",
              "      <td>/funding-round/47df01ed44d7b5916159051e5e32391e</td>\n",
              "      <td>venture</td>\n",
              "      <td>01-06-2011</td>\n",
              "      <td>10,000,000.00</td>\n",
              "      <td>/organization/mind-candy</td>\n",
              "      <td>Mind Candy</td>\n",
              "      <td>Games</td>\n",
              "      <td>operating</td>\n",
              "      <td>GBR</td>\n",
              "      <td>games</td>\n",
              "      <td>Entertainment</td>\n",
              "      <td>56</td>\n",
              "      <td>482,784,687.00</td>\n",
              "    </tr>\n",
              "    <tr>\n",
              "      <th>4</th>\n",
              "      <td>/funding-round/c6a873b4cbdd7ea3d023a771bd3b2f99</td>\n",
              "      <td>venture</td>\n",
              "      <td>23-11-2006</td>\n",
              "      <td>10,860,000.00</td>\n",
              "      <td>/organization/mind-candy</td>\n",
              "      <td>Mind Candy</td>\n",
              "      <td>Games</td>\n",
              "      <td>operating</td>\n",
              "      <td>GBR</td>\n",
              "      <td>games</td>\n",
              "      <td>Entertainment</td>\n",
              "      <td>56</td>\n",
              "      <td>482,784,687.00</td>\n",
              "    </tr>\n",
              "  </tbody>\n",
              "</table>\n",
              "</div>"
            ],
            "text/plain": [
              "                           funding_round_permalink funding_round_type  \\\n",
              "0  /funding-round/21a2cbf6f2fb2a1c2a61e04bf930dfe6            venture   \n",
              "1  /funding-round/bd626ed022f5c66574b1afe234f3c90d            venture   \n",
              "2  /funding-round/d2fc787fbc5e4f468dff8b2c557993f1            venture   \n",
              "3  /funding-round/47df01ed44d7b5916159051e5e32391e            venture   \n",
              "4  /funding-round/c6a873b4cbdd7ea3d023a771bd3b2f99            venture   \n",
              "\n",
              "    funded_at  raised_amount_usd                 permalink        name  \\\n",
              "0  06-10-2015      15,000,000.00       /organization/90min       90min   \n",
              "1  07-05-2013       5,800,000.00       /organization/90min       90min   \n",
              "2  13-05-2010       8,800,000.00   /organization/eutechnyx   Eutechnyx   \n",
              "3  01-06-2011      10,000,000.00  /organization/mind-candy  Mind Candy   \n",
              "4  23-11-2006      10,860,000.00  /organization/mind-candy  Mind Candy   \n",
              "\n",
              "                         category_list     status country_code primary_sector  \\\n",
              "0  Media|News|Publishing|Soccer|Sports  operating          GBR          media   \n",
              "1  Media|News|Publishing|Soccer|Sports  operating          GBR          media   \n",
              "2                                Games  operating          GBR          games   \n",
              "3                                Games  operating          GBR          games   \n",
              "4                                Games  operating          GBR          games   \n",
              "\n",
              "     main_sector  count            sum  \n",
              "0  Entertainment     56 482,784,687.00  \n",
              "1  Entertainment     56 482,784,687.00  \n",
              "2  Entertainment     56 482,784,687.00  \n",
              "3  Entertainment     56 482,784,687.00  \n",
              "4  Entertainment     56 482,784,687.00  "
            ]
          },
          "metadata": {
            "tags": []
          },
          "execution_count": 204
        }
      ]
    },
    {
      "cell_type": "code",
      "metadata": {
        "id": "LxX1s3tSO9VG",
        "outputId": "2ddefab4-171d-4802-f659-79c20d80dcca"
      },
      "source": [
        "# After adding sum and count columns\n",
        "# Rows are not lost cols are added against main_sector\n",
        "D2.info()"
      ],
      "execution_count": null,
      "outputs": [
        {
          "output_type": "stream",
          "text": [
            "<class 'pandas.core.frame.DataFrame'>\n",
            "Int64Index: 621 entries, 0 to 620\n",
            "Data columns (total 13 columns):\n",
            "funding_round_permalink    621 non-null object\n",
            "funding_round_type         621 non-null object\n",
            "funded_at                  621 non-null object\n",
            "raised_amount_usd          621 non-null float64\n",
            "permalink                  621 non-null object\n",
            "name                       621 non-null object\n",
            "category_list              621 non-null object\n",
            "status                     621 non-null object\n",
            "country_code               621 non-null object\n",
            "primary_sector             621 non-null object\n",
            "main_sector                621 non-null object\n",
            "count                      621 non-null int64\n",
            "sum                        621 non-null float64\n",
            "dtypes: float64(2), int64(1), object(10)\n",
            "memory usage: 67.9+ KB\n"
          ],
          "name": "stdout"
        }
      ]
    },
    {
      "cell_type": "code",
      "metadata": {
        "id": "01PEBjM9O9VI",
        "outputId": "d49fd34f-77ea-42a2-cb2e-338c195f5a1f"
      },
      "source": [
        "D3_count = pd.DataFrame(D3.groupby('main_sector').raised_amount_usd.count().sort_values(ascending = False))\n",
        "D3_count "
      ],
      "execution_count": null,
      "outputs": [
        {
          "output_type": "execute_result",
          "data": {
            "text/html": [
              "<div>\n",
              "<style scoped>\n",
              "    .dataframe tbody tr th:only-of-type {\n",
              "        vertical-align: middle;\n",
              "    }\n",
              "\n",
              "    .dataframe tbody tr th {\n",
              "        vertical-align: top;\n",
              "    }\n",
              "\n",
              "    .dataframe thead th {\n",
              "        text-align: right;\n",
              "    }\n",
              "</style>\n",
              "<table border=\"1\" class=\"dataframe\">\n",
              "  <thead>\n",
              "    <tr style=\"text-align: right;\">\n",
              "      <th></th>\n",
              "      <th>raised_amount_usd</th>\n",
              "    </tr>\n",
              "    <tr>\n",
              "      <th>main_sector</th>\n",
              "      <th></th>\n",
              "    </tr>\n",
              "  </thead>\n",
              "  <tbody>\n",
              "    <tr>\n",
              "      <th>Others</th>\n",
              "      <td>110</td>\n",
              "    </tr>\n",
              "    <tr>\n",
              "      <th>Social, Finance, Analytics, Advertising</th>\n",
              "      <td>60</td>\n",
              "    </tr>\n",
              "    <tr>\n",
              "      <th>News, Search and Messaging</th>\n",
              "      <td>52</td>\n",
              "    </tr>\n",
              "    <tr>\n",
              "      <th>Entertainment</th>\n",
              "      <td>33</td>\n",
              "    </tr>\n",
              "    <tr>\n",
              "      <th>Manufacturing</th>\n",
              "      <td>21</td>\n",
              "    </tr>\n",
              "    <tr>\n",
              "      <th>Cleantech / Semiconductors</th>\n",
              "      <td>20</td>\n",
              "    </tr>\n",
              "    <tr>\n",
              "      <th>Health</th>\n",
              "      <td>19</td>\n",
              "    </tr>\n",
              "    <tr>\n",
              "      <th>Automotive &amp; Sports</th>\n",
              "      <td>13</td>\n",
              "    </tr>\n",
              "  </tbody>\n",
              "</table>\n",
              "</div>"
            ],
            "text/plain": [
              "                                         raised_amount_usd\n",
              "main_sector                                               \n",
              "Others                                                 110\n",
              "Social, Finance, Analytics, Advertising                 60\n",
              "News, Search and Messaging                              52\n",
              "Entertainment                                           33\n",
              "Manufacturing                                           21\n",
              "Cleantech / Semiconductors                              20\n",
              "Health                                                  19\n",
              "Automotive & Sports                                     13"
            ]
          },
          "metadata": {
            "tags": []
          },
          "execution_count": 206
        }
      ]
    },
    {
      "cell_type": "code",
      "metadata": {
        "id": "ipa9V2zqO9VK",
        "outputId": "c4f821eb-8406-45bb-c5d8-a404e821e5bc"
      },
      "source": [
        "D3_sum = pd.DataFrame(D3.groupby('main_sector').raised_amount_usd.sum().sort_values(ascending = False))\n",
        "D3_sum"
      ],
      "execution_count": null,
      "outputs": [
        {
          "output_type": "execute_result",
          "data": {
            "text/html": [
              "<div>\n",
              "<style scoped>\n",
              "    .dataframe tbody tr th:only-of-type {\n",
              "        vertical-align: middle;\n",
              "    }\n",
              "\n",
              "    .dataframe tbody tr th {\n",
              "        vertical-align: top;\n",
              "    }\n",
              "\n",
              "    .dataframe thead th {\n",
              "        text-align: right;\n",
              "    }\n",
              "</style>\n",
              "<table border=\"1\" class=\"dataframe\">\n",
              "  <thead>\n",
              "    <tr style=\"text-align: right;\">\n",
              "      <th></th>\n",
              "      <th>raised_amount_usd</th>\n",
              "    </tr>\n",
              "    <tr>\n",
              "      <th>main_sector</th>\n",
              "      <th></th>\n",
              "    </tr>\n",
              "  </thead>\n",
              "  <tbody>\n",
              "    <tr>\n",
              "      <th>Others</th>\n",
              "      <td>1,013,409,507.00</td>\n",
              "    </tr>\n",
              "    <tr>\n",
              "      <th>Social, Finance, Analytics, Advertising</th>\n",
              "      <td>550,549,550.00</td>\n",
              "    </tr>\n",
              "    <tr>\n",
              "      <th>News, Search and Messaging</th>\n",
              "      <td>433,834,545.00</td>\n",
              "    </tr>\n",
              "    <tr>\n",
              "      <th>Entertainment</th>\n",
              "      <td>280,830,000.00</td>\n",
              "    </tr>\n",
              "    <tr>\n",
              "      <th>Manufacturing</th>\n",
              "      <td>200,900,000.00</td>\n",
              "    </tr>\n",
              "    <tr>\n",
              "      <th>Health</th>\n",
              "      <td>167,740,000.00</td>\n",
              "    </tr>\n",
              "    <tr>\n",
              "      <th>Cleantech / Semiconductors</th>\n",
              "      <td>165,380,000.00</td>\n",
              "    </tr>\n",
              "    <tr>\n",
              "      <th>Automotive &amp; Sports</th>\n",
              "      <td>136,900,000.00</td>\n",
              "    </tr>\n",
              "  </tbody>\n",
              "</table>\n",
              "</div>"
            ],
            "text/plain": [
              "                                         raised_amount_usd\n",
              "main_sector                                               \n",
              "Others                                    1,013,409,507.00\n",
              "Social, Finance, Analytics, Advertising     550,549,550.00\n",
              "News, Search and Messaging                  433,834,545.00\n",
              "Entertainment                               280,830,000.00\n",
              "Manufacturing                               200,900,000.00\n",
              "Health                                      167,740,000.00\n",
              "Cleantech / Semiconductors                  165,380,000.00\n",
              "Automotive & Sports                         136,900,000.00"
            ]
          },
          "metadata": {
            "tags": []
          },
          "execution_count": 207
        }
      ]
    },
    {
      "cell_type": "code",
      "metadata": {
        "id": "hTg2qVnyO9VM",
        "outputId": "f7d8f9ff-9379-4540-899a-45700b51b71d"
      },
      "source": [
        "D3_count_sum = pd.merge(D3_count, D3_sum, how = \"inner\" , on = 'main_sector')\n",
        "D3_count_sum"
      ],
      "execution_count": null,
      "outputs": [
        {
          "output_type": "execute_result",
          "data": {
            "text/html": [
              "<div>\n",
              "<style scoped>\n",
              "    .dataframe tbody tr th:only-of-type {\n",
              "        vertical-align: middle;\n",
              "    }\n",
              "\n",
              "    .dataframe tbody tr th {\n",
              "        vertical-align: top;\n",
              "    }\n",
              "\n",
              "    .dataframe thead th {\n",
              "        text-align: right;\n",
              "    }\n",
              "</style>\n",
              "<table border=\"1\" class=\"dataframe\">\n",
              "  <thead>\n",
              "    <tr style=\"text-align: right;\">\n",
              "      <th></th>\n",
              "      <th>raised_amount_usd_x</th>\n",
              "      <th>raised_amount_usd_y</th>\n",
              "    </tr>\n",
              "    <tr>\n",
              "      <th>main_sector</th>\n",
              "      <th></th>\n",
              "      <th></th>\n",
              "    </tr>\n",
              "  </thead>\n",
              "  <tbody>\n",
              "    <tr>\n",
              "      <th>Others</th>\n",
              "      <td>110</td>\n",
              "      <td>1,013,409,507.00</td>\n",
              "    </tr>\n",
              "    <tr>\n",
              "      <th>Social, Finance, Analytics, Advertising</th>\n",
              "      <td>60</td>\n",
              "      <td>550,549,550.00</td>\n",
              "    </tr>\n",
              "    <tr>\n",
              "      <th>News, Search and Messaging</th>\n",
              "      <td>52</td>\n",
              "      <td>433,834,545.00</td>\n",
              "    </tr>\n",
              "    <tr>\n",
              "      <th>Entertainment</th>\n",
              "      <td>33</td>\n",
              "      <td>280,830,000.00</td>\n",
              "    </tr>\n",
              "    <tr>\n",
              "      <th>Manufacturing</th>\n",
              "      <td>21</td>\n",
              "      <td>200,900,000.00</td>\n",
              "    </tr>\n",
              "    <tr>\n",
              "      <th>Cleantech / Semiconductors</th>\n",
              "      <td>20</td>\n",
              "      <td>165,380,000.00</td>\n",
              "    </tr>\n",
              "    <tr>\n",
              "      <th>Health</th>\n",
              "      <td>19</td>\n",
              "      <td>167,740,000.00</td>\n",
              "    </tr>\n",
              "    <tr>\n",
              "      <th>Automotive &amp; Sports</th>\n",
              "      <td>13</td>\n",
              "      <td>136,900,000.00</td>\n",
              "    </tr>\n",
              "  </tbody>\n",
              "</table>\n",
              "</div>"
            ],
            "text/plain": [
              "                                         raised_amount_usd_x  \\\n",
              "main_sector                                                    \n",
              "Others                                                   110   \n",
              "Social, Finance, Analytics, Advertising                   60   \n",
              "News, Search and Messaging                                52   \n",
              "Entertainment                                             33   \n",
              "Manufacturing                                             21   \n",
              "Cleantech / Semiconductors                                20   \n",
              "Health                                                    19   \n",
              "Automotive & Sports                                       13   \n",
              "\n",
              "                                         raised_amount_usd_y  \n",
              "main_sector                                                   \n",
              "Others                                      1,013,409,507.00  \n",
              "Social, Finance, Analytics, Advertising       550,549,550.00  \n",
              "News, Search and Messaging                    433,834,545.00  \n",
              "Entertainment                                 280,830,000.00  \n",
              "Manufacturing                                 200,900,000.00  \n",
              "Cleantech / Semiconductors                    165,380,000.00  \n",
              "Health                                        167,740,000.00  \n",
              "Automotive & Sports                           136,900,000.00  "
            ]
          },
          "metadata": {
            "tags": []
          },
          "execution_count": 208
        }
      ]
    },
    {
      "cell_type": "code",
      "metadata": {
        "id": "yHYVyToTO9VQ",
        "outputId": "2f4a7d1e-980c-4c01-8d0e-94ef1816b3a7"
      },
      "source": [
        "D3_count_sum.rename(columns = {'raised_amount_usd_x':'count','raised_amount_usd_y':'sum'}, inplace = True)\n",
        "D3_count_sum"
      ],
      "execution_count": null,
      "outputs": [
        {
          "output_type": "execute_result",
          "data": {
            "text/html": [
              "<div>\n",
              "<style scoped>\n",
              "    .dataframe tbody tr th:only-of-type {\n",
              "        vertical-align: middle;\n",
              "    }\n",
              "\n",
              "    .dataframe tbody tr th {\n",
              "        vertical-align: top;\n",
              "    }\n",
              "\n",
              "    .dataframe thead th {\n",
              "        text-align: right;\n",
              "    }\n",
              "</style>\n",
              "<table border=\"1\" class=\"dataframe\">\n",
              "  <thead>\n",
              "    <tr style=\"text-align: right;\">\n",
              "      <th></th>\n",
              "      <th>count</th>\n",
              "      <th>sum</th>\n",
              "    </tr>\n",
              "    <tr>\n",
              "      <th>main_sector</th>\n",
              "      <th></th>\n",
              "      <th></th>\n",
              "    </tr>\n",
              "  </thead>\n",
              "  <tbody>\n",
              "    <tr>\n",
              "      <th>Others</th>\n",
              "      <td>110</td>\n",
              "      <td>1,013,409,507.00</td>\n",
              "    </tr>\n",
              "    <tr>\n",
              "      <th>Social, Finance, Analytics, Advertising</th>\n",
              "      <td>60</td>\n",
              "      <td>550,549,550.00</td>\n",
              "    </tr>\n",
              "    <tr>\n",
              "      <th>News, Search and Messaging</th>\n",
              "      <td>52</td>\n",
              "      <td>433,834,545.00</td>\n",
              "    </tr>\n",
              "    <tr>\n",
              "      <th>Entertainment</th>\n",
              "      <td>33</td>\n",
              "      <td>280,830,000.00</td>\n",
              "    </tr>\n",
              "    <tr>\n",
              "      <th>Manufacturing</th>\n",
              "      <td>21</td>\n",
              "      <td>200,900,000.00</td>\n",
              "    </tr>\n",
              "    <tr>\n",
              "      <th>Cleantech / Semiconductors</th>\n",
              "      <td>20</td>\n",
              "      <td>165,380,000.00</td>\n",
              "    </tr>\n",
              "    <tr>\n",
              "      <th>Health</th>\n",
              "      <td>19</td>\n",
              "      <td>167,740,000.00</td>\n",
              "    </tr>\n",
              "    <tr>\n",
              "      <th>Automotive &amp; Sports</th>\n",
              "      <td>13</td>\n",
              "      <td>136,900,000.00</td>\n",
              "    </tr>\n",
              "  </tbody>\n",
              "</table>\n",
              "</div>"
            ],
            "text/plain": [
              "                                         count              sum\n",
              "main_sector                                                    \n",
              "Others                                     110 1,013,409,507.00\n",
              "Social, Finance, Analytics, Advertising     60   550,549,550.00\n",
              "News, Search and Messaging                  52   433,834,545.00\n",
              "Entertainment                               33   280,830,000.00\n",
              "Manufacturing                               21   200,900,000.00\n",
              "Cleantech / Semiconductors                  20   165,380,000.00\n",
              "Health                                      19   167,740,000.00\n",
              "Automotive & Sports                         13   136,900,000.00"
            ]
          },
          "metadata": {
            "tags": []
          },
          "execution_count": 209
        }
      ]
    },
    {
      "cell_type": "code",
      "metadata": {
        "id": "FIIHlo0TO9VT",
        "outputId": "472cef0e-6495-44e2-bbc7-c0fa05b162d4"
      },
      "source": [
        "# After adding sum and count columns\n",
        "D3 = pd.merge(D3, D3_count_sum, how ='inner', on = 'main_sector')\n",
        "D3.head()"
      ],
      "execution_count": null,
      "outputs": [
        {
          "output_type": "execute_result",
          "data": {
            "text/html": [
              "<div>\n",
              "<style scoped>\n",
              "    .dataframe tbody tr th:only-of-type {\n",
              "        vertical-align: middle;\n",
              "    }\n",
              "\n",
              "    .dataframe tbody tr th {\n",
              "        vertical-align: top;\n",
              "    }\n",
              "\n",
              "    .dataframe thead th {\n",
              "        text-align: right;\n",
              "    }\n",
              "</style>\n",
              "<table border=\"1\" class=\"dataframe\">\n",
              "  <thead>\n",
              "    <tr style=\"text-align: right;\">\n",
              "      <th></th>\n",
              "      <th>funding_round_permalink</th>\n",
              "      <th>funding_round_type</th>\n",
              "      <th>funded_at</th>\n",
              "      <th>raised_amount_usd</th>\n",
              "      <th>permalink</th>\n",
              "      <th>name</th>\n",
              "      <th>category_list</th>\n",
              "      <th>status</th>\n",
              "      <th>country_code</th>\n",
              "      <th>primary_sector</th>\n",
              "      <th>main_sector</th>\n",
              "      <th>count</th>\n",
              "      <th>sum</th>\n",
              "    </tr>\n",
              "  </thead>\n",
              "  <tbody>\n",
              "    <tr>\n",
              "      <th>0</th>\n",
              "      <td>/funding-round/9a01d05418af9f794eebff7ace91f638</td>\n",
              "      <td>venture</td>\n",
              "      <td>05-01-2015</td>\n",
              "      <td>10,000,000.00</td>\n",
              "      <td>/organization/-fame</td>\n",
              "      <td>#fame</td>\n",
              "      <td>Media</td>\n",
              "      <td>operating</td>\n",
              "      <td>IND</td>\n",
              "      <td>media</td>\n",
              "      <td>Entertainment</td>\n",
              "      <td>33</td>\n",
              "      <td>280,830,000.00</td>\n",
              "    </tr>\n",
              "    <tr>\n",
              "      <th>1</th>\n",
              "      <td>/funding-round/6035248811c9530b11bd442d9239a0b1</td>\n",
              "      <td>venture</td>\n",
              "      <td>27-11-2006</td>\n",
              "      <td>5,000,000.00</td>\n",
              "      <td>/organization/dhruva</td>\n",
              "      <td>Dhruva</td>\n",
              "      <td>Games</td>\n",
              "      <td>operating</td>\n",
              "      <td>IND</td>\n",
              "      <td>games</td>\n",
              "      <td>Entertainment</td>\n",
              "      <td>33</td>\n",
              "      <td>280,830,000.00</td>\n",
              "    </tr>\n",
              "    <tr>\n",
              "      <th>2</th>\n",
              "      <td>/funding-round/6b024f4906c288c66d1df966e6aeb256</td>\n",
              "      <td>venture</td>\n",
              "      <td>29-03-2007</td>\n",
              "      <td>5,000,000.00</td>\n",
              "      <td>/organization/games2win</td>\n",
              "      <td>Games2Win</td>\n",
              "      <td>Games</td>\n",
              "      <td>operating</td>\n",
              "      <td>IND</td>\n",
              "      <td>games</td>\n",
              "      <td>Entertainment</td>\n",
              "      <td>33</td>\n",
              "      <td>280,830,000.00</td>\n",
              "    </tr>\n",
              "    <tr>\n",
              "      <th>3</th>\n",
              "      <td>/funding-round/b095563fd43d1e4fd16da3f4bcd040af</td>\n",
              "      <td>venture</td>\n",
              "      <td>30-03-2011</td>\n",
              "      <td>6,000,000.00</td>\n",
              "      <td>/organization/games2win</td>\n",
              "      <td>Games2Win</td>\n",
              "      <td>Games</td>\n",
              "      <td>operating</td>\n",
              "      <td>IND</td>\n",
              "      <td>games</td>\n",
              "      <td>Entertainment</td>\n",
              "      <td>33</td>\n",
              "      <td>280,830,000.00</td>\n",
              "    </tr>\n",
              "    <tr>\n",
              "      <th>4</th>\n",
              "      <td>/funding-round/adb94c131e001a7438a4695d873d8dc1</td>\n",
              "      <td>venture</td>\n",
              "      <td>03-11-2015</td>\n",
              "      <td>5,000,000.00</td>\n",
              "      <td>/organization/pokkt</td>\n",
              "      <td>POKKT</td>\n",
              "      <td>Games</td>\n",
              "      <td>operating</td>\n",
              "      <td>IND</td>\n",
              "      <td>games</td>\n",
              "      <td>Entertainment</td>\n",
              "      <td>33</td>\n",
              "      <td>280,830,000.00</td>\n",
              "    </tr>\n",
              "  </tbody>\n",
              "</table>\n",
              "</div>"
            ],
            "text/plain": [
              "                           funding_round_permalink funding_round_type  \\\n",
              "0  /funding-round/9a01d05418af9f794eebff7ace91f638            venture   \n",
              "1  /funding-round/6035248811c9530b11bd442d9239a0b1            venture   \n",
              "2  /funding-round/6b024f4906c288c66d1df966e6aeb256            venture   \n",
              "3  /funding-round/b095563fd43d1e4fd16da3f4bcd040af            venture   \n",
              "4  /funding-round/adb94c131e001a7438a4695d873d8dc1            venture   \n",
              "\n",
              "    funded_at  raised_amount_usd                permalink       name  \\\n",
              "0  05-01-2015      10,000,000.00      /organization/-fame      #fame   \n",
              "1  27-11-2006       5,000,000.00     /organization/dhruva     Dhruva   \n",
              "2  29-03-2007       5,000,000.00  /organization/games2win  Games2Win   \n",
              "3  30-03-2011       6,000,000.00  /organization/games2win  Games2Win   \n",
              "4  03-11-2015       5,000,000.00      /organization/pokkt      POKKT   \n",
              "\n",
              "  category_list     status country_code primary_sector    main_sector  count  \\\n",
              "0         Media  operating          IND          media  Entertainment     33   \n",
              "1         Games  operating          IND          games  Entertainment     33   \n",
              "2         Games  operating          IND          games  Entertainment     33   \n",
              "3         Games  operating          IND          games  Entertainment     33   \n",
              "4         Games  operating          IND          games  Entertainment     33   \n",
              "\n",
              "             sum  \n",
              "0 280,830,000.00  \n",
              "1 280,830,000.00  \n",
              "2 280,830,000.00  \n",
              "3 280,830,000.00  \n",
              "4 280,830,000.00  "
            ]
          },
          "metadata": {
            "tags": []
          },
          "execution_count": 210
        }
      ]
    },
    {
      "cell_type": "code",
      "metadata": {
        "id": "P93vU4XfO9VX",
        "outputId": "ccd5910d-4cd4-444f-91a5-b75a6db868c7"
      },
      "source": [
        "# After adding sum and count columns\n",
        "# Rows are not lost cols are added against main_sector\n",
        "D3.info()"
      ],
      "execution_count": null,
      "outputs": [
        {
          "output_type": "stream",
          "text": [
            "<class 'pandas.core.frame.DataFrame'>\n",
            "Int64Index: 328 entries, 0 to 327\n",
            "Data columns (total 13 columns):\n",
            "funding_round_permalink    328 non-null object\n",
            "funding_round_type         328 non-null object\n",
            "funded_at                  328 non-null object\n",
            "raised_amount_usd          328 non-null float64\n",
            "permalink                  328 non-null object\n",
            "name                       328 non-null object\n",
            "category_list              328 non-null object\n",
            "status                     328 non-null object\n",
            "country_code               328 non-null object\n",
            "primary_sector             328 non-null object\n",
            "main_sector                328 non-null object\n",
            "count                      328 non-null int64\n",
            "sum                        328 non-null float64\n",
            "dtypes: float64(2), int64(1), object(10)\n",
            "memory usage: 35.9+ KB\n"
          ],
          "name": "stdout"
        }
      ]
    },
    {
      "cell_type": "code",
      "metadata": {
        "id": "UFSnZU3ZO9Vb",
        "outputId": "4c8de0c4-2c49-43b2-f7ef-a309f7e2cf9f"
      },
      "source": [
        "D1.shape"
      ],
      "execution_count": null,
      "outputs": [
        {
          "output_type": "execute_result",
          "data": {
            "text/plain": [
              "(12063, 13)"
            ]
          },
          "metadata": {
            "tags": []
          },
          "execution_count": 212
        }
      ]
    },
    {
      "cell_type": "code",
      "metadata": {
        "id": "9Af43JQyO9Vd",
        "outputId": "c5ebfc4e-cc9b-4f96-ca3c-e038bb01a578"
      },
      "source": [
        "D2.shape"
      ],
      "execution_count": null,
      "outputs": [
        {
          "output_type": "execute_result",
          "data": {
            "text/plain": [
              "(621, 13)"
            ]
          },
          "metadata": {
            "tags": []
          },
          "execution_count": 213
        }
      ]
    },
    {
      "cell_type": "code",
      "metadata": {
        "id": "5N46yBIKO9Ve",
        "outputId": "88991265-98f3-4dce-dde6-65e207a1e03b"
      },
      "source": [
        "D3.shape"
      ],
      "execution_count": null,
      "outputs": [
        {
          "output_type": "execute_result",
          "data": {
            "text/plain": [
              "(328, 13)"
            ]
          },
          "metadata": {
            "tags": []
          },
          "execution_count": 214
        }
      ]
    },
    {
      "cell_type": "code",
      "metadata": {
        "id": "p5fap46sO9Vg",
        "outputId": "0f13072a-c475-47bb-e716-61c2a107f1c6"
      },
      "source": [
        "D1_top3_mainsec = D1[D1['main_sector'].isin(['Others','Social, Finance, Analytics, Advertising','Cleantech / Semiconductors'])]\n",
        "D1_top3_mainsec.shape"
      ],
      "execution_count": null,
      "outputs": [
        {
          "output_type": "execute_result",
          "data": {
            "text/plain": [
              "(8014, 13)"
            ]
          },
          "metadata": {
            "tags": []
          },
          "execution_count": 215
        }
      ]
    },
    {
      "cell_type": "code",
      "metadata": {
        "id": "nP8g3tA3O9Vi",
        "outputId": "89c60f87-f967-4c7e-e2bb-591dbd7cc17b"
      },
      "source": [
        "D2_top3_mainsec = D2[D2['main_sector'].isin(['Others','Social, Finance, Analytics, Advertising','Cleantech / Semiconductors'])]\n",
        "D2_top3_mainsec.shape"
      ],
      "execution_count": null,
      "outputs": [
        {
          "output_type": "execute_result",
          "data": {
            "text/plain": [
              "(410, 13)"
            ]
          },
          "metadata": {
            "tags": []
          },
          "execution_count": 216
        }
      ]
    },
    {
      "cell_type": "code",
      "metadata": {
        "id": "FVG6by55O9Vk",
        "outputId": "06cd518d-fe9f-405c-d618-168b257a838c"
      },
      "source": [
        "D3_top3_mainsec = D3[D3['main_sector'].isin(['Others','Social, Finance, Analytics, Advertising','News, Search and Messaging'])]\n",
        "D3_top3_mainsec.shape"
      ],
      "execution_count": null,
      "outputs": [
        {
          "output_type": "execute_result",
          "data": {
            "text/plain": [
              "(222, 13)"
            ]
          },
          "metadata": {
            "tags": []
          },
          "execution_count": 217
        }
      ]
    },
    {
      "cell_type": "code",
      "metadata": {
        "id": "BkWCZXFUO9Vm",
        "outputId": "b36210ee-9a29-4430-ef50-b44da633b465"
      },
      "source": [
        "# D1_D2 = pd.merge(D1_top3_mainsec, D2_top3_mainsec, how='inner', on='main_sector')\n",
        "# D1_D2_D3 = pd.merge(D1_D2, D3_top3_mainsec, how='inner', on='main_sector')\n",
        "# Same number of columns\n",
        "D1_D2 = pd.concat([D1_top3_mainsec, D2_top3_mainsec], axis = 0)\n",
        "D1_D2_D3 = pd.concat([D1_D2, D3_top3_mainsec], axis = 0)\n",
        "D1_D2_D3.shape"
      ],
      "execution_count": null,
      "outputs": [
        {
          "output_type": "execute_result",
          "data": {
            "text/plain": [
              "(8646, 13)"
            ]
          },
          "metadata": {
            "tags": []
          },
          "execution_count": 218
        }
      ]
    },
    {
      "cell_type": "code",
      "metadata": {
        "id": "BvaBzJ5EO9Vo",
        "outputId": "e1423024-dcb7-436a-d54b-fbc7393c33b3"
      },
      "source": [
        "# A plot showing the number of investments in the top 3 sectors of the top 3 countries on one chart (for the chosen investment type FT). \n",
        "plt.figure(figsize=(10, 5))\n",
        "# sns.countplot(x = \"country_code\", data = top3_english)\n",
        "sns.countplot(y = \"main_sector\", data=D1_D2_D3)\n",
        "plt.title(\"Number of investments in the top 3 sectors of the top 3 countries\")\n",
        "plt.show()"
      ],
      "execution_count": null,
      "outputs": [
        {
          "output_type": "display_data",
          "data": {
            "image/png": "[encoded data removed]",
            "text/plain": [
              "<Figure size 720x360 with 1 Axes>"
            ]
          },
          "metadata": {
            "tags": []
          }
        }
      ]
    },
    {
      "cell_type": "code",
      "metadata": {
        "id": "RW1H4n9nO9Vq",
        "outputId": "1cdf10b7-e071-47c8-f331-e02895d1557f"
      },
      "source": [
        "plt.figure(figsize=(10, 5))\n",
        "# sns.countplot(x = \"country_code\", data = top3_english)\n",
        "sns.barplot(hue = \"main_sector\", x='country_code', y= 'raised_amount_usd', data=D1_D2_D3, estimator = sum)\n",
        "plt.title(\"Number of investments in the top 3 sectors country wise\")\n",
        "plt.show()"
      ],
      "execution_count": null,
      "outputs": [
        {
          "output_type": "display_data",
          "data": {
            "image/png": "[encoded data removed]",
            "text/plain": [
              "<Figure size 720x360 with 1 Axes>"
            ]
          },
          "metadata": {
            "tags": []
          }
        }
      ]
    }
  ]
}